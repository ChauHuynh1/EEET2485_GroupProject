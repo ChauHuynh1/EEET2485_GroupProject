{
 "cells": [
  {
   "attachments": {},
   "cell_type": "markdown",
   "id": "f045b3e3",
   "metadata": {},
   "source": [
    "<h1 style=\"color:#ffc0cb;font-size:70px;font-family:Georgia;text-align:center;\"><strong>Group Assignment</strong></h1>\n",
    "<h2 style=\"color:#ffc0cb;font-size:70px;font-family:Georgia;text-align:center;\"><strong>Occupancy Estimation</strong></h2>\n",
    "\n",
    "### <b>Group 10</b>\n",
    "### <b>Student Name: Nguyen Dang Huynh Chau (s3777214)</b>\n",
    "### <b>Student Name: Truong Phu Khang ()</b>\n",
    "### <b>Student Name: </b>\n",
    "### <b>Student Name: </b>\n",
    "### <b>Student Name: </b>\n",
    "\n",
    "### <b>Course: EEET2485 - Research Method for Engineers</b>\n",
    "### <b>Lecturer: Dr. Dao Vu Truong Son</b>"
   ]
  },
  {
   "cell_type": "markdown",
   "id": "44cc16d7",
   "metadata": {},
   "source": [
    "<h1 style=\"color:#ffc0cb;font-size:40px;font-family:Georgia;text-align:center;\"><strong> 📜 Table of Content</strong></h1>\n",
    "\n",
    "### 1. [Data Preparation](#1)\n",
    "\n",
    "1.1 [Introduction](#1.1) \n",
    "\n",
    "1.2 [Target question for insights](#1.2)\n",
    "\n",
    "1.3 [Importing Necessary Libraries and datasets](#1.3)\n",
    "\n",
    "1.4 [Data Retrieving](#1.4)\n",
    "\n",
    "1.5 [Data information](#1.5)\n",
    "\n",
    "<br>\n",
    "\n",
    "### 2. [Data Cleaning](#2)\n",
    "\n",
    "2.1 [About This Dataset](#2.1)\n",
    "\n",
    "2.2 [Data preprocessing](#2.2)\n",
    "\n",
    "> - 2.2.1 [Drop column `ID` and `Insurance`](#2.2.1)\n",
    "> - 2.2.2 [Rename column `Sepssis`](#2.2.2)  \n",
    "> - 2.2.3 [Convert `Sepsis` in to binary number](#2.2.3)\n",
    "> - 2.2.4 [Drop Duplicate](#2.2.4)  \n",
    "> - 2.2.5 [Convert Data Type](#2.2.5)  \n",
    "\n",
    "2.3 [Drop column](#2.3)\n",
    "\n",
    "> - 2.3.1 [Check correllation for dropping](#2.3.1)\n",
    "> - 2.3.2 [Check missing values for dropping](#2.3.2)  \n",
    "\n",
    "2.4 [Upper Case the content](#2.4)\n",
    "\n",
    "2.5 [Extra-whitespaces](#2.5)\n",
    "\n",
    "2.6 [Descriptive statistics for Central Tendency](#2.6)\n",
    "\n",
    "> - 2.6.1 [Overview statistics](#2.6.1)\n",
    "> - 2.6.2 [Domain Knowledge](#2.6.2)  \n",
    "> - 2.6.3 [Detect Outliers](#2.6.2)  \n",
    "\n",
    "2.7 [Save The Intermediate Data](#2.8)\n",
    "\n",
    "<br>\n",
    "\n",
    "### 3. [Data exploration (EDA)](#3)\n",
    "\n",
    "3.1 [Overall look on target variable](#3.1)\n",
    "\n",
    "> - 3.1.1 [Distribution of Sepsis](#3.1.1) \n",
    "> - 3.1.2 [Proportion of Sepsis](#3.1.1) \n",
    "\n",
    "3.2 [Frequency of each corresponiding Target variable type](#3.2)\n",
    "\n",
    "> - 3.2.1 [How old are they?](#3.2.1) \n",
    "> - 3.2.2 [How much they weight?](#3.2.2) \n",
    "> - 3.2.3 [How high PL (Blood Work Result-1 (mu U/ml)) that the Sepsis is likely to get?](#3.2.3) \n",
    "> - 3.2.4 [How high PR ((Blood Pressure (mm Hg)) that the Sepsis is likely to get?](#3.2.4) \n",
    "> - 3.2.5 [How high SK (Blood Work Result-2 (mm) that the Sepsis is likely to get?](#3.2.5) \n",
    "> - 3.2.6 [How high TS (Blood Work Result-3 (mu U/ml)) that the Sepsis is likely to get?](#3.2.6) \n",
    "> - 3.2.7 [How high BD2 (Blood Work Result-4 (mu U/ml)) that the Sepsis is likely to get?](#3.2.7) \n",
    "> - 3.2.8 [How high BD2 (Blood Work Result-4 (mu U/ml)) that the Sepsis is likely to get?](#3.2.8) \n",
    "> - 3.2.9 [Scatter matrix](#3.2.8) \n",
    "\n",
    "3.3 [Statistical Test for Correlation](#3.3)\n",
    "\n",
    "3.4 [Summary](#3.3)\n",
    "\n",
    "<br>\n",
    "\n",
    "### 4. [Feature Engineering](#4)\n",
    "\n",
    "4.1 [Class Imbalancing](#4.1)\n",
    "\n",
    "4.2 [Splitting the training data](#4.2)\n",
    "\n",
    "4.3 [Feature Scaling](#4.3)\n",
    "\n",
    "\n",
    "\n",
    "<br>\n",
    "\n",
    "### 5. [Model Building](#5) \n",
    "\n",
    "5.1 [Logistic Regression](#5.1)\n",
    "\n",
    "> - 5.1.1 [Train Model](#5.1.1)\n",
    "> - 5.1.2 [Model Evaluation](#5.1.2)\n",
    "> - 5.1.3 [Hypertuning parameter](#5.1.3)\n",
    "> - 5.1.4 [Retrain](#5.1.4)\n",
    "> - 5.1.5 [Conclusion](#5.1.5)\n",
    "\n",
    "5.2 [Decision Tree](#5.2)\n",
    "\n",
    "> - 5.2.1 [Train Model](#5.2.1)\n",
    "> - 5.2.2 [Hypertuning & Pruning](#5.2.2)\n",
    "\n",
    "> - 5.2.2.a [Post-Pruning](#5.2.2.a)\n",
    "> - 5.2.2.b [Pre-Pruning](#5.2.2.b)\n",
    "> - 5.2.2.c [Hypertuning parameter](#5.2.2.c)\n",
    "\n",
    "> - 5.2.3 [Hypertuning parameter](#5.2.3)\n",
    "> - 5.2.4 [Conclusion](#5.2.3)\n",
    "\n",
    "5.3 [Random Forest](#5.3)\n",
    "\n",
    "> - 5.3.1 [Train Model](#5.3.1)\n",
    "> - 5.3.2 [Model Evaluation](#5.3.2)\n",
    "> - 5.3.3 [Hypertuning parameter](#5.3.3)\n",
    "> - 5.3.4 [Retrain](#5.3.4)\n",
    "> - 5.3.5 [Conclusion](#5.3.5)\n",
    "\n",
    "<br>\n",
    "\n",
    "### 6. [Conculsions](#5)\n",
    "\n",
    "<br>\n",
    "\n",
    "### 7. [References](#7)\n",
    "\n",
    "<br>\n",
    "\n",
    "### 8. [Appendix](#8)\n",
    "\n",
    "<hr>"
   ]
  },
  {
   "cell_type": "markdown",
   "id": "0e54a678",
   "metadata": {},
   "source": [
    "<a id=\"1\"></a>\n",
    "<h1 style=\"color:#ffc0cb;font-size:40px;font-family:Georgia;text-align:center;\"><strong> ✍️ 1. Data Preparation</strong></h1>"
   ]
  },
  {
   "cell_type": "markdown",
   "id": "878efddc",
   "metadata": {},
   "source": [
    "<a id=\"1.1\"></a>\n",
    "# ️🎯 1.1 Introduction\n",
    "****\n",
    "\n",
    "<p style=\"list-style-type:circle;font-family:Yu Mincho Demibold;font-size:20px;color:black\"> This is for intro </p>\n",
    "\n",
    "## 📣 What will you get after this notebook?\n",
    "\n",
    "<ul style=\"list-style-type:circle;font-family:Yu Mincho Demibold;font-size:20px;color:black\">\n",
    "    <li>Some clear insights</li>\n",
    "</ul>"
   ]
  },
  {
   "cell_type": "markdown",
   "id": "02360045",
   "metadata": {},
   "source": [
    "<a id=\"1.2\"></a>\n",
    "# ️🎯 1.2 Target question for insights\n",
    "****\n",
    "<ul style=\"list-style-type:circle;font-family:Yu Mincho Demibold;font-size:20px;color:black\">\n",
    "    <li>Which <span style=\"color:#122ecc;\">Age </span> get the highest probability get Sepsis?</li>\n",
    "</ul>"
   ]
  },
  {
   "cell_type": "markdown",
   "id": "021f2e47",
   "metadata": {},
   "source": [
    "<a id=\"1.3\"></a>\n",
    "# ✴️ 1.3 Importing Necessary Libraries and datasets\n",
    "****"
   ]
  },
  {
   "cell_type": "code",
   "execution_count": 1,
   "id": "9cb03fa0",
   "metadata": {},
   "outputs": [],
   "source": [
    "import sys\n",
    "!{sys.executable} -m pip -q install missingno\n",
    "!{sys.executable} -m pip -q install graphviz\n",
    "!{sys.executable} -m pip -q install researchpy\n",
    "!{sys.executable} -m pip -q install imbalanced-learn\n",
    "\n",
    "# import libraries which are pandas and numpy\n",
    "import pandas as pd\n",
    "import numpy as np\n",
    "import missingno as msno\n",
    "\n",
    "\n",
    "#for plots\n",
    "import matplotlib.pyplot as plt\n",
    "plt.rcParams[\"figure.figsize\"]= 15,10\n",
    "\n",
    "#Libraries for plotting\n",
    "# Modules for data visualization\n",
    "import seaborn as sns\n",
    "import matplotlib.patches as mpatches\n",
    "sns.set_theme(style=\"ticks\", color_codes=True) #set theme in seaborn\n",
    "# scatter matrix library\n",
    "from pandas.plotting import scatter_matrix"
   ]
  },
  {
   "cell_type": "markdown",
   "id": "2896fc04",
   "metadata": {},
   "source": [
    "## Check numpy and pandas version"
   ]
  },
  {
   "cell_type": "code",
   "execution_count": 2,
   "id": "21ed321f",
   "metadata": {},
   "outputs": [
    {
     "name": "stdout",
     "output_type": "stream",
     "text": [
      "Numpy version:  1.22.3\n",
      "Pandas version:  1.3.4\n",
      "Python 3.9.7\r\n"
     ]
    }
   ],
   "source": [
    "# check the version of the packages\n",
    "print(\"Numpy version: \", np.__version__)\n",
    "print(\"Pandas version: \",pd.__version__)\n",
    "! python --version"
   ]
  },
  {
   "cell_type": "markdown",
   "id": "accfd412",
   "metadata": {},
   "source": [
    "### ------------> OBSERVATION\n",
    "***\n",
    "I want to check the numpy and pandas version since I want to make sure the verson is appropriate for my work load. Currently, it is still appropriate"
   ]
  },
  {
   "cell_type": "markdown",
   "id": "686868a7",
   "metadata": {},
   "source": [
    "<a id=\"1.4\"></a>\n",
    "# 📲 1.4 Data Retrieving\n",
    "***\n"
   ]
  },
  {
   "cell_type": "code",
   "execution_count": 3,
   "id": "532c2ed8",
   "metadata": {},
   "outputs": [
    {
     "name": "stdout",
     "output_type": "stream",
     "text": [
      "The shape of the ORGINAL data is (row, column): (10129, 19)\n"
     ]
    },
    {
     "data": {
      "text/html": [
       "<div>\n",
       "<style scoped>\n",
       "    .dataframe tbody tr th:only-of-type {\n",
       "        vertical-align: middle;\n",
       "    }\n",
       "\n",
       "    .dataframe tbody tr th {\n",
       "        vertical-align: top;\n",
       "    }\n",
       "\n",
       "    .dataframe thead th {\n",
       "        text-align: right;\n",
       "    }\n",
       "</style>\n",
       "<table border=\"1\" class=\"dataframe\">\n",
       "  <thead>\n",
       "    <tr style=\"text-align: right;\">\n",
       "      <th></th>\n",
       "      <th>Date</th>\n",
       "      <th>Time</th>\n",
       "      <th>S1_Temp</th>\n",
       "      <th>S2_Temp</th>\n",
       "      <th>S3_Temp</th>\n",
       "      <th>S4_Temp</th>\n",
       "      <th>S1_Light</th>\n",
       "      <th>S2_Light</th>\n",
       "      <th>S3_Light</th>\n",
       "      <th>S4_Light</th>\n",
       "      <th>S1_Sound</th>\n",
       "      <th>S2_Sound</th>\n",
       "      <th>S3_Sound</th>\n",
       "      <th>S4_Sound</th>\n",
       "      <th>S5_CO2</th>\n",
       "      <th>S5_CO2_Slope</th>\n",
       "      <th>S6_PIR</th>\n",
       "      <th>S7_PIR</th>\n",
       "      <th>Room_Occupancy_Count</th>\n",
       "    </tr>\n",
       "  </thead>\n",
       "  <tbody>\n",
       "    <tr>\n",
       "      <th>0</th>\n",
       "      <td>2017/12/22</td>\n",
       "      <td>10:49:41</td>\n",
       "      <td>24.94</td>\n",
       "      <td>24.75</td>\n",
       "      <td>24.56</td>\n",
       "      <td>25.38</td>\n",
       "      <td>121</td>\n",
       "      <td>34</td>\n",
       "      <td>53</td>\n",
       "      <td>40</td>\n",
       "      <td>0.08</td>\n",
       "      <td>0.19</td>\n",
       "      <td>0.06</td>\n",
       "      <td>0.06</td>\n",
       "      <td>390</td>\n",
       "      <td>0.769231</td>\n",
       "      <td>0</td>\n",
       "      <td>0</td>\n",
       "      <td>1</td>\n",
       "    </tr>\n",
       "    <tr>\n",
       "      <th>1</th>\n",
       "      <td>2017/12/22</td>\n",
       "      <td>10:50:12</td>\n",
       "      <td>24.94</td>\n",
       "      <td>24.75</td>\n",
       "      <td>24.56</td>\n",
       "      <td>25.44</td>\n",
       "      <td>121</td>\n",
       "      <td>33</td>\n",
       "      <td>53</td>\n",
       "      <td>40</td>\n",
       "      <td>0.93</td>\n",
       "      <td>0.05</td>\n",
       "      <td>0.06</td>\n",
       "      <td>0.06</td>\n",
       "      <td>390</td>\n",
       "      <td>0.646154</td>\n",
       "      <td>0</td>\n",
       "      <td>0</td>\n",
       "      <td>1</td>\n",
       "    </tr>\n",
       "    <tr>\n",
       "      <th>2</th>\n",
       "      <td>2017/12/22</td>\n",
       "      <td>10:50:42</td>\n",
       "      <td>25.00</td>\n",
       "      <td>24.75</td>\n",
       "      <td>24.50</td>\n",
       "      <td>25.44</td>\n",
       "      <td>121</td>\n",
       "      <td>34</td>\n",
       "      <td>53</td>\n",
       "      <td>40</td>\n",
       "      <td>0.43</td>\n",
       "      <td>0.11</td>\n",
       "      <td>0.08</td>\n",
       "      <td>0.06</td>\n",
       "      <td>390</td>\n",
       "      <td>0.519231</td>\n",
       "      <td>0</td>\n",
       "      <td>0</td>\n",
       "      <td>1</td>\n",
       "    </tr>\n",
       "  </tbody>\n",
       "</table>\n",
       "</div>"
      ],
      "text/plain": [
       "         Date      Time  S1_Temp  S2_Temp  S3_Temp  S4_Temp  S1_Light  \\\n",
       "0  2017/12/22  10:49:41    24.94    24.75    24.56    25.38       121   \n",
       "1  2017/12/22  10:50:12    24.94    24.75    24.56    25.44       121   \n",
       "2  2017/12/22  10:50:42    25.00    24.75    24.50    25.44       121   \n",
       "\n",
       "   S2_Light  S3_Light  S4_Light  S1_Sound  S2_Sound  S3_Sound  S4_Sound  \\\n",
       "0        34        53        40      0.08      0.19      0.06      0.06   \n",
       "1        33        53        40      0.93      0.05      0.06      0.06   \n",
       "2        34        53        40      0.43      0.11      0.08      0.06   \n",
       "\n",
       "   S5_CO2  S5_CO2_Slope  S6_PIR  S7_PIR  Room_Occupancy_Count  \n",
       "0     390      0.769231       0       0                     1  \n",
       "1     390      0.646154       0       0                     1  \n",
       "2     390      0.519231       0       0                     1  "
      ]
     },
     "execution_count": 3,
     "metadata": {},
     "output_type": "execute_result"
    }
   ],
   "source": [
    "df = pd.read_csv(\"Data/Occupancy_Estimation.csv\", delimiter=',', skipinitialspace = True)\n",
    "\n",
    "df.columns = df.columns.str.replace(' ', '') #strip the extra-whitespaces out\n",
    "\n",
    "print(\"The shape of the ORGINAL data is (row, column):\", str(df.shape))\n",
    "\n",
    "# drop Unnamed, it is just a number given to identify each house\n",
    "df.head(3)"
   ]
  },
  {
   "cell_type": "markdown",
   "id": "a135e3ff",
   "metadata": {},
   "source": [
    "<a id=\"1.5\"></a>\n",
    "# 🔈 1.5 Data Information\n",
    "****\n",
    "I want to have an overall look on both of the train and test dataset, so I use .shape and .info() function in python to do that."
   ]
  },
  {
   "cell_type": "code",
   "execution_count": 4,
   "id": "d31955b7",
   "metadata": {},
   "outputs": [
    {
     "name": "stdout",
     "output_type": "stream",
     "text": [
      "The shape of the train data is (row, column):(10129, 19)\n",
      "<class 'pandas.core.frame.DataFrame'>\n",
      "RangeIndex: 10129 entries, 0 to 10128\n",
      "Data columns (total 19 columns):\n",
      " #   Column                Non-Null Count  Dtype  \n",
      "---  ------                --------------  -----  \n",
      " 0   Date                  10129 non-null  object \n",
      " 1   Time                  10129 non-null  object \n",
      " 2   S1_Temp               10129 non-null  float64\n",
      " 3   S2_Temp               10129 non-null  float64\n",
      " 4   S3_Temp               10129 non-null  float64\n",
      " 5   S4_Temp               10129 non-null  float64\n",
      " 6   S1_Light              10129 non-null  int64  \n",
      " 7   S2_Light              10129 non-null  int64  \n",
      " 8   S3_Light              10129 non-null  int64  \n",
      " 9   S4_Light              10129 non-null  int64  \n",
      " 10  S1_Sound              10129 non-null  float64\n",
      " 11  S2_Sound              10129 non-null  float64\n",
      " 12  S3_Sound              10129 non-null  float64\n",
      " 13  S4_Sound              10129 non-null  float64\n",
      " 14  S5_CO2                10129 non-null  int64  \n",
      " 15  S5_CO2_Slope          10129 non-null  float64\n",
      " 16  S6_PIR                10129 non-null  int64  \n",
      " 17  S7_PIR                10129 non-null  int64  \n",
      " 18  Room_Occupancy_Count  10129 non-null  int64  \n",
      "dtypes: float64(9), int64(8), object(2)\n",
      "memory usage: 1.5+ MB\n",
      "None\n"
     ]
    }
   ],
   "source": [
    "print (\"The shape of the train data is (row, column):\"+ str(df.shape))\n",
    "print (df.info())"
   ]
  },
  {
   "cell_type": "markdown",
   "id": "315b9e8e",
   "metadata": {},
   "source": [
    "### ------------> OBSERVATION\n",
    "***\n",
    "From this, the information that I gained from the train dataset are the total paitent record is 599 with no missing and it has 11 columns with the target variable `Sepsis."
   ]
  },
  {
   "cell_type": "code",
   "execution_count": 5,
   "id": "ff2fc2f5",
   "metadata": {},
   "outputs": [
    {
     "ename": "NameError",
     "evalue": "name 'stop' is not defined",
     "output_type": "error",
     "traceback": [
      "\u001b[0;31m---------------------------------------------------------------------------\u001b[0m",
      "\u001b[0;31mNameError\u001b[0m                                 Traceback (most recent call last)",
      "\u001b[0;32m/var/folders/l5/0ygc5m0x66xc7d4v2qzjjv0h0000gn/T/ipykernel_27932/3957423419.py\u001b[0m in \u001b[0;36m<module>\u001b[0;34m\u001b[0m\n\u001b[0;32m----> 1\u001b[0;31m \u001b[0mstop\u001b[0m\u001b[0;34m\u001b[0m\u001b[0;34m\u001b[0m\u001b[0m\n\u001b[0m",
      "\u001b[0;31mNameError\u001b[0m: name 'stop' is not defined"
     ]
    }
   ],
   "source": [
    "stop"
   ]
  },
  {
   "cell_type": "markdown",
   "id": "512f5b86",
   "metadata": {},
   "source": [
    "<a id=\"2\"></a>\n",
    "<h1 style=\"color:#ffc0cb;font-size:40px;font-family:Georgia;text-align:center;\"><strong> 🧹 2. Data Cleaning</strong></h1>"
   ]
  },
  {
   "cell_type": "markdown",
   "id": "5982289a",
   "metadata": {},
   "source": [
    "<a id=\"2.1\"></a>\n",
    "# 🦄 2.1 About This Dataset\n",
    "***\n",
    "\n",
    "<p style=\"list-style-type:circle;font-family:Yu Mincho Demibold;font-size:20px;color:black\">The dataset is splitted into two groups: </p>\n",
    "\n",
    "<ul style=\"list-style-type:circle;font-family:Yu Mincho Demibold;font-size:20px;color:black\">\n",
    "    <li>Train set (train.csv)</li>\n",
    "    <li>Test set (test.csv)</li>\n",
    "</ul>\n",
    "\n",
    "<p style=\"list-style-type:circle;font-family:Yu Mincho Demibold;font-size:20px;color:black\">Now let's go through the features and describe a little: </p>\n",
    "\n",
    "***\n",
    "**Categorical:** \n",
    "        \n",
    "- **Dichotomous**(Nominal variable with only two categories)\n",
    "   > - **Sepsis** (Positive: if a patient in ICU will develop a sepsis , and Negative: otherwise)\n",
    "            Negative\n",
    "            Positive\n",
    "            \n",
    "- **Ordinal**(just like nominal datatype but can be ordered or ranked)\n",
    "   > - **Age** (Patients age (years)) : this could be numerical and ordinal since it can be ordered\n",
    "***\n",
    "**Numeric:**\n",
    "- **Discrete**\n",
    "  >  - **PRG** (Plasma glucose)\n",
    "\n",
    "- **Continous**\n",
    ">  - **Age** (Patients age (years))\n",
    ">  - **PL** (Platelets levels in the blood. Blood Work Result-1 (mu U/ml))\n",
    ">  - **PR** (Pulse rate: Blood Pressure (mm Hg))\n",
    ">  - **SK** (A sodium blood test. Blood Work Result-2 (mm)\n",
    ">  - **TS** (Blood Work Result-3 (mu U/ml))\n",
    ">  - **M11** (Body mass index (weight in kg/(height in m)^2)\n",
    ">  - **BD2** (Blood Work Result-4 (mu U/ml))\n",
    "\n"
   ]
  },
  {
   "cell_type": "markdown",
   "id": "4a9b5bc4",
   "metadata": {},
   "source": [
    "<a id=\"2.2\"></a>\n",
    "# ❌ 2.2 Data preprocessing\n",
    "***"
   ]
  },
  {
   "cell_type": "markdown",
   "id": "fe963594",
   "metadata": {},
   "source": [
    "<a id=\"2.2.1\"></a>\n",
    "## 🔧 2.2.1 Drop column `ID` and `Insurance`\n",
    "***\n",
    "<ul style=\"list-style-type:circle;font-family:Yu Mincho Demibold;font-size:20px;color:black\">\n",
    "    <li> In order to avoid data leakage, I desire to drop column <span style=\"color:#122ecc;\">ID </span></li>\n",
    "    <li> I also desire to drop <span style=\"color:#122ecc;\">Insurance </span> since it is not related to patient's condition and therefore are not attributes.</li>\n",
    "</ul>"
   ]
  },
  {
   "cell_type": "code",
   "execution_count": null,
   "id": "0f575a2e",
   "metadata": {},
   "outputs": [],
   "source": [
    "train = train.drop(columns=['ID', 'Insurance'])\n",
    "test = test.drop(columns=['Insurance'])"
   ]
  },
  {
   "cell_type": "markdown",
   "id": "91d914fe",
   "metadata": {},
   "source": [
    "<a id=\"2.2.2\"></a>\n",
    "## ⛏ 2.2.2 Rename column `Sepssis`\n",
    "***\n",
    "<p style=\"list-style-type:circle;font-family:Yu Mincho Demibold;font-size:20px;color:black\">Since <span style=\"color:#122ecc;\">Sepssis </span> is not correctly spelled so I want to rewrite it.</p>"
   ]
  },
  {
   "cell_type": "code",
   "execution_count": null,
   "id": "1337478f",
   "metadata": {},
   "outputs": [],
   "source": [
    "train.rename(columns={\"Sepssis\": \"Sepsis\"}, inplace=True)"
   ]
  },
  {
   "cell_type": "markdown",
   "id": "bddc88b4",
   "metadata": {},
   "source": [
    "<a id=\"2.2.3\"></a>\n",
    "## ⌛ 2.2.3 Convert `Sepsis` in to binary number\n",
    "***\n",
    "\n",
    "<p style=\"list-style-type:circle;font-family:Yu Mincho Demibold;font-size:20px;color:black\">Since <span style=\"color:#122ecc;\">Sepssis </span> just have the <span style=\"color:#122ecc;\">Positive </span> and <span style=\"color:#122ecc;\">Negative </span> values so I want to convert them to 0 for Negative and 1 is for Positive</p>"
   ]
  },
  {
   "cell_type": "code",
   "execution_count": null,
   "id": "674370ee",
   "metadata": {},
   "outputs": [],
   "source": [
    "train.loc[train['Sepsis'].isin(['Positive']), 'Sepsis'] = '1'\n",
    "train.loc[train['Sepsis'].isin(['Negative']), 'Sepsis'] = '0'"
   ]
  },
  {
   "cell_type": "markdown",
   "id": "eddc80f0",
   "metadata": {},
   "source": [
    "<a id=\"2.2.4\"></a>\n",
    "## ⌛ 2.2.4 Drop duplicate\n",
    "***\n",
    "Although, there may be no duplicated value but I still want to drop duplicate."
   ]
  },
  {
   "cell_type": "markdown",
   "id": "82e93ede",
   "metadata": {},
   "source": [
    "> **Sample train Dataset**"
   ]
  },
  {
   "cell_type": "code",
   "execution_count": null,
   "id": "86acd645",
   "metadata": {},
   "outputs": [],
   "source": [
    "print (\"The shape of the data set before dropping duplicated:\"+ str(train.shape))\n",
    "\n",
    "train = train.drop_duplicates()\n",
    "\n",
    "print (\"The shape of the data set after dropping duplicated:\"+ str(train.shape))"
   ]
  },
  {
   "cell_type": "markdown",
   "id": "66f6581b",
   "metadata": {},
   "source": [
    "> **Sample test Dataset**"
   ]
  },
  {
   "cell_type": "code",
   "execution_count": null,
   "id": "1dd1b3b8",
   "metadata": {},
   "outputs": [],
   "source": [
    "print (\"The shape of the data set before dropping duplicated:\"+ str(test.shape))\n",
    "\n",
    "test = test.drop_duplicates()\n",
    "\n",
    "print (\"The shape of the data set after dropping duplicated:\"+ str(test.shape))"
   ]
  },
  {
   "cell_type": "markdown",
   "id": "1c96ccb7",
   "metadata": {},
   "source": [
    "<a id=\"2.2.5\"></a>\n",
    "## 🦄 2.2.5 Convert Data Type:\n",
    "***\n",
    "This step is also known as binary enconding, but I want to change values first sine I want to see the multicorrelation.\n"
   ]
  },
  {
   "cell_type": "code",
   "execution_count": null,
   "id": "c4e28b40",
   "metadata": {},
   "outputs": [],
   "source": [
    "train['Sepsis'] = train['Sepsis'].astype('int')"
   ]
  },
  {
   "cell_type": "markdown",
   "id": "6b8171a4",
   "metadata": {},
   "source": [
    "<a id=\"2.3\"></a>\n",
    "# ❌ 2.3 Drop column\n",
    "***\n",
    "There maybe some irrelavant values, multicorrelation and data that may cause data lackage such as ID column. Since then, I want to drop these columns"
   ]
  },
  {
   "cell_type": "markdown",
   "id": "db0ab0a8",
   "metadata": {},
   "source": [
    "<a id=\"2.3.1\"></a>\n",
    "## 🐷 2.3.1 Check correllation for dropping\n",
    "***\n",
    "I want to drop multi-correlation "
   ]
  },
  {
   "cell_type": "code",
   "execution_count": null,
   "id": "b4091587",
   "metadata": {},
   "outputs": [],
   "source": [
    "## get the most important variables. \n",
    "corr = train.corr()**2\n",
    "corr.Sepsis.sort_values(ascending=False)"
   ]
  },
  {
   "cell_type": "code",
   "execution_count": null,
   "id": "5118c7dd",
   "metadata": {},
   "outputs": [],
   "source": [
    "## heatmeap to see the correlation between features. \n",
    "# Generate a mask for the upper triangle (taken from seaborn example gallery)\n",
    "mask = np.zeros_like(train.corr(), dtype=np.bool)\n",
    "mask[np.triu_indices_from(mask)] = True\n",
    "sns.set_style('whitegrid')\n",
    "plt.subplots(figsize = (15,12))\n",
    "sns.heatmap(train.corr(), annot=True, mask = mask,\n",
    "            cmap = 'RdBu', ## in order to reverse the bar replace \"RdBu\" with \"RdBu_r\"\n",
    "            linewidths=.9, linecolor='white', fmt='.2g', center = 0, square=True)\n",
    "plt.title(\"Correlations Among Features\", y = 1.03,fontsize = 20, pad = 40)"
   ]
  },
  {
   "cell_type": "markdown",
   "id": "d3f0e4ea",
   "metadata": {},
   "source": [
    "### ------------> OBSERVATION\n",
    "***\n",
    "- Our target variable is `Sepsis`. So if there are any columns have high correlation (>= 0.5) I desire to drop them.\n",
    "- There are no extremely high multicorrelation so I keep all of them."
   ]
  },
  {
   "cell_type": "markdown",
   "id": "051f8dc9",
   "metadata": {},
   "source": [
    "<a id=\"2.3.2\"></a>\n",
    "## 👀 2.3.2 Check missing values for dropping\n",
    "***\n",
    "\n",
    "<p style=\"list-style-type:circle;font-family:Yu Mincho Demibold;font-size:20px;color:black\"> I want to drop those columns having the missing values that is higher than 50 percent, since If I impute them, there will be bias in my data\n",
    "</p>"
   ]
  },
  {
   "cell_type": "markdown",
   "id": "1561e9ff",
   "metadata": {},
   "source": [
    "> **Sample train Dataset**"
   ]
  },
  {
   "cell_type": "code",
   "execution_count": null,
   "id": "e24b62d9",
   "metadata": {},
   "outputs": [],
   "source": [
    "def missing_percentage(df):\n",
    "    \"\"\"This function takes a DataFrame(df) as input and returns two columns, total missing values and total missing values percentage\"\"\"\n",
    "    total = df.isnull().sum().sort_values(ascending=False)[df.isnull().sum().sort_values(ascending=False) != 0]\n",
    "    percent = round(df.isnull().sum().sort_values(ascending=False) / len(df) * 100, 2)[\n",
    "        round(df.isnull().sum().sort_values(ascending=False) / len(df) * 100, 2) != 0]\n",
    "    return pd.concat([total, percent], axis=1, keys=['Total', 'Percent'])\n",
    "\n",
    "# display missing values in descending\n",
    "print(\"Missing values in the dataframe in descending: \\n\", missing_percentage(train).sort_values(by='Total', ascending=False))\n",
    "\n",
    "# visualize where the missing values are located\n",
    "msno.matrix(train, color=(255 / 255, 192 / 255, 203 / 255))\n",
    "pink_patch = mpatches.Patch(color='pink', label='present value')\n",
    "white_patch = mpatches.Patch(color='white', label='absent value')\n",
    "plt.legend(handles=[pink_patch, white_patch])\n",
    "plt.show()"
   ]
  },
  {
   "cell_type": "markdown",
   "id": "5bfa5ca1",
   "metadata": {},
   "source": [
    "> **Sample test Dataset**"
   ]
  },
  {
   "cell_type": "code",
   "execution_count": null,
   "id": "621f416c",
   "metadata": {},
   "outputs": [],
   "source": [
    "# display missing values in descending\n",
    "print(\"Missing values in the dataframe in descending: \\n\", missing_percentage(test).sort_values(by='Total', ascending=False))\n",
    "\n",
    "# visualize where the missing values are located\n",
    "msno.matrix(test, color=(255 / 255, 192 / 255, 203 / 255))\n",
    "pink_patch = mpatches.Patch(color='pink', label='present value')\n",
    "white_patch = mpatches.Patch(color='white', label='absent value')\n",
    "plt.legend(handles=[pink_patch, white_patch])\n",
    "plt.show()"
   ]
  },
  {
   "cell_type": "markdown",
   "id": "07b8f3a8",
   "metadata": {},
   "source": [
    "### ------> OBSERVATION\n",
    "*****\n",
    "Suprisingly, there is no missing data in both of the dataset."
   ]
  },
  {
   "cell_type": "markdown",
   "id": "ae2fd8ee",
   "metadata": {},
   "source": [
    "<a id=\"2.4\"></a>\n",
    "# 💭 2.4 Upper Case the content\n",
    "****\n",
    "<p style=\"list-style-type:circle;font-family:Yu Mincho Demibold;font-size:20px;color:black\"> \n",
    "Although, in this dataset does not have catergorical values, I still want to do it since this is my stable framework for every dataset. In this section, all the string value in the column will be converted to uppercase for further processing and keep all the string uniformly format.\n",
    "</p>"
   ]
  },
  {
   "cell_type": "markdown",
   "id": "314dd528",
   "metadata": {},
   "source": [
    "> **Sample train Dataset**"
   ]
  },
  {
   "cell_type": "code",
   "execution_count": null,
   "id": "988c311e",
   "metadata": {
    "scrolled": true
   },
   "outputs": [],
   "source": [
    "# Cast all values inside the dataframe (except the columns' name) into upper case.\n",
    "train = train.applymap(lambda s: s.upper() if type(s) == str else s)\n",
    "train.head(3)"
   ]
  },
  {
   "cell_type": "markdown",
   "id": "a09c0284",
   "metadata": {},
   "source": [
    "> **Sample test Dataset**"
   ]
  },
  {
   "cell_type": "code",
   "execution_count": null,
   "id": "e3c01166",
   "metadata": {},
   "outputs": [],
   "source": [
    "# Cast all values inside the dataframe (except the columns' name) into upper case.\n",
    "test = test.applymap(lambda s: s.upper() if type(s) == str else s)\n",
    "test.head(3)"
   ]
  },
  {
   "cell_type": "markdown",
   "id": "88819491",
   "metadata": {},
   "source": [
    "<a id=\"2.5\"></a>\n",
    "# 📚 2.5 Extra-whitespaces:\n",
    "***"
   ]
  },
  {
   "cell_type": "code",
   "execution_count": null,
   "id": "bbee79a3",
   "metadata": {},
   "outputs": [],
   "source": [
    "def whitespace_remover(df):\n",
    "    \"\"\"\n",
    "    The function will remove extra leading and trailing whitespace from the data.\n",
    "    \"\"\"\n",
    "    # iterating over the columns\n",
    "    for i in df.columns:\n",
    "        # checking datatype of each columns\n",
    "        if df[i].dtype == 'object' or df[i].dtype == 'str':\n",
    "            # applying strip function on column\n",
    "            df[i] = df[i].map(str.strip)\n",
    "        else:\n",
    "            # if condition is False then it will do nothing.\n",
    "            pass\n",
    "\n",
    "# remove all the extra whitespace\n",
    "whitespace_remover(train)\n",
    "whitespace_remover(test)"
   ]
  },
  {
   "cell_type": "markdown",
   "id": "ddaa059d",
   "metadata": {},
   "source": [
    "<a id=\"2.6\"></a>\n",
    "# 📊 2.6 Descriptive statistics for Central Tendency\n",
    "****\n",
    "I want to check and validate of the numerical columns:\n",
    "\n",
    "1. Check overview statistics:\n",
    "2. Check the scale\n",
    "3. Check outliers"
   ]
  },
  {
   "cell_type": "markdown",
   "id": "f8853c4a",
   "metadata": {},
   "source": [
    "<a id=\"2.6.1\"></a>\n",
    "# 🔭 2.6.1 Overview statistics\n",
    "****"
   ]
  },
  {
   "cell_type": "markdown",
   "id": "45f1eaed",
   "metadata": {},
   "source": [
    "> **Sample train Dataset**"
   ]
  },
  {
   "cell_type": "code",
   "execution_count": null,
   "id": "b4e487b8",
   "metadata": {},
   "outputs": [],
   "source": [
    "# see the static of all numerical column\n",
    "train.describe().T"
   ]
  },
  {
   "cell_type": "code",
   "execution_count": null,
   "id": "ffe579ce",
   "metadata": {},
   "outputs": [],
   "source": [
    "plt.rcParams['figure.figsize'] = [20, 15]\n",
    "# plot the boxplot to see the outlier of each numerical column\n",
    "sns.boxplot(data=train,orient=\"v\")"
   ]
  },
  {
   "cell_type": "markdown",
   "id": "3a7cb891",
   "metadata": {},
   "source": [
    "### ---------> OBSERVATION\n",
    "****\n",
    "The scale of this data set is considerably large so that I desire to have some of the domain knowlegde in order to detect the outliers."
   ]
  },
  {
   "cell_type": "markdown",
   "id": "3a72da66",
   "metadata": {},
   "source": [
    "## Box plot for numerical columns\n",
    "****"
   ]
  },
  {
   "cell_type": "code",
   "execution_count": null,
   "id": "1d7aab68",
   "metadata": {},
   "outputs": [],
   "source": [
    "train.boxplot('PL')"
   ]
  },
  {
   "cell_type": "code",
   "execution_count": null,
   "id": "b1401947",
   "metadata": {},
   "outputs": [],
   "source": [
    "train.boxplot('PR')"
   ]
  },
  {
   "cell_type": "code",
   "execution_count": null,
   "id": "5dc0534d",
   "metadata": {},
   "outputs": [],
   "source": [
    "train.boxplot('SK')"
   ]
  },
  {
   "cell_type": "code",
   "execution_count": null,
   "id": "88a7dde2",
   "metadata": {},
   "outputs": [],
   "source": [
    "train.boxplot('TS')"
   ]
  },
  {
   "cell_type": "code",
   "execution_count": null,
   "id": "33c72515",
   "metadata": {},
   "outputs": [],
   "source": [
    "train.boxplot('M11')"
   ]
  },
  {
   "cell_type": "code",
   "execution_count": null,
   "id": "f1423877",
   "metadata": {},
   "outputs": [],
   "source": [
    "train.boxplot('BD2')"
   ]
  },
  {
   "cell_type": "markdown",
   "id": "cb7b8747",
   "metadata": {},
   "source": [
    "### ---------> OBSERVATION\n",
    "****\n",
    "There are some outliers, but I still want to consider whether it is appropriate to drop them."
   ]
  },
  {
   "cell_type": "markdown",
   "id": "148f624b",
   "metadata": {},
   "source": [
    "<a id=\"2.6.2\"></a>\n",
    "# 📸 2.6.2 Domain Knowledge:\n",
    "****\n",
    "I want to try to explore the relationship between those columns and the normal range for each of them\n",
    "****\n",
    "**PL** (platelet rate)\n",
    "> A normal platelet count ranges from 150,000 to 450,000 platelets per microliter of blood. Having more than 450,000 platelets is a condition called thrombocytosis; having less than 150,000 is known as thrombocytopenia. [[1](#Link1)]\n",
    "\n",
    "**PR** (pulse rate)\n",
    "> A normal resting heart rate for adults ranges from 60 to 100 beats per minute. [[2](#Link2)]\n",
    "\n",
    "**SK**\n",
    "> Normally, serum potassium (SK) level is tightly maintained between 3.5 mmol/L and 5.5 mmol/L. [[3](#Link3)]\n",
    "\n",
    "**TS**\n",
    "> - The normal range of TSH levels is 0.4 to 4.0 milli-international units per liter. If you’re already being treated for a thyroid disorder, the normal range is 0.5 to 3.0 milli-international units per liter.\n",
    "> - A value above the normal range usually indicates that the thyroid is underactive. This indicates hypothyroidism. When the thyroid isn’t producing enough hormones, the pituitary gland releases more TSH to try to stimulate it.\n",
    "\n",
    "**M11**\n",
    "> - Below 18.5 – you're in the underweight range [[4](#Link4)]\n",
    "> - Between 18.5 and 24.9 – you're in the healthy weight range [[4](#Link4)]\n",
    "> - Between 25 and 29.9 – you're in the overweight range [[4](#Link4)]\n",
    "> - Between 30 and 39.9 – you're in the obese range [[4](#Link4)]\n",
    "\n",
    "**PRG**\n",
    "> - I cannot search\n",
    "\n",
    "**BD2** \n",
    "> - I cannot search\n",
    "\n",
    "****\n",
    "\n",
    "However, I realised that whatever those values will be, the values which are higher or even lower, the higher chance that a patient will get a sepsis\n"
   ]
  },
  {
   "cell_type": "markdown",
   "id": "c236160d",
   "metadata": {},
   "source": [
    "<a id=\"2.6.3\"></a>\n",
    "# 📸 2.6.3 Dectect outliers:\n",
    "****"
   ]
  },
  {
   "cell_type": "markdown",
   "id": "feedd751",
   "metadata": {},
   "source": [
    "## `PL` column:"
   ]
  },
  {
   "cell_type": "markdown",
   "id": "373cb45f",
   "metadata": {},
   "source": [
    "> **Sample train Dataset**"
   ]
  },
  {
   "cell_type": "code",
   "execution_count": null,
   "id": "382fe9f7",
   "metadata": {},
   "outputs": [],
   "source": [
    "train_PL_q_low = train[\"PL\"].quantile(0.01)\n",
    "train_PL_q_hi  = train[\"PL\"].quantile(0.99)\n",
    "\n",
    "df_filtered = train[(train[\"PL\"] > train_PL_q_hi) | (train[\"PL\"] < train_PL_q_low) | (train[\"PL\"] == 0)]\n",
    "print(\"Percentage compare to total: \" + str(len(df_filtered)/ len(train) * 100))\n",
    "df_filtered"
   ]
  },
  {
   "cell_type": "markdown",
   "id": "834b583e",
   "metadata": {},
   "source": [
    "> **Sample test Dataset**"
   ]
  },
  {
   "cell_type": "code",
   "execution_count": null,
   "id": "8acb030c",
   "metadata": {},
   "outputs": [],
   "source": [
    "test_PL_q_low = test[\"PL\"].quantile(0.01)\n",
    "test_PL_q_hi  = test[\"PL\"].quantile(0.99)\n",
    "\n",
    "df_filtered = test[(test[\"PL\"] > test_PL_q_hi) | (test[\"PL\"] < test_PL_q_low) | (test[\"PL\"] == 0)]\n",
    "print(\"Percentage compare to total: \" + str(len(df_filtered)/ len(test) * 100))\n",
    "df_filtered"
   ]
  },
  {
   "cell_type": "markdown",
   "id": "f025fc5f",
   "metadata": {},
   "source": [
    "### ---------> OBSERVATION\n",
    "****\n",
    "- The outliers is insignificant, but, more people are in these special cases have sepsis. So I desire to keep them."
   ]
  },
  {
   "cell_type": "markdown",
   "id": "b8e33ea3",
   "metadata": {},
   "source": [
    "## `PR` column:"
   ]
  },
  {
   "cell_type": "markdown",
   "id": "e771c66c",
   "metadata": {},
   "source": [
    "> **Sample train Dataset**"
   ]
  },
  {
   "cell_type": "code",
   "execution_count": null,
   "id": "700f7479",
   "metadata": {},
   "outputs": [],
   "source": [
    "train_PR_q_low = train[\"PR\"].quantile(0.01)\n",
    "train_PR_q_hi  = train[\"PR\"].quantile(0.99)\n",
    "\n",
    "df_filtered = train[(train[\"PR\"] > train_PR_q_hi) | (train[\"PR\"] < train_PR_q_low) | (train[\"PR\"] == 0)]\n",
    "print(len(df_filtered)/ len(train) * 100)\n",
    "df_filtered"
   ]
  },
  {
   "cell_type": "markdown",
   "id": "26450369",
   "metadata": {},
   "source": [
    "> **Sample test Dataset**"
   ]
  },
  {
   "cell_type": "code",
   "execution_count": null,
   "id": "b180eccf",
   "metadata": {},
   "outputs": [],
   "source": [
    "test_PR_q_low = test[\"PR\"].quantile(0.01)\n",
    "test_PR_q_hi  = test[\"PR\"].quantile(0.99)\n",
    "\n",
    "df_filtered = test[(test[\"PR\"] > test_PR_q_hi) | (test[\"PR\"] < test_PR_q_low) | (test[\"PR\"] == 0)]\n",
    "print(len(df_filtered)/ len(test) * 100)\n",
    "df_filtered"
   ]
  },
  {
   "cell_type": "markdown",
   "id": "038f4c40",
   "metadata": {},
   "source": [
    "### ---------> OBSERVATION\n",
    "****\n",
    "- The outliers is insignificant, and it is impossible that the pulse rate can be 0 and the patients are still alive."
   ]
  },
  {
   "cell_type": "code",
   "execution_count": null,
   "id": "9c3135d7",
   "metadata": {},
   "outputs": [],
   "source": [
    "test.loc[(test[\"PR\"] == 0), 'PR'] = test[\"PR\"].mean()\n",
    "train.loc[(train[\"PR\"] == 0), 'PR'] = train[\"PR\"].mean()"
   ]
  },
  {
   "cell_type": "markdown",
   "id": "1bff5023",
   "metadata": {},
   "source": [
    "## `SK` column:"
   ]
  },
  {
   "cell_type": "markdown",
   "id": "2e617624",
   "metadata": {},
   "source": [
    "> **Sample train Dataset**"
   ]
  },
  {
   "cell_type": "code",
   "execution_count": null,
   "id": "432fef87",
   "metadata": {},
   "outputs": [],
   "source": [
    "train_SK_q_low = train[\"SK\"].quantile(0.01)\n",
    "train_SK_q_hi  = train[\"SK\"].quantile(0.99)\n",
    "\n",
    "df_filtered = train[(train[\"SK\"] > train_SK_q_hi) | (train[\"SK\"] < train_SK_q_low) | (train[\"SK\"] == 0)]\n",
    "print(len(df_filtered)/ len(train) * 100)\n",
    "df_filtered"
   ]
  },
  {
   "cell_type": "markdown",
   "id": "fcc2e6f7",
   "metadata": {},
   "source": [
    "> **Sample test Dataset**"
   ]
  },
  {
   "cell_type": "code",
   "execution_count": null,
   "id": "0735ec51",
   "metadata": {
    "scrolled": true
   },
   "outputs": [],
   "source": [
    "test_SK_q_low = test[\"SK\"].quantile(0.01)\n",
    "test_SK_q_hi  = test[\"SK\"].quantile(0.99)\n",
    "\n",
    "df_filtered = test[(test[\"SK\"] > test_SK_q_hi) | (test[\"SK\"] < test_SK_q_low) | (test[\"SK\"] == 0)]\n",
    "print(len(df_filtered)/ len(test) * 100)\n",
    "df_filtered"
   ]
  },
  {
   "cell_type": "markdown",
   "id": "fa633ee0",
   "metadata": {},
   "source": [
    "### ---------> OBSERVATION\n",
    "****\n",
    "- The outliers is considerable I need to explore it before clear it."
   ]
  },
  {
   "cell_type": "markdown",
   "id": "e2e2b749",
   "metadata": {},
   "source": [
    "## `TS` column:"
   ]
  },
  {
   "cell_type": "markdown",
   "id": "450f73be",
   "metadata": {},
   "source": [
    "> **Sample train Dataset**"
   ]
  },
  {
   "cell_type": "code",
   "execution_count": null,
   "id": "fe4558df",
   "metadata": {},
   "outputs": [],
   "source": [
    "train_TS_q_low = train[\"TS\"].quantile(0.01)\n",
    "train_TS_q_hi  = train[\"TS\"].quantile(0.99)\n",
    "\n",
    "df_filtered = train[(train[\"TS\"] > train_TS_q_hi) | (train[\"TS\"] < train_TS_q_low) | (train[\"TS\"] == 0)]\n",
    "print(len(df_filtered)/ len(train) * 100)\n",
    "df_filtered"
   ]
  },
  {
   "cell_type": "markdown",
   "id": "a24f3d2a",
   "metadata": {},
   "source": [
    "> **Sample test Dataset**"
   ]
  },
  {
   "cell_type": "code",
   "execution_count": null,
   "id": "011e916f",
   "metadata": {},
   "outputs": [],
   "source": [
    "test_TS_q_low = test[\"TS\"].quantile(0.01)\n",
    "test_TS_q_hi  = test[\"TS\"].quantile(0.99)\n",
    "\n",
    "df_filtered = test[(test[\"TS\"] > test_TS_q_hi) | (test[\"TS\"] < test_TS_q_low) | (test[\"TS\"] == 0)]\n",
    "print(len(df_filtered)/ len(test) * 100)\n",
    "df_filtered"
   ]
  },
  {
   "cell_type": "markdown",
   "id": "8362cc3b",
   "metadata": {},
   "source": [
    "### ---------> OBSERVATION\n",
    "****\n",
    "- The outliers is considerable I need to explore it before clear it."
   ]
  },
  {
   "cell_type": "markdown",
   "id": "b2ba995b",
   "metadata": {},
   "source": [
    "## `M11` column:"
   ]
  },
  {
   "cell_type": "markdown",
   "id": "28354f08",
   "metadata": {},
   "source": [
    "> **Sample train Dataset**"
   ]
  },
  {
   "cell_type": "code",
   "execution_count": null,
   "id": "215e1f5b",
   "metadata": {},
   "outputs": [],
   "source": [
    "df_filtered = train[(train[\"M11\"] == 0)]\n",
    "print(len(df_filtered)/ len(train) * 100)\n",
    "df_filtered"
   ]
  },
  {
   "cell_type": "markdown",
   "id": "f746b599",
   "metadata": {},
   "source": [
    "### ---------> OBSERVATION\n",
    "****\n",
    "The number of impossible values accounts for just over 1.5 percent so I want to replace them with the group by age meadian since they are all "
   ]
  },
  {
   "cell_type": "code",
   "execution_count": null,
   "id": "2c3687d4",
   "metadata": {},
   "outputs": [],
   "source": [
    "train.drop(train[(train[\"M11\"] == 0)].index, inplace = True)\n"
   ]
  },
  {
   "cell_type": "markdown",
   "id": "c606a6ed",
   "metadata": {},
   "source": [
    "> **Sample test Dataset**"
   ]
  },
  {
   "cell_type": "code",
   "execution_count": null,
   "id": "fa2c1333",
   "metadata": {},
   "outputs": [],
   "source": [
    "df_filtered = test[(test[\"M11\"] == 0)]\n",
    "print(len(df_filtered)/ len(test) * 100)\n",
    "df_filtered"
   ]
  },
  {
   "cell_type": "markdown",
   "id": "dc1f978b",
   "metadata": {},
   "source": [
    "### ---------> OBSERVATION\n",
    "****\n",
    "The number of impossible values accounts for just over 1.5 percent so I want to replace them with the group by age meadian since they are all "
   ]
  },
  {
   "cell_type": "code",
   "execution_count": null,
   "id": "7261a40b",
   "metadata": {},
   "outputs": [],
   "source": [
    "test.drop(test[(test[\"M11\"] == 0)].index, inplace = True)\n"
   ]
  },
  {
   "cell_type": "markdown",
   "id": "a10c393b",
   "metadata": {},
   "source": [
    "## `BD2` column:"
   ]
  },
  {
   "cell_type": "markdown",
   "id": "c4b251c9",
   "metadata": {},
   "source": [
    "> **Sample train Dataset**"
   ]
  },
  {
   "cell_type": "code",
   "execution_count": null,
   "id": "2bb396a7",
   "metadata": {},
   "outputs": [],
   "source": [
    "train_BD2_q_low = train[\"BD2\"].quantile(0.01)\n",
    "train_BD2_q_hi  = train[\"BD2\"].quantile(0.99)\n",
    "\n",
    "df_filtered = train[(train[\"BD2\"] > train_BD2_q_hi) | (train[\"BD2\"] < train_BD2_q_low) | (train[\"BD2\"] == 0)]\n",
    "print(len(df_filtered)/ len(train) * 100)\n",
    "df_filtered"
   ]
  },
  {
   "cell_type": "markdown",
   "id": "8088a6c7",
   "metadata": {},
   "source": [
    "> **Sample test Dataset**"
   ]
  },
  {
   "cell_type": "code",
   "execution_count": null,
   "id": "ffd0b404",
   "metadata": {},
   "outputs": [],
   "source": [
    "test_BD2_q_low = test[\"BD2\"].quantile(0.01)\n",
    "test_BD2_q_hi  = test[\"BD2\"].quantile(0.99)\n",
    "\n",
    "df_filtered = test[(test[\"BD2\"] > test_BD2_q_hi) | (test[\"BD2\"] < test_BD2_q_low) | (test[\"BD2\"] == 0)]\n",
    "print(len(df_filtered)/ len(test) * 100)\n",
    "df_filtered"
   ]
  },
  {
   "cell_type": "markdown",
   "id": "ddcaa5c5",
   "metadata": {},
   "source": [
    "### ---------> OBSERVATION\n",
    "****\n",
    "- The outliers is considerable I need to explore it before clear it."
   ]
  },
  {
   "cell_type": "markdown",
   "id": "7022a9af",
   "metadata": {},
   "source": [
    "## Check outliers\n",
    "***\n",
    "I want to query all the numberical columns to check if those medical values which is considered to be the outliers have the probability to have sepsis?"
   ]
  },
  {
   "cell_type": "code",
   "execution_count": null,
   "id": "f88fcf88",
   "metadata": {},
   "outputs": [],
   "source": [
    "likely_sepsis = train[(train[\"PL\"] > train_PL_q_hi) | (train[\"PL\"] < train_PL_q_low) |\n",
    "                      (train[\"PR\"] > train_PR_q_hi) | (train[\"PR\"] < train_PR_q_low) |\n",
    "                      (train[\"SK\"] > train_SK_q_hi) | (train[\"SK\"] < train_SK_q_low) |\n",
    "                      (train[\"TS\"] > train_TS_q_hi) | (train[\"TS\"] < train_TS_q_low) |\n",
    "                      (train[\"BD2\"] > train_BD2_q_hi) | (train[\"BD2\"] < train_BD2_q_low)]\n",
    "\n",
    "rslt_df = likely_sepsis[(likely_sepsis['Sepsis'] == 1)]\n",
    "\n",
    "print(len(rslt_df)/ len(likely_sepsis) * 100)"
   ]
  },
  {
   "cell_type": "markdown",
   "id": "357b3f6f",
   "metadata": {},
   "source": [
    "### ---------> OBSERVATION\n",
    "****\n",
    "- As we can see, it is more than a half of the people having the abnormal statistic tend to have sepsis. Since then, I do not want to drop these outliers. Moreover, sepsis is a kind of illness, and having those abnormal statistic means likely to cause illness."
   ]
  },
  {
   "cell_type": "code",
   "execution_count": null,
   "id": "40ccfc90",
   "metadata": {},
   "outputs": [],
   "source": [
    "#I Want to save for later tree plotting\n",
    "target_name = ['Sepsis']\n",
    "feature_name = ['PRG', 'PL', 'PR', 'SK', 'TS', 'M11' 'BD2'] "
   ]
  },
  {
   "cell_type": "markdown",
   "id": "2ed9abfd",
   "metadata": {},
   "source": [
    "<a id=\"2.7\"></a>\n",
    "# 📂 2.7 Save the Intermediate data\n",
    "***\n",
    "After the cleaning step, all data is saved to a csv file for visualisation step later in dash."
   ]
  },
  {
   "cell_type": "code",
   "execution_count": null,
   "id": "7819a8bd",
   "metadata": {},
   "outputs": [],
   "source": [
    "train.to_csv(\"Data/train_cleaned.csv\", encoding='utf-8')\n",
    "test.to_csv(\"Data/test_cleaned.csv\", encoding='utf-8')"
   ]
  },
  {
   "cell_type": "markdown",
   "id": "b778f34e",
   "metadata": {},
   "source": [
    "<a id=\"3\"></a>\n",
    "<h1 style=\"color:#ffc0cb;font-size:40px;font-family:Georgia;text-align:center;\"><strong> 📊 3. Data exploration (EDA)</strong></h1>"
   ]
  },
  {
   "cell_type": "markdown",
   "id": "6595e2d7",
   "metadata": {},
   "source": [
    "## Function for box plot visualization"
   ]
  },
  {
   "cell_type": "code",
   "execution_count": null,
   "id": "7cf6e99f",
   "metadata": {},
   "outputs": [],
   "source": [
    "PROPS = {\n",
    "    'boxprops':{'edgecolor':'black'},\n",
    "    'medianprops':{'color':'black'},\n",
    "    'whiskerprops':{'color':'black'},\n",
    "    'capprops':{'color':'black'}\n",
    "}\n",
    "def plot_box(dataset, x, y, xlabel, ylabel, title, subtitle, color, title_position, subtitle_position, order=None):\n",
    "    ax = sns.boxplot(data = dataset, y = y, x = x, order = order,\n",
    "                 linewidth = 1.2, color = color, **PROPS,\n",
    "                 flierprops = dict(marker = 'o', markeredgecolor = 'black', markersize = 6.5, linestyle = 'none', markerfacecolor = color, alpha = 0.9))\n",
    "\n",
    "    plt.xlabel(xlabel, fontweight = 'bold', fontsize = 16)\n",
    "    plt.ylabel(ylabel, fontweight = 'bold', fontsize = 16)\n",
    "    ax.tick_params(labelsize = 14)\n",
    "    ax.text(x = title_position, y = 1.07, s = title, fontsize = 22.5, weight = 'bold', ha = 'center', va = 'bottom', transform = ax.transAxes)\n",
    "    ax.text(x = subtitle_position, y = 1.03, s = subtitle, fontsize = 16.5, alpha = 0.75, ha = 'center', va = 'bottom', transform = ax.transAxes)\n",
    "    plt.show()"
   ]
  },
  {
   "cell_type": "markdown",
   "id": "bc863ba0",
   "metadata": {},
   "source": [
    "<a id=\"3.1\"></a>\n",
    "# 3.1 Overall look on target variable"
   ]
  },
  {
   "cell_type": "markdown",
   "id": "796a921f",
   "metadata": {},
   "source": [
    "<a id=\"3.1.1\"></a>\n",
    "## 3.1.1 Distribution of Sepsis"
   ]
  },
  {
   "cell_type": "code",
   "execution_count": null,
   "id": "a4f2e4ac",
   "metadata": {},
   "outputs": [],
   "source": [
    "# sns.displot(train, x=\"Survived\", hue=\"Pclass\", kind=\"kde\", fill=True)\n",
    "plot = sns.displot(train, x=\"Sepsis\", kind=\"kde\", fill=True, color='blue', height= 14)\n",
    "\n",
    "plot.fig.suptitle(\"Distribution of Sepsis\", fontsize=25, y=1.08, fontweight = 'bold')\n",
    "plot.set_xlabels(\"Sepsis\", fontsize = 20, fontweight = 'bold' )\n",
    "plot.set_ylabels(\"Density\", fontsize = 20, fontweight = 'bold')"
   ]
  },
  {
   "cell_type": "markdown",
   "id": "88b8b16b",
   "metadata": {},
   "source": [
    "<p><img alt=\"Insight logo\" src=\"https://drive.google.com/uc?export=view&id=15uX4fnuDMuki2xAnjK8wv-ifJhAkBtJ2\" align=\"left\" hspace=\"10px\" vspace=\"0px\"></p>\n",
    "\n",
    "<ul style=\"list-style-type:none;\">\n",
    "  <li style=\"font-weight: bold;font-family:'Times New Roman';font-size:30px;font-style: italic;color:  #6468e8\">OBSERVATION:</li>\n",
    "</ul>\n",
    "\n",
    "<div class=\"alert alert-info\" role=\"alert\">\n",
    "<ul style=\"list-style-type:circle;font-family:Yu Mincho Demibold;font-size:20px;color:black\">\n",
    "    <li>It is a <span style=\"color:#122ecc;\">bionormal distribution</span></li> \n",
    "    <li>Suprisingly, <span style=\"color:#122ecc;\">more</span> people <span style=\"color:#122ecc;\">don't have Sepsis</span>.</li>\n",
    "</ul>\n",
    "</div>"
   ]
  },
  {
   "cell_type": "markdown",
   "id": "e638101b",
   "metadata": {},
   "source": [
    "<a id=\"3.1.2\"></a>\n",
    "## 3.1.2 Proportion of Sepsis"
   ]
  },
  {
   "cell_type": "code",
   "execution_count": null,
   "id": "83a19772",
   "metadata": {},
   "outputs": [],
   "source": [
    "# Pie chart\n",
    "labels = ['Sepsis', 'Not Sepsis']\n",
    "#colors\n",
    "colors = ['#94B3FD', '#F9C5D5']\n",
    "ax = plt.pie(train['Sepsis'].value_counts(), labeldistance=1.15, labels=labels, colors=colors, autopct='%1.1f%%', textprops={'fontsize': 16});\n",
    "plt.title('Proportion of Sepsis', fontsize=25, fontweight = 'bold')\n",
    "plt.rcParams['figure.figsize'] = [20, 15]\n",
    "plt.show()"
   ]
  },
  {
   "cell_type": "markdown",
   "id": "54c2c2c5",
   "metadata": {},
   "source": [
    "<p><img alt=\"Insight logo\" src=\"https://drive.google.com/uc?export=view&id=15uX4fnuDMuki2xAnjK8wv-ifJhAkBtJ2\" align=\"left\" hspace=\"10px\" vspace=\"0px\"></p>\n",
    "\n",
    "<ul style=\"list-style-type:none;\">\n",
    "  <li style=\"font-weight: bold;font-family:'Times New Roman';font-size:30px;font-style: italic;color:  #6468e8\">OBSERVATION:</li>\n",
    "</ul>\n",
    "\n",
    "<div class=\"alert alert-info\" role=\"alert\">\n",
    "<ul style=\"list-style-type:circle;font-family:Yu Mincho Demibold;font-size:20px;color:black\">\n",
    "    <li>It is This plots compares the proportion of people having sepsis to the people not having sepsis</li> \n",
    "    <li>Suprisingly, <span style=\"color:#122ecc;\">more than a half of</span> people (64.9%) <span style=\"color:#122ecc;\">don't have Sepsis</span>.</li>\n",
    "    <li>Contrarily, <span style=\"color:#122ecc;\">just over 35% </span>  people <span style=\"color:#122ecc;\">don't have Sepsis</span>.</li>\n",
    "</ul>\n",
    "</div>"
   ]
  },
  {
   "cell_type": "markdown",
   "id": "4a8facd1",
   "metadata": {},
   "source": [
    "<a id=\"3.2\"></a>\n",
    "# 3.2 Frequency of each corresponiding Target variable type\n",
    "****\n"
   ]
  },
  {
   "cell_type": "markdown",
   "id": "6e932642",
   "metadata": {},
   "source": [
    "<a id=\"3.2.1\"></a>\n",
    "## 3.2.1 How old are they?\n",
    "****"
   ]
  },
  {
   "cell_type": "code",
   "execution_count": null,
   "id": "c33b78bf",
   "metadata": {},
   "outputs": [],
   "source": [
    "# Kernel Density Plot\n",
    "fig = plt.figure(figsize=(15,8),)\n",
    "sns.set(style=\"darkgrid\")\n",
    "ax=sns.kdeplot(train.loc[(train['Sepsis'] == 1),'Age'] , color='gray',shade=True)\n",
    "ax=sns.kdeplot(train.loc[(train['Sepsis'] == 0),'Age'] , color='g',shade=True)\n",
    "plt.title('How old the people having sepsis are?', fontsize = 25, pad = 40)\n",
    "plt.ylabel(\"Frequency of Patient\", fontsize = 15, labelpad = 20)\n",
    "plt.xlabel(\"Age\", fontsize = 15, labelpad = 20)"
   ]
  },
  {
   "cell_type": "markdown",
   "id": "d680d14b",
   "metadata": {},
   "source": [
    "<p><img alt=\"Insight logo\" src=\"https://drive.google.com/uc?export=view&id=15uX4fnuDMuki2xAnjK8wv-ifJhAkBtJ2\" align=\"left\" hspace=\"10px\" vspace=\"0px\"></p>\n",
    "\n",
    "<ul style=\"list-style-type:none;\">\n",
    "  <li style=\"font-weight: bold;font-family:'Times New Roman';font-size:30px;font-style: italic;color:  #6468e8\">OBSERVATION:</li>\n",
    "</ul>\n",
    "\n",
    "<div class=\"alert alert-info\" role=\"alert\">\n",
    "<ul style=\"list-style-type:circle;font-family:Yu Mincho Demibold;font-size:20px;color:black\">\n",
    "    <li>In this chart, the green is for the people not having Sepsis, and the people who have Sepsis is the gray one.</li>\n",
    "    <li>As expected, the <span style=\"color:#122ecc;\">older people</span> tend to have higher chance to have Sepsis than younger people. </li> \n",
    "    <li>In the <span style=\"color:#122ecc;\">the 30s or older</span>, people have higher probability to have Sepsis</li>\n",
    "</ul>\n",
    "</div>"
   ]
  },
  {
   "cell_type": "markdown",
   "id": "68b3aa89",
   "metadata": {},
   "source": [
    "<a id=\"3.2.2\"></a>\n",
    "## 3.2.2 How much they weight?\n",
    "****"
   ]
  },
  {
   "cell_type": "code",
   "execution_count": null,
   "id": "143d2344",
   "metadata": {},
   "outputs": [],
   "source": [
    "plot_box(train, x = \"Sepsis\", y = \"M11\", xlabel = 'Sepsis', ylabel = \"M11\", title = \"How many people have sepsis are overweight?\",\n",
    "         subtitle = \"Distributions, boxplots\", color = \"lightskyblue\", title_position = 0.22, subtitle_position = 0.112)"
   ]
  },
  {
   "cell_type": "markdown",
   "id": "b0d54cb9",
   "metadata": {},
   "source": [
    "<p><img alt=\"Insight logo\" src=\"https://drive.google.com/uc?export=view&id=15uX4fnuDMuki2xAnjK8wv-ifJhAkBtJ2\" align=\"left\" hspace=\"10px\" vspace=\"0px\"></p>\n",
    "\n",
    "<ul style=\"list-style-type:none;\">\n",
    "  <li style=\"font-weight: bold;font-family:'Times New Roman';font-size:30px;font-style: italic;color:  #6468e8\">OBSERVATION:</li>\n",
    "</ul>\n",
    "\n",
    "<div class=\"alert alert-info\" role=\"alert\">\n",
    "<ul style=\"list-style-type:circle;font-family:Yu Mincho Demibold;font-size:20px;color:black\">\n",
    "    <li>As expected, people having <span style=\"color:#122ecc;\">higher</span> Body Mass Index tend to have higher chance to have Sepsis. </li>\n",
    "    <li>The average of body mass index that people having Sepsis is <span style=\"color:#122ecc;\">over 35kg/m^2.</span> </li> \n",
    "</ul>\n",
    "</div>"
   ]
  },
  {
   "cell_type": "markdown",
   "id": "413de2e6",
   "metadata": {},
   "source": [
    "<a id=\"3.2.3\"></a>\n",
    "## 3.2.3 How high PL (Blood Work Result-1 (mu U/ml)) that the Sepsis is likely to get?\n",
    "****"
   ]
  },
  {
   "cell_type": "code",
   "execution_count": null,
   "id": "2383d258",
   "metadata": {},
   "outputs": [],
   "source": [
    "plt.subplots(figsize = (15,10))\n",
    "\n",
    "sns.barplot(x = \"Sepsis\", y = \"PL\", data=train, linewidth=6, capsize = .05, errcolor='blue', errwidth = 3)\n",
    "plt.title(\"How high PL (Blood Work Result-1 (mu U/ml)) that the Sepsis is likely to get?\", fontsize = 25, fontweight = 'bold', pad=40)\n",
    "plt.xlabel(\"Sepsis\", fontsize = 15, fontweight = 'bold')\n",
    "plt.ylabel(\"PL\", fontsize = 15, fontweight = 'bold')\n",
    "names = ['Negative', 'Possitive']\n",
    "#val = sorted(train.Pclass.unique())\n",
    "val = [0,1] ## this is just a temporary trick to get the label right. \n",
    "plt.xticks(val, names)"
   ]
  },
  {
   "cell_type": "markdown",
   "id": "90c937a4",
   "metadata": {},
   "source": [
    "<p><img alt=\"Insight logo\" src=\"https://drive.google.com/uc?export=view&id=15uX4fnuDMuki2xAnjK8wv-ifJhAkBtJ2\" align=\"left\" hspace=\"10px\" vspace=\"0px\"></p>\n",
    "\n",
    "<ul style=\"list-style-type:none;\">\n",
    "  <li style=\"font-weight: bold;font-family:'Times New Roman';font-size:30px;font-style: italic;color:  #6468e8\">OBSERVATION:</li>\n",
    "</ul>\n",
    "\n",
    "<div class=\"alert alert-info\" role=\"alert\">\n",
    "<ul style=\"list-style-type:circle;font-family:Yu Mincho Demibold;font-size:20px;color:black\">\n",
    "    <li>As expected, people having <span style=\"color:#122ecc;\">higher</span> PL (Blood Work Result-1 (mu U/ml)) tend to have higher chance to have Sepsis. </li>\n",
    "    <li>The average of PL (Blood Work Result-1 (mu U/ml)) that people having Sepsis is <span style=\"color:#122ecc;\">higher than 140</span> while people not have Sepsis have the average PL is around 100</li> \n",
    "</ul>\n",
    "</div>"
   ]
  },
  {
   "cell_type": "markdown",
   "id": "36b831b8",
   "metadata": {},
   "source": [
    "<a id=\"3.2.4\"></a>\n",
    "## 3.2.4 How high PR ((Blood Pressure (mm Hg)) that the Sepsis is likely to get?\n",
    "****"
   ]
  },
  {
   "cell_type": "code",
   "execution_count": null,
   "id": "0a07d0a2",
   "metadata": {},
   "outputs": [],
   "source": [
    "# Kernel Density Plot\n",
    "fig = plt.figure(figsize=(15,8),)\n",
    "sns.set(style=\"darkgrid\")\n",
    "ax=sns.kdeplot(train.loc[(train['Sepsis'] == 1),'PR'] , color='gray',shade=True)\n",
    "ax=sns.kdeplot(train.loc[(train['Sepsis'] == 0),'PR'] , color='g',shade=True)\n",
    "plt.title('How high PR ((Blood Pressure (mm Hg)) that the Sepsis is likely to get?', fontsize = 25, pad = 40)\n",
    "plt.ylabel(\"Frequency of Patient\", fontsize = 15, labelpad = 20)\n",
    "plt.xlabel(\"PR\", fontsize = 15, labelpad = 20)"
   ]
  },
  {
   "cell_type": "markdown",
   "id": "e659ff52",
   "metadata": {},
   "source": [
    "<p><img alt=\"Insight logo\" src=\"https://drive.google.com/uc?export=view&id=15uX4fnuDMuki2xAnjK8wv-ifJhAkBtJ2\" align=\"left\" hspace=\"10px\" vspace=\"0px\"></p>\n",
    "\n",
    "<ul style=\"list-style-type:none;\">\n",
    "  <li style=\"font-weight: bold;font-family:'Times New Roman';font-size:30px;font-style: italic;color:  #6468e8\">OBSERVATION:</li>\n",
    "</ul>\n",
    "\n",
    "<div class=\"alert alert-info\" role=\"alert\">\n",
    "<ul style=\"list-style-type:circle;font-family:Yu Mincho Demibold;font-size:20px;color:black\">\n",
    "    <li>As expected, people having <span style=\"color:#122ecc;\">higher</span> PR ((Blood Pressure (mm Hg) tend to have higher chance to have Sepsis. </li>\n",
    "    <li>The level of PR ((Blood Pressure (mm Hg) that people having Sepsis likely to have is <span style=\"color:#122ecc;\">higher than 80</span></li> \n",
    "</ul>\n",
    "</div>"
   ]
  },
  {
   "cell_type": "markdown",
   "id": "ff5a8a32",
   "metadata": {},
   "source": [
    "<a id=\"3.2.5\"></a>\n",
    "## 3.2.5 How high SK (Blood Work Result-2 (mm) that the Sepsis is likely to get?\n",
    "****"
   ]
  },
  {
   "cell_type": "code",
   "execution_count": null,
   "id": "6f64bd08",
   "metadata": {},
   "outputs": [],
   "source": [
    "plot_box(train, x = \"Sepsis\", y = \"SK\", xlabel = 'Sepsis', ylabel = \"SK\", title = \"How high SK (Blood Work Result-2 (mm) that the Sepsis is likely to get?\",\n",
    "         subtitle = \"Distributions, boxplots\", color = \"lightskyblue\", title_position = 0.22, subtitle_position = 0.112)"
   ]
  },
  {
   "cell_type": "markdown",
   "id": "d9d509e4",
   "metadata": {},
   "source": [
    "<p><img alt=\"Insight logo\" src=\"https://drive.google.com/uc?export=view&id=15uX4fnuDMuki2xAnjK8wv-ifJhAkBtJ2\" align=\"left\" hspace=\"10px\" vspace=\"0px\"></p>\n",
    "\n",
    "<ul style=\"list-style-type:none;\">\n",
    "  <li style=\"font-weight: bold;font-family:'Times New Roman';font-size:30px;font-style: italic;color:  #6468e8\">OBSERVATION:</li>\n",
    "</ul>\n",
    "\n",
    "<div class=\"alert alert-info\" role=\"alert\">\n",
    "<ul style=\"list-style-type:circle;font-family:Yu Mincho Demibold;font-size:20px;color:black\">\n",
    "    <li>As expected, people having <span style=\"color:#122ecc;\">higher</span> SK (Blood Work Result-2 (mm) tend to have higher chance to have Sepsis. </li>\n",
    "    <li>The average of SK (Blood Work Result-2 (mm)) that people having Sepsis is <span style=\"color:#122ecc;\">higher than 30</span> while people not have Sepsis have the average SK is around 20</li> \n",
    "</ul>\n",
    "</div>"
   ]
  },
  {
   "cell_type": "markdown",
   "id": "e5a7ab47",
   "metadata": {},
   "source": [
    "<a id=\"3.2.6\"></a>\n",
    "## 3.2.6 How high TS (Blood Work Result-3 (mu U/ml)) that the Sepsis is likely to get?\n",
    "****"
   ]
  },
  {
   "cell_type": "code",
   "execution_count": null,
   "id": "e42172c7",
   "metadata": {},
   "outputs": [],
   "source": [
    "sns.factorplot(x =  \"Sepsis\", y = \"TS\", data = train,kind = \"point\",size = 8)\n",
    "plt.title('How high TS (Blood Work Result-3 (mu U/ml)) that the Sepsis is likely to get?', fontsize = 25)\n",
    "plt.subplots_adjust(top=0.85)"
   ]
  },
  {
   "cell_type": "markdown",
   "id": "42a60d21",
   "metadata": {},
   "source": [
    "<p><img alt=\"Insight logo\" src=\"https://drive.google.com/uc?export=view&id=15uX4fnuDMuki2xAnjK8wv-ifJhAkBtJ2\" align=\"left\" hspace=\"10px\" vspace=\"0px\"></p>\n",
    "\n",
    "<ul style=\"list-style-type:none;\">\n",
    "  <li style=\"font-weight: bold;font-family:'Times New Roman';font-size:30px;font-style: italic;color:  #6468e8\">OBSERVATION:</li>\n",
    "</ul>\n",
    "\n",
    "<div class=\"alert alert-info\" role=\"alert\">\n",
    "<ul style=\"list-style-type:circle;font-family:Yu Mincho Demibold;font-size:20px;color:black\">\n",
    "    <li>As expected, people having <span style=\"color:#122ecc;\">higher</span> TS (Blood Work Result-3 (mu U/ml)) tend to have higher chance to have Sepsis. </li>\n",
    "    <li>The average of TS (Blood Work Result-3 (mu U/ml)) that people having Sepsis is <span style=\"color:#122ecc;\">higher than 110</span> while people not have Sepsis have the average TS is lower than 70</li> \n",
    "</ul>\n",
    "</div>"
   ]
  },
  {
   "cell_type": "markdown",
   "id": "05d05e1b",
   "metadata": {},
   "source": [
    "<a id=\"3.2.7\"></a>\n",
    "## 3.2.7 How high BD2 (Blood Work Result-4 (mu U/ml)) that the Sepsis is likely to get?\n",
    "****"
   ]
  },
  {
   "cell_type": "code",
   "execution_count": null,
   "id": "14998a05",
   "metadata": {},
   "outputs": [],
   "source": [
    "# Kernel Density Plot\n",
    "fig = plt.figure(figsize=(15,8),)\n",
    "sns.set(style=\"darkgrid\")\n",
    "ax=sns.kdeplot(train.loc[(train['Sepsis'] == 1),'BD2'] , color='gray',shade=True)\n",
    "ax=sns.kdeplot(train.loc[(train['Sepsis'] == 0),'BD2'] , color='g',shade=True)\n",
    "plt.title('How high BD2 (Blood Work Result-4 (mu U/ml)) that the Sepsis is likely to get?', fontsize = 25, pad = 40)\n",
    "plt.ylabel(\"Frequency of Patient\", fontsize = 15, labelpad = 20)\n",
    "plt.xlabel(\"BD2\", fontsize = 15, labelpad = 20)\n"
   ]
  },
  {
   "cell_type": "markdown",
   "id": "b61f11c7",
   "metadata": {},
   "source": [
    "<p><img alt=\"Insight logo\" src=\"https://drive.google.com/uc?export=view&id=15uX4fnuDMuki2xAnjK8wv-ifJhAkBtJ2\" align=\"left\" hspace=\"10px\" vspace=\"0px\"></p>\n",
    "\n",
    "<ul style=\"list-style-type:none;\">\n",
    "  <li style=\"font-weight: bold;font-family:'Times New Roman';font-size:30px;font-style: italic;color:  #6468e8\">OBSERVATION:</li>\n",
    "</ul>\n",
    "\n",
    "<div class=\"alert alert-info\" role=\"alert\">\n",
    "<ul style=\"list-style-type:circle;font-family:Yu Mincho Demibold;font-size:20px;color:black\">\n",
    "    <li>As expected, people having <span style=\"color:#122ecc;\">higher</span> BD2 (Blood Work Result-4 (mu U/ml)) tend to have higher chance to have Sepsis. </li>\n",
    "    <li>The level of BD2 (Blood Work Result-4 (mu U/ml)) that people having Sepsis likely to have is <span style=\"color:#122ecc;\">higher than 0.5</span></li> \n",
    "</ul>\n",
    "</div>"
   ]
  },
  {
   "cell_type": "markdown",
   "id": "dcf00a85",
   "metadata": {},
   "source": [
    "<a id=\"3.2.8\"></a>\n",
    "## 3.2.8 How high BD2 (Blood Work Result-4 (mu U/ml)) that the Sepsis is likely to get?\n",
    "****"
   ]
  },
  {
   "cell_type": "code",
   "execution_count": null,
   "id": "a2c3d790",
   "metadata": {},
   "outputs": [],
   "source": [
    "plot_box(train, x = \"Sepsis\", y = \"PRG\", xlabel = 'Sepsis', ylabel = \"PRG\", title = \"How high Plasma glucose that the Sepsis is likely to get?\",\n",
    "         subtitle = \"Distributions, boxplots\", color = \"lightskyblue\", title_position = 0.22, subtitle_position = 0.112)"
   ]
  },
  {
   "cell_type": "markdown",
   "id": "0b22be51",
   "metadata": {},
   "source": [
    "<p><img alt=\"Insight logo\" src=\"https://drive.google.com/uc?export=view&id=15uX4fnuDMuki2xAnjK8wv-ifJhAkBtJ2\" align=\"left\" hspace=\"10px\" vspace=\"0px\"></p>\n",
    "\n",
    "<ul style=\"list-style-type:none;\">\n",
    "  <li style=\"font-weight: bold;font-family:'Times New Roman';font-size:30px;font-style: italic;color:  #6468e8\">OBSERVATION:</li>\n",
    "</ul>\n",
    "\n",
    "<div class=\"alert alert-info\" role=\"alert\">\n",
    "<ul style=\"list-style-type:circle;font-family:Yu Mincho Demibold;font-size:20px;color:black\">\n",
    "    <li>As expected, people having <span style=\"color:#122ecc;\">higher</span> BD2 (Blood Work Result-4 (mu U/ml)) tend to have higher chance to have Sepsis. </li>\n",
    "    <li>The level of BD2 (Blood Work Result-4 (mu U/ml)) that people having Sepsis likely to have is <span style=\"color:#122ecc;\">higher than 0.5</span></li> \n",
    "</ul>\n",
    "</div>"
   ]
  },
  {
   "cell_type": "markdown",
   "id": "234c0e5f",
   "metadata": {},
   "source": [
    "<a id=\"3.2.9\"></a>\n",
    "## 3.2.9 Scatter matrix\n",
    "****"
   ]
  },
  {
   "cell_type": "code",
   "execution_count": null,
   "id": "4beff23d",
   "metadata": {
    "scrolled": false
   },
   "outputs": [],
   "source": [
    "scatter_matrix(train,alpha=0.2,figsize=(10,10),diagonal='hist')"
   ]
  },
  {
   "cell_type": "markdown",
   "id": "4bac4e83",
   "metadata": {},
   "source": [
    "<p><img alt=\"Insight logo\" src=\"https://drive.google.com/uc?export=view&id=15uX4fnuDMuki2xAnjK8wv-ifJhAkBtJ2\" align=\"left\" hspace=\"10px\" vspace=\"0px\"></p>\n",
    "\n",
    "<ul style=\"list-style-type:none;\">\n",
    "  <li style=\"font-weight: bold;font-family:'Times New Roman';font-size:30px;font-style: italic;color:  #6468e8\">OBSERVATION:</li>\n",
    "</ul>\n",
    "\n",
    "<div class=\"alert alert-info\" role=\"alert\">\n",
    "<ul style=\"list-style-type:circle;font-family:Yu Mincho Demibold;font-size:20px;color:black\">\n",
    "    <li>Only <span style=\"color:#122ecc;\">PL, PR and M1</span> features have nearly normal distribution</li>\n",
    "    <li>The feature <span style=\"color:#122ecc;\">SK, TS, BD2 and Age</span> have skewed right distribution</li>\n",
    "</ul>\n",
    "</div>"
   ]
  },
  {
   "cell_type": "markdown",
   "id": "5cb00135",
   "metadata": {},
   "source": [
    "<a id=\"3.3\"></a>\n",
    "# 3.3 Statistical Test for Correlation\n",
    "****\n",
    "> **Null Hypothesis($H_0$):**  people having sepsis have equal medical statistic to people not having sepsis.  \n",
    ">  **Alternative Hypothesis($H_A$):** people having sepsis have higher medical statistic to people not having sepsis. \n",
    "****\n",
    "## Select 2 sub dataset"
   ]
  },
  {
   "cell_type": "code",
   "execution_count": null,
   "id": "9441b6a5",
   "metadata": {},
   "outputs": [],
   "source": [
    "sepsis = train[train['Sepsis'] == 1]\n",
    "not_sepsis = train[train['Sepsis'] == 0]"
   ]
  },
  {
   "cell_type": "markdown",
   "id": "c3d80540",
   "metadata": {},
   "source": [
    "## Overall describe by group by"
   ]
  },
  {
   "cell_type": "code",
   "execution_count": null,
   "id": "a1074afd",
   "metadata": {},
   "outputs": [],
   "source": [
    "train.groupby('Sepsis').describe()"
   ]
  },
  {
   "cell_type": "markdown",
   "id": "63e9573d",
   "metadata": {},
   "source": [
    "### ---------> OBSERVATION\n",
    "****\n",
    "Overall, the people having sepsis tend to have higher medical statistic than people who do not have sepsis. However, I still want to have a statistical test for proving this is true."
   ]
  },
  {
   "cell_type": "markdown",
   "id": "6109b9ae",
   "metadata": {},
   "source": [
    "## Calculate P-values"
   ]
  },
  {
   "cell_type": "code",
   "execution_count": null,
   "id": "be349e2b",
   "metadata": {},
   "outputs": [],
   "source": [
    "import researchpy as rp\n",
    "import scipy.stats as stats\n",
    "\n",
    "stats.ttest_ind(train[['Age', 'PRG', 'PL', 'PR', 'SK', 'TS', 'M11', 'BD2']][train['Sepsis'] == 1],\n",
    "                train[['Age', 'PRG', 'PL', 'PR', 'SK', 'TS', 'M11', 'BD2']][train['Sepsis'] == 0])"
   ]
  },
  {
   "cell_type": "markdown",
   "id": "aa56faa9",
   "metadata": {},
   "source": [
    "### ---------> OBSERVATION\n",
    "****\n",
    "The p-values is not high enough so we can remove the null hypothesis ($H_0$). Since then, the higher the medical statistic the higher chance the paitent can get sepsis. That is also the reason why I do not want to drop outliers.\n",
    "\n",
    "## 🚩 Reason why I do not drop outliers:\n",
    "> - The higher the medical statistic is the higher chance the paitent can get sepsis.\n",
    "> - The my data set is extremely small, so, if I drop outliers then tha train process only have a considerably small dataset and it cannot \"study\" properly for every cases.\n"
   ]
  },
  {
   "cell_type": "markdown",
   "id": "6d6771f8",
   "metadata": {},
   "source": [
    "<a id=\"3.4\"></a>\n",
    "\n",
    "<p><img alt=\"Insight logo\" src=\"https://drive.google.com/uc?export=view&id=14dpaeXX-ajsM8quwe3dCCdQdrdvf29iI\" align=\"left\" hspace=\"20px\" vspace=\"20px\" width=\"45\" height=\"60\" ></p>\n",
    "<br>\n",
    "<ul style=\"list-style-type:none;\">\n",
    "  <li style=\"font-weight: bold;font-family:Yu Mincho Demibold;font-size:40px;font-style: italic;color:  #6468e8\">3.4 Summary</li>\n",
    "</ul>\n",
    "<ul style=\"list-style-type:none;font-family:Yu Mincho Demibold;font-size:20px;color:  black\">\n",
    "    <br>\n",
    "    \n",
    "*******\n",
    "    \n",
    "<li>1. Suprisingly, <span style=\"color:#122ecc;\">more</span> people <span style=\"color:#122ecc;\">don't have Sepsis</span>.</li>\n",
    "<br>\n",
    "<li>2. In the <span style=\"color:#122ecc;\">the 30s or older</span>, people have higher probability to have Sepsis</li>\n",
    "<br>\n",
    "<li>3. The higher the body mass index is the higher chance that pantient can get Sepsis. The average of body mass index that people having Sepsis is <span style=\"color:#122ecc;\">over 35kg/m^2.</span> </li>\n",
    "<br>\n",
    "<li>4. The higher the PL is the higher chance that pantient can get Sepsis. The average of PL (Blood Work Result-1 (mu U/ml)) that people having Sepsis is <span style=\"color:#122ecc;\">higher than 140</span> while people not have Sepsis have the average PL is around 100</li>\n",
    "<br>\n",
    "<li>5. The higher the PR is the higher chance that pantient can get Sepsis. The level of PR ((Blood Pressure (mm Hg) that people having Sepsis likely to have is <span style=\"color:#122ecc;\">higher than 80</span> </li>\n",
    "<br>\n",
    "<li>6. The higher the SK is the higher chance that pantient can get Sepsis. The average of SK (Blood Work Result-2 (mm)) that people having Sepsis is <span style=\"color:#122ecc;\">higher than 30</span> while people not have Sepsis have the average SK is around 20 </li>\n",
    "<br>\n",
    "<li>7. The higher the TS is the higher chance that pantient can get Sepsis. The average of TS (Blood Work Result-3 (mu U/ml)) that people having Sepsis is <span style=\"color:#122ecc;\">higher than 110</span> while people not have Sepsis have the average TS is lower than 70 </li>\n",
    "<br>\n",
    "<li>8. The higher the TS is the higher chance that pantient can get Sepsis. The level of BD2 (Blood Work Result-4 (mu U/ml)) that people having Sepsis likely to have is <span style=\"color:#122ecc;\">higher than 0.5 </span> </li>\n",
    "    \n",
    "</ul>"
   ]
  },
  {
   "cell_type": "markdown",
   "id": "4a8a2538",
   "metadata": {},
   "source": [
    "<a id=\"4\"></a>\n",
    "<h1 style=\"color:#ffc0cb;font-size:40px;font-family:Georgia;text-align:center;\"><strong> 🛠 4. Feature Engineering</strong></h1>\n",
    "\n",
    "\n",
    "<p style=\"list-style-type:circle;font-family:Yu Mincho Demibold;font-size:20px;color:black\"> \n",
    "    In feature engineering, there are 3 main step which are class balancing, split data, and feature scaling.\n",
    "</p>"
   ]
  },
  {
   "cell_type": "markdown",
   "id": "034f5c43",
   "metadata": {},
   "source": [
    "<a id=\"4.1\"></a>\n",
    "# 4.1 Class balancing\n",
    "***\n",
    "I want to normalise the target variable since if there is imbalance then the accuracy will be wrong."
   ]
  },
  {
   "cell_type": "code",
   "execution_count": null,
   "id": "45c52f87",
   "metadata": {},
   "outputs": [],
   "source": [
    "train['Sepsis'].value_counts()"
   ]
  },
  {
   "cell_type": "markdown",
   "id": "2678eed0",
   "metadata": {},
   "source": [
    "### ------------> OBSERVATION\n",
    "***\n",
    "There is a considerable different between two classes"
   ]
  },
  {
   "cell_type": "code",
   "execution_count": null,
   "id": "7acfc82e",
   "metadata": {},
   "outputs": [],
   "source": [
    "from sklearn.utils import resample\n",
    "higher_value = train[train.Sepsis==0]\n",
    "smaller_value = train[train.Sepsis==1]\n",
    " \n",
    "# Rebalanced smaller class\n",
    "balancing_values = resample(smaller_value, replace=True, n_samples=381, random_state=123)\n",
    " \n",
    "# Balance majority value with upsampled minority value\n",
    "train = pd.concat([higher_value, balancing_values])\n",
    " \n",
    "# Show new value in these classes\n",
    "train.Sepsis.value_counts()"
   ]
  },
  {
   "cell_type": "markdown",
   "id": "bfae4c21",
   "metadata": {},
   "source": [
    "<a id=\"4.2\"></a>\n",
    "# 4.2 Splitting the training data\n",
    "***"
   ]
  },
  {
   "cell_type": "code",
   "execution_count": null,
   "id": "90d2b939",
   "metadata": {},
   "outputs": [],
   "source": [
    "# separating our independent and dependent variable\n",
    "X = train.drop(['Sepsis'], axis = 1)\n",
    "#Target variable in y\n",
    "y = train[\"Sepsis\"]"
   ]
  },
  {
   "cell_type": "code",
   "execution_count": null,
   "id": "4cbc6042",
   "metadata": {},
   "outputs": [],
   "source": [
    "X_train, X_test, y_train, y_test = train_test_split(X, y,test_size = .2, random_state=42)\n",
    "\n",
    "print(\"Length of X_train: \" + str(len(X_train)))\n",
    "print(\"Length of X_test: \" + str(len(X_test)))"
   ]
  },
  {
   "cell_type": "markdown",
   "id": "22543fd2",
   "metadata": {},
   "source": [
    "<a id=\"4.3\"></a>\n",
    "# 4.3 Feature Scaling\n",
    "***"
   ]
  },
  {
   "cell_type": "code",
   "execution_count": null,
   "id": "5da9f081",
   "metadata": {},
   "outputs": [],
   "source": [
    "train.sample(5)"
   ]
  },
  {
   "cell_type": "markdown",
   "id": "f412b9fb",
   "metadata": {},
   "source": [
    "<h1><font color=\"$5831bc\" face=\"Comic Sans MS\">Before Scaling</font></h1>"
   ]
  },
  {
   "cell_type": "code",
   "execution_count": null,
   "id": "c7e7953a",
   "metadata": {},
   "outputs": [],
   "source": [
    "headers = X_train.columns \n",
    "X_train.head()"
   ]
  },
  {
   "cell_type": "markdown",
   "id": "0d0c6379",
   "metadata": {},
   "source": [
    "### ------------> OBSERVATION\n",
    "***\n",
    "In this dataset, I realise that the scale of the dataset is quite large so I want to scale it. \n",
    "There are multiple ways to do feature scaling. [[5](#Link5)]\n",
    "<ul>\n",
    "    <li><b>MinMaxScaler</b> : it use min max to scale, if there is any negative values in the data, it scale them back between 0, and 1.</li> \n",
    "    <li><b>StandardScaler</b>: it makes mean = 0 and scales the data to unit variance.</li>\n",
    "    <li><b>RobustScaler</b>: nearly the same with StandardScaler but, it also use the median, and nterquertile range in order to remove outliers </li>\n",
    " </ul>"
   ]
  },
  {
   "cell_type": "markdown",
   "id": "e4c0ad82",
   "metadata": {},
   "source": [
    "<h1><font color=\"$5831bc\" face=\"Comic Sans MS\">Scaling</font></h1>\n",
    "\n",
    "***\n",
    "\n",
    "I desire to use Standardization scalers for this since I want to apply Logistic regression algorithm for my model, and Logistic regression often generates more reliable predictions with Standardization scalers. Nevertheless, there are a lot of outliers in my dataset, so I decided to apply RobustScaler to gently remove those extreme outliers for a better model performance without affecting my dataset."
   ]
  },
  {
   "cell_type": "code",
   "execution_count": null,
   "id": "80e03904",
   "metadata": {},
   "outputs": [],
   "source": [
    "# Feature Scaling\n",
    "## We will be using RobustScaler to transform\n",
    "from sklearn.preprocessing import RobustScaler\n",
    "\n",
    "scale = RobustScaler()\n",
    "\n",
    "## transforming \"train_x\"\n",
    "X_train = scale.fit_transform(X_train)\n",
    "## transforming \"test_x\"\n",
    "X_test = scale.fit_transform(X_test)"
   ]
  },
  {
   "cell_type": "markdown",
   "id": "19c399c6",
   "metadata": {},
   "source": [
    "<h1><font color=\"#5831bc\" face=\"Comic Sans MS\">After Scaling</font></h1>"
   ]
  },
  {
   "cell_type": "code",
   "execution_count": null,
   "id": "a5046dc6",
   "metadata": {},
   "outputs": [],
   "source": [
    "pd.DataFrame(X_train, columns=headers).head()"
   ]
  },
  {
   "cell_type": "markdown",
   "id": "484a8563",
   "metadata": {},
   "source": [
    "### ------------> OBSERVATION\n",
    "***\n",
    "After scaling my dataset is much better."
   ]
  },
  {
   "cell_type": "markdown",
   "id": "834962e9",
   "metadata": {},
   "source": [
    "<a id=\"5\"></a>\n",
    "<h1 style=\"color:#ffc0cb;font-size:40px;font-family:Georgia;text-align:center;\"><strong> 🤖 5. Model training</strong></h1>\n",
    "\n",
    "*****\n",
    "\n",
    "There are five machine learning model that I have learned so far which are Linear Regression, Lasso polynomial regression, Ridge Regression, Logistic Regression, Decision Tree and Random Forest. From that, I chose Logistic Regression, Decision Tree and Random Forest for my assignment 1. The reason will be demonstrated."
   ]
  },
  {
   "cell_type": "markdown",
   "id": "fbf3ef12",
   "metadata": {},
   "source": [
    "## Major Keyword for this problem:\n",
    "> - Binary Classification"
   ]
  },
  {
   "cell_type": "code",
   "execution_count": null,
   "id": "030aa946",
   "metadata": {},
   "outputs": [],
   "source": [
    "plt.subplots(figsize = (12,10))\n",
    "plt.scatter(train.Age, train.Sepsis)\n",
    "plt.xlabel(\"Age\")\n",
    "plt.ylabel('Sepsis Status')"
   ]
  },
  {
   "cell_type": "markdown",
   "id": "62b6ace1",
   "metadata": {},
   "source": [
    "<p><img alt=\"Insight logo\" src=\"https://drive.google.com/uc?export=view&id=15uX4fnuDMuki2xAnjK8wv-ifJhAkBtJ2\" align=\"left\" hspace=\"10px\" vspace=\"0px\"></p>\n",
    "\n",
    "<ul style=\"list-style-type:none;\">\n",
    "  <li style=\"font-weight: bold;font-family:'Times New Roman';font-size:30px;font-style: italic;color:  #6468e8\">OBSERVATION:</li>\n",
    "</ul>\n",
    "\n",
    "<div class=\"alert alert-info\" role=\"alert\">\n",
    "<ul style=\"list-style-type:circle;font-family:Yu Mincho Demibold;font-size:20px;color:black\">\n",
    "    <li>It is <span style=\"color:#122ecc;\">Bernoulli probability distribution </span></li>\n",
    "</ul>\n",
    "</div>"
   ]
  },
  {
   "attachments": {
    "logistic-regression-in-machine-learning.png": {
     "image/png": "[encoded data removed]"
    }
   },
   "cell_type": "markdown",
   "id": "68e8e20f",
   "metadata": {},
   "source": [
    "<a id=\"5.1\"></a>\n",
    "# 5.1 Logistic Regression:\n",
    "****\n",
    "\n",
    "## ***Logistic regression***: \n",
    "\n",
    "> - It is a process for training the classification model having the discrete outcomes. \n",
    "> - It assumes there are linear relationships between the target variable (y) with the input features (x), hence, that y values can be determined by a linear combination of all the input features.\n",
    "> - It has the sigmoid function or the \"S\" curve to fit the data point. \n",
    "\n",
    "\n",
    "## $$ h = \\theta_0 + \\theta_1 x + \\theta_2x + ... + \\theta_nx \\\\ $$\n",
    "\n",
    "This is the equation for a simple linear regression.\n",
    "here,\n",
    "* h = Hypothesis ℎ, with respect to weights $\\theta$. \n",
    "* $\\theta$ = weight of variable\n",
    "* $x$ = Features/attributes. \n",
    "\n",
    "![logistic-regression-in-machine-learning.png](attachment:logistic-regression-in-machine-learning.png)\n",
    "\n",
    "## ***Why I chose Logistic regression***: \n",
    "\n",
    "> - It does not need to assume there is any linearly seperable.\n",
    "> - It works best for binary classification.\n",
    "> - It works best for a linear problem.\n"
   ]
  },
  {
   "cell_type": "markdown",
   "id": "4cc886c0",
   "metadata": {},
   "source": [
    "<a id=\"5.1.1\"></a>\n",
    "## 5.1.1 Train Model"
   ]
  },
  {
   "cell_type": "code",
   "execution_count": null,
   "id": "b1643739",
   "metadata": {},
   "outputs": [],
   "source": [
    "#Intialise model Logistic Regression:\n",
    "logreg = LogisticRegression(solver='liblinear', # I use 'liblinear' for solver since this is just a simple prob.\n",
    "                            penalty= 'l2', # I use 'l2' since it does not remove outliers.\n",
    "                            intercept_scaling=1e3, #minimise the effect of L2 regularization\n",
    "                            max_iter=100000000  #move to more datapoint -> more accuracy\n",
    "                           )\n",
    "\n",
    "## Fit the model with \"train_x\" and \"train_y\"\n",
    "logreg.fit(X_train,y_train)\n",
    "\n",
    "## Use the \"X_test\" to predict the model outcome -> evaluate the outcome of model.\n",
    "y_pred = logreg.predict(X_test)\n",
    "## Use the \"X_train\" to predict the model outcome -> evaluate the outcome of model in train set.\n",
    "y_pred_train = logreg.predict(X_train)"
   ]
  },
  {
   "cell_type": "markdown",
   "id": "c7e6e2cd",
   "metadata": {},
   "source": [
    "## Overfitting"
   ]
  },
  {
   "cell_type": "code",
   "execution_count": null,
   "id": "118c7566",
   "metadata": {},
   "outputs": [],
   "source": [
    "## Check if the model is overfitting or not\n",
    "from sklearn.metrics import f1_score, accuracy_score\n",
    "## Print F1 score and Accuracy Score:\n",
    "print(\"Test F1 Score:\" + str(f1_score(y_test, y_pred)))\n",
    "print(\"Test Accuracy Score:\" + str(accuracy_score (y_test, y_pred)))\n",
    "print(\"--------------------------------------------------------\")\n",
    "print(\"Train F1 Score:\" + str(f1_score (y_train, y_pred_train)))\n",
    "print(\"Train Accuracy Score:\" + str(accuracy_score (y_train, y_pred_train)))"
   ]
  },
  {
   "cell_type": "markdown",
   "id": "ac6a66f7",
   "metadata": {},
   "source": [
    "### ------------> OBSERVATION\n",
    "***\n",
    "Overall, it is a quite good score, and there is no overfitting or underfitting."
   ]
  },
  {
   "cell_type": "markdown",
   "id": "bdd4b0cd",
   "metadata": {},
   "source": [
    "<a id=\"5.1.2\"></a>\n",
    "## 5.1.2 Model Evaluation\n",
    "****\n",
    "There are many evaluation techniques for classification problem. There are:\n",
    "* Confusion Matrix. \n",
    "* ROC & AUC Curve\n",
    "\n",
    "Since this is to predict the sepsis of the paintents, so it is neccessary to optimise all the values including accuracy, precision, recall and F1 score. However, I will concentrate mainly on the recall rate. I will explain below.\n",
    "\n",
    "- Recal is calculated by  ${\\frac{TP}{TP - FN}}$. It is determined as the true positive.\n",
    "\n",
    "> - TP: True Positive\n",
    "> - FN: False Negative\n",
    "\n",
    "### --------> So that the recall high means the rate of missing really positive points is low. Meanwhile, the Precision high means that the accuracy of the points found is high. In medical, if the model mistakenly classified the people not having sepsis to have sepsis is not as dangerous as the classifying the people actually having sepsis to not having sepsis.\n"
   ]
  },
  {
   "cell_type": "markdown",
   "id": "8fe32704",
   "metadata": {},
   "source": [
    "## Confusion Matrix:\n",
    "****\n",
    "- It is used for calculating the percentage of data that is correctly classified, the class having the highest correct classified prediction, or misclassifies class. It cludes:\n",
    "\n",
    "> - **True Positive(TP)**\n",
    "> - **True Negative(TN)**\n",
    "> - **False Positive(FP)**\n",
    "> - **False Negative(FN)**"
   ]
  },
  {
   "cell_type": "code",
   "execution_count": null,
   "id": "7ec36479",
   "metadata": {},
   "outputs": [],
   "source": [
    "from sklearn.metrics import classification_report, confusion_matrix\n",
    "# printing confision matrix\n",
    "pd.DataFrame(confusion_matrix(y_test,y_pred),\\\n",
    "            columns=[\"Predicted Not-Sepsis\", \"Predicted Sepsis\"],\\\n",
    "            index=[\"Not-Sepsis\",\"Sepsis\"])"
   ]
  },
  {
   "cell_type": "code",
   "execution_count": null,
   "id": "88d6489e",
   "metadata": {},
   "outputs": [],
   "source": [
    "classes = ['Not-Sepsis','Sepsis']\n",
    "\n",
    "# helper function\n",
    "def plot_confusionmatrix(y_train_pred,y_train,dom):\n",
    "    print(f'{dom} Confusion matrix')\n",
    "    cf = confusion_matrix(y_train_pred,y_train)\n",
    "    sns.heatmap(cf,annot=True,yticklabels=classes\n",
    "               ,xticklabels=classes,cmap='Blues', fmt='g')\n",
    "    plt.tight_layout()\n",
    "    plt.show()\n",
    "    \n",
    "print(f'Train score {accuracy_score(y_pred_train,y_train)}')\n",
    "print(f'Test score {accuracy_score(y_pred,y_test)}')\n",
    "plot_confusionmatrix(y_pred_train,y_train,dom='Train')\n",
    "plot_confusionmatrix(y_pred,y_test,dom='Test')"
   ]
  },
  {
   "cell_type": "markdown",
   "id": "7e1c47eb",
   "metadata": {},
   "source": [
    "## Classification report:\n",
    "****"
   ]
  },
  {
   "cell_type": "code",
   "execution_count": null,
   "id": "69fdc7d8",
   "metadata": {},
   "outputs": [],
   "source": [
    "from sklearn.metrics import classification_report, balanced_accuracy_score\n",
    "print(classification_report(y_test, y_pred))"
   ]
  },
  {
   "cell_type": "markdown",
   "id": "c4f84b41",
   "metadata": {},
   "source": [
    "### ------------> OBSERVATION\n",
    "****\n",
    "> - ***Precision***: 0.72 means for each 100 predicted people to have sepsis, only 72 people actually have sepsis\n",
    "> - ***Recall***: 0.72 means for each 100 truly have sepsis, we have 72 people was labeled probably.\n",
    "> - ***F1-score***: It is a harmonic mean of the `Precision` and `Recall`."
   ]
  },
  {
   "cell_type": "markdown",
   "id": "f18849f3",
   "metadata": {},
   "source": [
    "## AUC & ROC Curve"
   ]
  },
  {
   "cell_type": "code",
   "execution_count": null,
   "id": "af3330ad",
   "metadata": {},
   "outputs": [],
   "source": [
    "from sklearn.metrics import roc_curve, auc\n",
    "\n",
    "y_score = logreg.decision_function(X_test)\n",
    "\n",
    "FPR, TPR, _ = roc_curve(y_test, y_score)\n",
    "ROC_AUC = auc(FPR, TPR)\n",
    "print(\"AUC score: \" + str(ROC_AUC))\n",
    "\n",
    "plt.figure(figsize =[11,9])\n",
    "plt.plot(FPR, TPR, label= 'ROC curve(area = %0.2f)'%ROC_AUC, linewidth= 4)\n",
    "plt.plot([0,1],[0,1], 'k--', linewidth = 4)\n",
    "plt.xlim([0.0,1.0])\n",
    "plt.ylim([0.0,1.05])\n",
    "plt.xlabel('False Positive Rate', fontsize = 18)\n",
    "plt.ylabel('True Positive Rate', fontsize = 18)\n",
    "plt.title('ROC for Sepsis Detection', fontsize= 18)\n",
    "plt.show()"
   ]
  },
  {
   "cell_type": "markdown",
   "id": "dba2eb6f",
   "metadata": {},
   "source": [
    "### ------------> OBSERVATION\n",
    "****\n",
    "- In medical diagnosis, it is very important to have the model can have AUC reach 0.95 or higher."
   ]
  },
  {
   "cell_type": "markdown",
   "id": "bee7260e",
   "metadata": {},
   "source": [
    "## Using Cross-validation:"
   ]
  },
  {
   "cell_type": "code",
   "execution_count": null,
   "id": "15c2db53",
   "metadata": {},
   "outputs": [],
   "source": [
    "accuracy = cross_val_score(logreg, X, y, scoring='accuracy', cv = 10)\n",
    "print(accuracy)\n",
    "#get the mean of each fold \n",
    "print(\"Accuracy of Model with Cross Validation is:\",accuracy.mean() * 100)"
   ]
  },
  {
   "cell_type": "markdown",
   "id": "fe7df176",
   "metadata": {},
   "source": [
    "<a id=\"5.1.3\"></a>\n",
    "## 5.1.3 Hypertuning parameter\n",
    "****\n",
    "\n",
    "Logistic regression have no critical parameter for hypertuning. I will hypertuning those parameter:\n",
    "\n",
    "> - solver\n",
    "> - penalty\n",
    "> - c values\n",
    "> - max_iter\n",
    "> - intercept_scaling\n",
    "\n"
   ]
  },
  {
   "cell_type": "code",
   "execution_count": null,
   "id": "a90ba57c",
   "metadata": {
    "scrolled": true
   },
   "outputs": [],
   "source": [
    "from sklearn.model_selection import RepeatedStratifiedKFold\n",
    "from sklearn.model_selection import GridSearchCV\n",
    "#Parameters for Logistic Regression\n",
    "solvers = ['newton-cg', 'lbfgs', 'liblinear', 'sag', 'saga']\n",
    "penalty = ['l2', 'l1', 'elasticnet', 'none'] # Since Solver newton-cg and lbfgs support only 'l2' or 'none' penalties.\n",
    "lMaxIter = [1e4, 1e5, 1e6]\n",
    "c_values = [1e4, 1e5, 1e6]\n",
    "intercept_scaling= [1e4, 1e5, 1e6]\n",
    "\n",
    "model = LogisticRegression()\n",
    "random_state = [i for i in (0, 42)]\n",
    "# define grid search\n",
    "grid = dict(solver=solvers,penalty=penalty,C=c_values, max_iter=lMaxIter, intercept_scaling=intercept_scaling)\n",
    "cv = RepeatedStratifiedKFold(n_splits=10, n_repeats=3, random_state=1)\n",
    "grid_search = GridSearchCV(estimator=logreg, param_grid=grid, n_jobs=-1, cv=cv, scoring='accuracy',error_score=0)\n",
    "grid_result = grid_search.fit(X_train, y_train)\n",
    "# summarize results\n",
    "print(\"Best: %f using %s\" % (grid_result.best_score_, grid_result.best_params_))\n",
    "means = grid_result.cv_results_['mean_test_score']\n",
    "stds = grid_result.cv_results_['std_test_score']\n",
    "params = grid_result.cv_results_['params']\n",
    "\n",
    "for mean, stdev, param in zip(means, stds, params):\n",
    "    print(\"%f (%f) with: %r\" % (mean, stdev, param))"
   ]
  },
  {
   "cell_type": "code",
   "execution_count": null,
   "id": "a8d242e9",
   "metadata": {},
   "outputs": [],
   "source": [
    "## Getting the best of score. \n",
    "print (grid_search.best_score_)\n",
    "## Getting the best of parameter. \n",
    "print (grid_search.best_params_)\n",
    "## Getting the best of estimator. \n",
    "print(grid_search.best_estimator_)"
   ]
  },
  {
   "cell_type": "markdown",
   "id": "f072d048",
   "metadata": {},
   "source": [
    "<a id=\"5.1.4\"></a>\n",
    "## 5.1.4 Retrain\n",
    "****"
   ]
  },
  {
   "cell_type": "code",
   "execution_count": null,
   "id": "9b5ed47a",
   "metadata": {},
   "outputs": [],
   "source": [
    "model = LogisticRegression(C=10000.0, intercept_scaling=10000.0, max_iter=10000.0, penalty='l2',\n",
    "                   solver='newton-cg')\n",
    "model.fit(X_train,y_train)\n",
    "y_train_pred = model.predict(X_train)\n",
    "y_test_pred = model.predict(X_test)\n",
    "\n",
    "print(f'Train score {accuracy_score(y_train_pred,y_train)}')\n",
    "print(f'Test score {accuracy_score(y_test_pred,y_test)}')\n",
    "plot_confusionmatrix(y_train_pred,y_train,dom='Train')\n",
    "plot_confusionmatrix(y_test_pred,y_test,dom='Test')"
   ]
  },
  {
   "cell_type": "code",
   "execution_count": null,
   "id": "bc6c6998",
   "metadata": {},
   "outputs": [],
   "source": [
    "print(classification_report(y_test, y_pred))"
   ]
  },
  {
   "cell_type": "markdown",
   "id": "290986d7",
   "metadata": {},
   "source": [
    "<a id=\"5.1.5\"></a>\n",
    "## 5.1.5 Conclusion\n",
    "****\n",
    "- In order to valuate the Logistic Regression Model, I use some methods including the accuracy, AUC score, precision, recall and f1-score.\n",
    "- Since the accuracy score only concentrates on the true and correct values, nevertheless, this is the medical problem so it also requires the wrong rate to be minimum as much as possible. Since then, the precision, recall and f1-score are good methods. \n",
    "- In this model\n",
    "\n",
    "> - AUC score: 0.79 (The area under the ROC curve (AUC) results were considered excellent for AUC values between 0.9-1, good for AUC values between 0.8-0.9, fair for AUC values between 0.7-0.8, poor for AUC values between 0.6-0.7 and failed for AUC values between 0.5-0.6.) [[6](#Link6)]\n",
    "\n",
    "- The classification report demonstrates the precision, recall, and f1-score. Overall, the support columns reported the number of occurence of each class in my dataset. According to the report, the dataset is not well balanced, that is the reason why the scores is siginificantly different.\n",
    "> - Precision classify the sepsis: 0.73\n",
    "> - Recall classify the sepsis: 0.64\n",
    "> - F1-score classify the sepsis: 0.69\n",
    "\n",
    "### ***Requirements for Logistic Regression to work effectively***:\n",
    "\n",
    "1. The target variable is in binary.\n",
    "\n",
    "2. It requires a large number of sample in order to improve the efficiency.\n",
    "\n",
    "### ------> So that is the reason why I do not prefer this model as my prominent model for my final result since my data set is so small\n"
   ]
  },
  {
   "attachments": {
    "decision-tree-classification-algorithm.png": {
     "image/png": "[encoded data removed]"
    }
   },
   "cell_type": "markdown",
   "id": "44c1d46d",
   "metadata": {},
   "source": [
    "<a id=\"5.2\"></a>\n",
    "# 5.2 Decision Tree Classifier:\n",
    "****\n",
    "\n",
    "## ***Decision Tree Classifier***: \n",
    "\n",
    "> - It is a supervised learning strategy that can be used for both classificaton and regression. \n",
    "> - It has the branch to represent a decision rule, and the outcomes are presented in each leafnode.\n",
    "> - It uses the Attribute Selection Measures(ASM) to split the leafnode.\n",
    "> - Some of the most popular selection measurement are Information Gain, Gain Ratio, and Gini Index.\n",
    "\n",
    "![decision-tree-classification-algorithm.png](attachment:decision-tree-classification-algorithm.png)\n",
    "\n",
    "## ***Why I chose  Decision Tree Classifier***: \n",
    "\n",
    "> - It works best with classification.\n",
    "> - It is easy to interpret and visualize.\n",
    "> - I do not need to normalise the data.\n",
    "> - It has no assumptions about distribution because of the non-parametric nature of the algorithm.\n",
    "> - Low computation cost, short running time"
   ]
  },
  {
   "cell_type": "markdown",
   "id": "1f4733c4",
   "metadata": {},
   "source": [
    "<a id=\"5.2.1\"></a>\n",
    "## 5.2.1 Train Model:\n",
    "****"
   ]
  },
  {
   "cell_type": "code",
   "execution_count": null,
   "id": "d0ab06fc",
   "metadata": {},
   "outputs": [],
   "source": [
    "# Initialise the model\n",
    "clf=DecisionTreeClassifier(random_state=42)\n",
    "\n",
    "# Fit the model with train set\n",
    "clf.fit(X_train,y_train)\n",
    "\n",
    "## Use the \"X_train\" to predict the model outcome -> evaluate the outcome of model in train set.\n",
    "y_train_predicted=clf.predict(X_train)\n",
    "\n",
    "## Use the \"X_test\" to predict the model outcome -> evaluate the outcome of model.\n",
    "y_test_predicted=clf.predict(X_test)"
   ]
  },
  {
   "cell_type": "markdown",
   "id": "43e3614d",
   "metadata": {},
   "source": [
    "## Overfitting"
   ]
  },
  {
   "cell_type": "code",
   "execution_count": null,
   "id": "9927d8b0",
   "metadata": {},
   "outputs": [],
   "source": [
    "## Check if the model is overfitting or not?\n",
    "from sklearn.metrics import f1_score, accuracy_score\n",
    "print(\"Test F1 Score:\" + str(f1_score(y_test, y_test_predicted)))\n",
    "print(\"Test Accuracy Score:\" + str(accuracy_score (y_test, y_test_predicted)))\n",
    "print(\"--------------------------------------------------------\")\n",
    "print(\"Train F1 Score:\" + str(f1_score (y_train, y_train_predicted)))\n",
    "print(\"Train Accuracy Score:\" + str(accuracy_score (y_train, y_train_predicted)))"
   ]
  },
  {
   "cell_type": "markdown",
   "id": "6cc96379",
   "metadata": {},
   "source": [
    "### ------------> OBSERVATION\n",
    "*****\n",
    "There is a large overfitting. However, the accuracy is not high as expected, so I will have pruning process and hyperparameter tuning process to make the accuracy equal."
   ]
  },
  {
   "cell_type": "markdown",
   "id": "3119887f",
   "metadata": {},
   "source": [
    "## Plot The Decision Tree\n",
    "****"
   ]
  },
  {
   "cell_type": "code",
   "execution_count": null,
   "id": "02cd4a89",
   "metadata": {
    "scrolled": false
   },
   "outputs": [],
   "source": [
    "fig = plt.figure(figsize=(25,20))\n",
    "_ = tree.plot_tree(clf, \n",
    "                   feature_names=['PRG', 'PL', 'PR', 'SK', 'TS', 'M11', 'BD2', 'Age'],  \n",
    "                   class_names=['PRG', 'PL', 'PR', 'SK', 'TS', 'M11', 'BD2', 'Age'],\n",
    "                   filled=True)"
   ]
  },
  {
   "cell_type": "markdown",
   "id": "e29b9340",
   "metadata": {},
   "source": [
    "<a id=\"5.2.2\"></a>\n",
    "## 5.2.2 Hyperparameter tuning & Pruning:\n",
    "****\n",
    "> - Hyperparameter tuning is for finding the most optimised parameter for my model.\n",
    "> - Pruning is for minimise the overfitting problem."
   ]
  },
  {
   "cell_type": "markdown",
   "id": "c8f61f95",
   "metadata": {},
   "source": [
    "## Feature importance for this decision tree:\n",
    "***\n",
    "This one is for selecting the values for the max_feature to train later"
   ]
  },
  {
   "cell_type": "code",
   "execution_count": null,
   "id": "06c7e9fb",
   "metadata": {},
   "outputs": [],
   "source": [
    "column_names = X.columns\n",
    "## feature importance\n",
    "feature_importances = pd.DataFrame(clf.feature_importances_, index = column_names, columns=['importance'])\n",
    "feature_importances.sort_values(by='importance', ascending=False).head(10)"
   ]
  },
  {
   "cell_type": "code",
   "execution_count": null,
   "id": "938e403f",
   "metadata": {},
   "outputs": [],
   "source": [
    "sorted_idx = clf.feature_importances_.argsort()\n",
    "plt.barh(['SK', 'PRG', 'TS', 'Age', 'PR', 'BD2', 'M11', 'PL'], clf.feature_importances_[sorted_idx])\n",
    "plt.xlabel(\"Random Forest Feature Importance\")"
   ]
  },
  {
   "cell_type": "markdown",
   "id": "162399f1",
   "metadata": {},
   "source": [
    "### ------------> OBSERVATION\n",
    "****\n",
    "In this decision tree, **PL, M11 and BD2** are three main important feature for classifying the sepsis and not sepsis patient. "
   ]
  },
  {
   "cell_type": "markdown",
   "id": "1c2daf23",
   "metadata": {},
   "source": [
    "<a id=\"5.2.2.a\"></a>\n",
    "## 5.2.2.a Post Pruning:\n",
    "****"
   ]
  },
  {
   "cell_type": "code",
   "execution_count": null,
   "id": "d24f5f9b",
   "metadata": {},
   "outputs": [],
   "source": [
    "path=clf.cost_complexity_pruning_path(X_train,y_train)\n",
    "#path variable gives two things ccp_alphas and impurities\n",
    "ccp_alphas,impurities=path.ccp_alphas,path.impurities\n",
    "print(\"ccp alpha will give list of values :\",ccp_alphas)\n",
    "print(\"***********************************************************\")\n",
    "print(\"Impurities in Decision Tree :\",impurities)"
   ]
  },
  {
   "cell_type": "code",
   "execution_count": null,
   "id": "166a4706",
   "metadata": {},
   "outputs": [],
   "source": [
    "clfs=[]   #will store all the models here\n",
    "for ccp_alpha in ccp_alphas:\n",
    "    clf=DecisionTreeClassifier(random_state=0,ccp_alpha=ccp_alpha)\n",
    "    clf.fit(X_train,y_train)\n",
    "    clfs.append(clf)\n",
    "print(\"Last node in Decision tree is {} and ccp_alpha for last node is {}\".format(clfs[-1].tree_.node_count,\n",
    "                                                                                  ccp_alphas[-1]))"
   ]
  },
  {
   "cell_type": "code",
   "execution_count": null,
   "id": "4fc3b38d",
   "metadata": {},
   "outputs": [],
   "source": [
    "train_scores = [clf.score(X_train, y_train) for clf in clfs]\n",
    "test_scores = [clf.score(X_test, y_test) for clf in clfs]\n",
    "fig, ax = plt.subplots()\n",
    "ax.set_xlabel(\"alpha\")\n",
    "ax.set_ylabel(\"accuracy\")\n",
    "ax.set_title(\"Accuracy vs alpha for training and testing sets\")\n",
    "ax.plot(ccp_alphas, train_scores, marker='o', label=\"train\",drawstyle=\"steps-post\")\n",
    "ax.plot(ccp_alphas, test_scores, marker='o', label=\"test\",drawstyle=\"steps-post\")\n",
    "ax.legend()\n",
    "plt.show()"
   ]
  },
  {
   "cell_type": "markdown",
   "id": "7532832f",
   "metadata": {},
   "source": [
    "### ------------> OBSERVATION\n",
    "****\n",
    "According to this plot the plot, the ccp_alpha that has the nearly equal train and test set is at 0.00899989."
   ]
  },
  {
   "cell_type": "markdown",
   "id": "cec0f100",
   "metadata": {},
   "source": [
    "## Retrain the model with ccp_alpha\n",
    "***"
   ]
  },
  {
   "cell_type": "code",
   "execution_count": null,
   "id": "14430b09",
   "metadata": {},
   "outputs": [],
   "source": [
    "# Initialise the model\n",
    "clf=DecisionTreeClassifier(random_state=42,ccp_alpha=0.00899989)\n",
    "\n",
    "# Fit the model with train set\n",
    "clf.fit(X_train,y_train)\n",
    "\n",
    "## Use the \"X_train\" to predict the model outcome -> evaluate the outcome of model in train set.\n",
    "y_train_predicted = clf.predict(X_train)\n",
    "\n",
    "## Use the \"X_test\" to predict the model outcome -> evaluate the outcome of model.\n",
    "y_test_predicted = clf.predict(X_test)"
   ]
  },
  {
   "cell_type": "code",
   "execution_count": null,
   "id": "d051e521",
   "metadata": {},
   "outputs": [],
   "source": [
    "## Check if the model is overfitting or not?\n",
    "from sklearn.metrics import f1_score, accuracy_score\n",
    "print(\"Test F1 Score:\" + str(f1_score(y_test, y_test_predicted)))\n",
    "print(\"Test Accuracy Score:\" + str(accuracy_score (y_test, y_test_predicted)))\n",
    "print(\"--------------------------------------------------------\")\n",
    "print(\"Train F1 Score:\" + str(f1_score (y_train, y_train_predicted)))\n",
    "print(\"Train Accuracy Score:\" + str(accuracy_score (y_train, y_train_predicted)))"
   ]
  },
  {
   "cell_type": "markdown",
   "id": "b537034a",
   "metadata": {},
   "source": [
    "<a id=\"5.2.2.b\"></a>\n",
    "## 5.2.2.b Pre Pruning:\n",
    "****"
   ]
  },
  {
   "cell_type": "code",
   "execution_count": null,
   "id": "c47b59b0",
   "metadata": {},
   "outputs": [],
   "source": [
    "grid_param={\"criterion\":[\"gini\",\"entropy\"],\n",
    "             \"splitter\":[\"best\",\"random\"],\n",
    "             \"max_depth\":range(2,400,50),\n",
    "             \"min_samples_leaf\":np.arange(2,50,5)\n",
    "            }\n",
    "grid_search=GridSearchCV(estimator=clf,param_grid=grid_param,cv=5,n_jobs=-1)\n",
    "grid_search.fit(X_train,y_train)"
   ]
  },
  {
   "cell_type": "code",
   "execution_count": null,
   "id": "fe0094de",
   "metadata": {},
   "outputs": [],
   "source": [
    "pd.DataFrame(grid_search.cv_results_)"
   ]
  },
  {
   "cell_type": "code",
   "execution_count": null,
   "id": "98f82fe2",
   "metadata": {},
   "outputs": [],
   "source": [
    "## Getting the best of everything. \n",
    "print (grid_search.best_score_)\n",
    "print (grid_search.best_params_)\n",
    "print(grid_search.best_estimator_)"
   ]
  },
  {
   "cell_type": "code",
   "execution_count": null,
   "id": "e8b115ae",
   "metadata": {},
   "outputs": [],
   "source": [
    "model = DecisionTreeClassifier(ccp_alpha=0.00899989, criterion='gini', max_depth=52,\n",
    "                               min_samples_leaf=2, random_state=42)\n",
    "model.fit(X_train,y_train)\n",
    "y_train_pred = model.predict(X_train)\n",
    "y_test_pred = model.predict(X_test)\n",
    "\n",
    "print(f'Train score {accuracy_score(y_train_pred,y_train)}')\n",
    "print(f'Test score {accuracy_score(y_test_pred,y_test)}')\n",
    "plot_confusionmatrix(y_train_pred,y_train,dom='Train')\n",
    "plot_confusionmatrix(y_test_pred,y_test,dom='Test')"
   ]
  },
  {
   "cell_type": "markdown",
   "id": "a5a9fb49",
   "metadata": {},
   "source": [
    "### ------------> OBSERVATION\n",
    "****\n",
    "No overfit anymore!"
   ]
  },
  {
   "cell_type": "markdown",
   "id": "aaf31e3a",
   "metadata": {},
   "source": [
    "<a id=\"5.2.2.c\"></a>\n",
    "## 5.2.2.c Hypertuning parameter:\n",
    "****\n",
    "I actually use both of grid search for tuning, nevertheless, I also desire to hypertuning manually since the grid search just simply search for the higest accuracy score and do not concern for underfitting or overfitting.\n",
    "***\n",
    "\n",
    "## Tuning max_depth: "
   ]
  },
  {
   "cell_type": "code",
   "execution_count": null,
   "id": "0ad1c43e",
   "metadata": {
    "scrolled": false
   },
   "outputs": [],
   "source": [
    "max_depths = np.linspace(1, 32, 32, endpoint=True) # List of values for tuning\n",
    "train_results = [] # Store train accuracy results\n",
    "test_results = []  # Store test accuracy results\n",
    "for max_depth in max_depths:\n",
    "   decisionTree = tree.DecisionTreeClassifier(ccp_alpha=0.00899989, max_depth=max_depth, random_state=42,\n",
    "                                              criterion='gini',  min_samples_leaf=2, splitter='best',\n",
    "                                             )\n",
    "   decisionTree.fit(X_train, y_train)\n",
    "   train_pred = decisionTree.predict(X_train)\n",
    "   train_acc = accuracy_score (y_train, train_pred)\n",
    "   # Add accuracy score to previous train results\n",
    "   train_results.append(train_acc)\n",
    "    \n",
    "   #test\n",
    "   test_pred = decisionTree.predict(X_test)\n",
    "   test_acc = accuracy_score (y_test, test_pred)\n",
    "   # Add auc score to previous test results\n",
    "   test_results.append(test_acc)\n",
    "\n",
    "   print('The Training Accuracy for max_depth {} is:'.format(max_depth), train_acc)\n",
    "   print('The Test Accuracy for max_depth {} is:'.format(max_depth), test_acc)\n",
    "\n",
    "from matplotlib.legend_handler import HandlerLine2D\n",
    "line1, = plt.plot(max_depths, train_results, \"b\", label='Train Accuracy')\n",
    "line2, = plt.plot(max_depths, test_results, \"r\", label='Test Accuracy')\n",
    "plt.legend(handler_map={line1: HandlerLine2D(numpoints=2)})\n",
    "plt.ylabel('Accuracy score')\n",
    "plt.xlabel('Tree depth')\n",
    "plt.show()\n"
   ]
  },
  {
   "cell_type": "markdown",
   "id": "613d9186",
   "metadata": {},
   "source": [
    "### ------------> OBSERVATION\n",
    "****\n",
    "According to this plot, the max_depth=5 can reach the highest accuracy"
   ]
  },
  {
   "cell_type": "markdown",
   "id": "c77318ea",
   "metadata": {},
   "source": [
    "## Tuning max_leaf_nodes: "
   ]
  },
  {
   "cell_type": "code",
   "execution_count": null,
   "id": "479184cc",
   "metadata": {
    "scrolled": false
   },
   "outputs": [],
   "source": [
    "train_results = [] # Store train accuracy results\n",
    "test_results = []  # Store test accuracy results\n",
    "for max_leaf_nodes in range(2,34):\n",
    "   decisionTree = tree.DecisionTreeClassifier(ccp_alpha=0.00899989, max_depth=4, random_state=42,\n",
    "                                              criterion='gini',  min_samples_leaf=2, splitter='best',\n",
    "                                              max_leaf_nodes=max_leaf_nodes\n",
    "                                             )\n",
    "   decisionTree.fit(X_train, y_train)\n",
    "   train_pred = decisionTree.predict(X_train)\n",
    "   train_acc = accuracy_score (y_train, train_pred)\n",
    "   # Add accuracy score to previous train results\n",
    "   train_results.append(train_acc)\n",
    "    \n",
    "   #test\n",
    "   test_pred = decisionTree.predict(X_test)\n",
    "   test_acc = accuracy_score (y_test, test_pred)\n",
    "   # Add auc score to previous test results\n",
    "   test_results.append(test_acc)\n",
    "\n",
    "   print('The Training Accuracy for max_leaf_nodes {} is:'.format(max_leaf_nodes), train_acc)\n",
    "   print('The Test Accuracy for max_leaf_nodes {} is:'.format(max_leaf_nodes), test_acc)\n",
    "\n",
    "from matplotlib.legend_handler import HandlerLine2D\n",
    "line1, = plt.plot(max_depths, train_results, \"b\", label='Train Accuracy')\n",
    "line2, = plt.plot(max_depths, test_results, \"r\", label='Test Accuracy')\n",
    "plt.legend(handler_map={line1: HandlerLine2D(numpoints=2)})\n",
    "plt.ylabel('Accuracy score')\n",
    "plt.xlabel('Tree depth')\n",
    "plt.show()"
   ]
  },
  {
   "cell_type": "markdown",
   "id": "f3bd046c",
   "metadata": {},
   "source": [
    "### ------------> OBSERVATION\n",
    "****\n",
    "According to this plot, the max_leaf_nodes = 8 can reach the highest accuracy for train and test"
   ]
  },
  {
   "cell_type": "markdown",
   "id": "a0cece43",
   "metadata": {},
   "source": [
    "## Tuning min_samples_leaf: "
   ]
  },
  {
   "cell_type": "code",
   "execution_count": null,
   "id": "41fd7530",
   "metadata": {
    "scrolled": false
   },
   "outputs": [],
   "source": [
    "train_results = [] # Store train accuracy results\n",
    "test_results = []  # Store test accuracy results\n",
    "for min_samples_leaf in range(2,34):\n",
    "   decisionTree = tree.DecisionTreeClassifier(ccp_alpha=0.00899989, max_depth=4, random_state=42,\n",
    "                                              criterion='gini',  min_samples_leaf=min_samples_leaf, splitter='best',\n",
    "                                              max_leaf_nodes=8\n",
    "                                             )\n",
    "   decisionTree.fit(X_train, y_train)\n",
    "   train_pred = decisionTree.predict(X_train)\n",
    "   train_acc = accuracy_score (y_train, train_pred)\n",
    "   # Add accuracy score to previous train results\n",
    "   train_results.append(train_acc)\n",
    "    \n",
    "   #test\n",
    "   test_pred = decisionTree.predict(X_test)\n",
    "   test_acc = accuracy_score (y_test, test_pred)\n",
    "   # Add auc score to previous test results\n",
    "   test_results.append(test_acc)\n",
    "\n",
    "   print('The Training Accuracy for min_samples_leaf {} is:'.format(min_samples_leaf), train_acc)\n",
    "   print('The Test Accuracy for min_samples_leaf {} is:'.format(min_samples_leaf), test_acc)\n",
    "\n",
    "from matplotlib.legend_handler import HandlerLine2D\n",
    "line1, = plt.plot(max_depths, train_results, \"b\", label='Train Accuracy')\n",
    "line2, = plt.plot(max_depths, test_results, \"r\", label='Test Accuracy')\n",
    "plt.legend(handler_map={line1: HandlerLine2D(numpoints=2)})\n",
    "plt.ylabel('Accuracy score')\n",
    "plt.xlabel('Tree depth')\n",
    "plt.show()"
   ]
  },
  {
   "cell_type": "markdown",
   "id": "57439990",
   "metadata": {},
   "source": [
    "### ------------> OBSERVATION\n",
    "****\n",
    "According to this plot, the min_samples_leaf = 2 can reach the highest accuracy for train and test."
   ]
  },
  {
   "cell_type": "markdown",
   "id": "7bf6bd9c",
   "metadata": {},
   "source": [
    "## Retrain\n",
    "***"
   ]
  },
  {
   "cell_type": "code",
   "execution_count": null,
   "id": "b3691a5f",
   "metadata": {},
   "outputs": [],
   "source": [
    "decision_tree = DecisionTreeClassifier(ccp_alpha=0.00899989, max_depth=4, random_state=42,\n",
    "                                              criterion='gini',  min_samples_leaf=2, splitter='best',\n",
    "                                              max_leaf_nodes=8\n",
    "                                             )\n",
    "decision_tree.fit(X_train,y_train)\n",
    "\n",
    "## Use the \"X_test\" to predict the model outcome -> evaluate the outcome of model.\n",
    "y_pred = model.predict(X_test)\n",
    "## Use the \"X_train\" to predict the model outcome -> evaluate the outcome of model in train set.\n",
    "y_pred_train = model.predict(X_train)\n",
    "\n",
    "y_pred_decision_tree= y_pred"
   ]
  },
  {
   "cell_type": "code",
   "execution_count": null,
   "id": "11e17d38",
   "metadata": {},
   "outputs": [],
   "source": [
    "## Check if the model is overfitting or not?\n",
    "print(\"Test F1 Score:\" + str(f1_score(y_test, y_pred)))\n",
    "print(\"Test Accuracy Score:\" + str(accuracy_score (y_test, y_pred)))\n",
    "print(\"--------------------------------------------------------\")\n",
    "print(\"Train F1 Score:\" + str(f1_score (y_train, y_pred_train)))\n",
    "print(\"Train Accuracy Score:\" + str(accuracy_score (y_train, y_pred_train)))"
   ]
  },
  {
   "cell_type": "code",
   "execution_count": null,
   "id": "12065e82",
   "metadata": {},
   "outputs": [],
   "source": [
    "print(classification_report(y_test, y_pred))"
   ]
  },
  {
   "cell_type": "code",
   "execution_count": null,
   "id": "c0ee4e0c",
   "metadata": {},
   "outputs": [],
   "source": [
    "false_positive_rate, true_positive_rate, thresholds = roc_curve(y_test, y_pred)\n",
    "roc_auc = auc(false_positive_rate, true_positive_rate)"
   ]
  },
  {
   "cell_type": "code",
   "execution_count": null,
   "id": "44f91f46",
   "metadata": {},
   "outputs": [],
   "source": [
    "print(roc_auc)"
   ]
  },
  {
   "cell_type": "markdown",
   "id": "1a272cd0",
   "metadata": {},
   "source": [
    "<a id=\"5.2.3\"></a>\n",
    "## 5.2.3 Conclusion\n",
    "****\n",
    "- In order to valuate the Decision Tree Model, I use some methods including the accuracy, AUC score, precision, recall and f1-score.\n",
    "- Since the accuracy score only concentrates on the true and correct values, nevertheless, this is the medical problem so it also requires the wrong rate to be minimum as much as possible. Since then, the precision, recall and f1-score are good methods. \n",
    "- In this model\n",
    "\n",
    "> - Accuracy: 0.80\n",
    "> - AUC score: 0.76 (The area under the ROC curve (AUC) results were considered excellent for AUC values between 0.9-1, good for AUC values between 0.8-0.9, fair for AUC values between 0.7-0.8, poor for AUC values between 0.6-0.7 and failed for AUC values between 0.5-0.6.) [[6](#Link6)]\n",
    "> - Precision classify the sepsis: 0.76\n",
    "> - Recall classify the sepsis: 0.79\n",
    "> - F1-score classify the sepsis: 0.78"
   ]
  },
  {
   "attachments": {
    "FBP3eIWVkAUcXPX.jpeg": {
     "image/jpeg": "[encoded data removed]"
    }
   },
   "cell_type": "markdown",
   "id": "40b8f08a",
   "metadata": {},
   "source": [
    "<a id=\"5.3\"></a>\n",
    "# 5.3 Random Forest:\n",
    "****\n",
    "\n",
    "## ***Random Forest***: \n",
    "*****\n",
    "![FBP3eIWVkAUcXPX.jpeg](attachment:FBP3eIWVkAUcXPX.jpeg)\n",
    "\n",
    "****\n",
    "> - It is a supervised learning strategy that can be used for both classificaton and regression. \n",
    "> - It an ensemble method (collection of many decision tree). \n",
    "\n",
    "****\n",
    "\n",
    "## ***Why I chose  Random Forest***: \n",
    "\n",
    "> - It works best with classification.\n",
    "> - It do not need to pruning like Decision Tree\n",
    "> - It has a lot of Decision Trees in order to generate the final output so it is more effective than Decision Tree.\n"
   ]
  },
  {
   "cell_type": "markdown",
   "id": "84a75bae",
   "metadata": {},
   "source": [
    "<a id=\"5.3.1\"></a>\n",
    "## 5.3.1 Training model:\n",
    "****"
   ]
  },
  {
   "cell_type": "code",
   "execution_count": null,
   "id": "5d920ec7",
   "metadata": {},
   "outputs": [],
   "source": [
    "from sklearn.ensemble import RandomForestClassifier\n",
    "# Initialise the model\n",
    "random_forest = RandomForestClassifier(random_state=44)\n",
    "\n",
    "# Fit the model with train set\n",
    "random_forest.fit(X_train,y_train)\n",
    "\n",
    "## Use the \"X_train\" to predict the model outcome -> evaluate the outcome of model in train set.\n",
    "y_train_predicted=random_forest.predict(X_train)\n",
    "\n",
    "## Use the \"X_test\" to predict the model outcome -> evaluate the outcome of model.\n",
    "y_test_predicted=random_forest.predict(X_test)"
   ]
  },
  {
   "cell_type": "markdown",
   "id": "0846bec7",
   "metadata": {},
   "source": [
    "## Overfitting"
   ]
  },
  {
   "cell_type": "code",
   "execution_count": null,
   "id": "6ac3c333",
   "metadata": {},
   "outputs": [],
   "source": [
    "## Check if the model is overfitting or not?\n",
    "print(\"Test F1 Score:\" + str(f1_score(y_test, y_pred)))\n",
    "print(\"Test Accuracy Score:\" + str(accuracy_score (y_test, y_test_predicted)))\n",
    "print(\"--------------------------------------------------------\")\n",
    "print(\"Train F1 Score:\" + str(f1_score (y_train, y_pred_train)))\n",
    "print(\"Train Accuracy Score:\" + str(accuracy_score (y_train, y_train_predicted)))"
   ]
  },
  {
   "cell_type": "markdown",
   "id": "c960e8d2",
   "metadata": {},
   "source": [
    "### ------------> OBSERVATION\n",
    "****\n",
    "According to the result, there is an extreme overfitting."
   ]
  },
  {
   "cell_type": "markdown",
   "id": "a8a52c5d",
   "metadata": {},
   "source": [
    "<a id=\"5.3.2\"></a>\n",
    "## 5.3.2 Hyperparameter tuning:\n",
    "****"
   ]
  },
  {
   "cell_type": "code",
   "execution_count": null,
   "id": "0c05a99e",
   "metadata": {},
   "outputs": [],
   "source": [
    "from sklearn.model_selection import GridSearchCV, StratifiedKFold, StratifiedShuffleSplit\n",
    "from sklearn.ensemble import RandomForestClassifier\n",
    "n_estimators = [140,145,150,155,160]\n",
    "max_depth = range(1,10)\n",
    "criterions = ['gini', 'entropy']\n",
    "cv = StratifiedShuffleSplit(n_splits=10, test_size=.30, random_state=44)\n",
    "\n",
    "\n",
    "parameters = {'n_estimators':n_estimators,\n",
    "              'max_depth':max_depth,\n",
    "              'criterion': criterions\n",
    "              \n",
    "        }\n",
    "grid = GridSearchCV(estimator=RandomForestClassifier(max_features='auto'),\n",
    "                                 param_grid=parameters,\n",
    "                                 cv=cv,\n",
    "                                 n_jobs = -1)\n",
    "grid.fit(X_train,y_train)"
   ]
  },
  {
   "cell_type": "code",
   "execution_count": null,
   "id": "c1416e49",
   "metadata": {},
   "outputs": [],
   "source": [
    "print (grid.best_score_)\n",
    "print (grid.best_params_)\n",
    "print (grid.best_estimator_)"
   ]
  },
  {
   "cell_type": "code",
   "execution_count": null,
   "id": "7f2c4d76",
   "metadata": {},
   "outputs": [],
   "source": [
    "rf_grid = grid.best_estimator_\n",
    "rf_grid.score(X,y)"
   ]
  },
  {
   "cell_type": "code",
   "execution_count": null,
   "id": "8f514de6",
   "metadata": {},
   "outputs": [],
   "source": [
    "model = RandomForestClassifier(max_depth=9, n_estimators=160, random_state=44, criterion='gini')\n",
    "model.fit(X_train,y_train)\n",
    "y_train_pred = model.predict(X_train)\n",
    "y_test_pred = model.predict(X_test)\n",
    "\n",
    "print(f'Train score {accuracy_score(y_train_pred,y_train)}')\n",
    "print(f'Test score {accuracy_score(y_test_pred,y_test)}')\n",
    "plot_confusionmatrix(y_train_pred,y_train,dom='Train')\n",
    "plot_confusionmatrix(y_test_pred,y_test,dom='Test')"
   ]
  },
  {
   "cell_type": "markdown",
   "id": "2fc7c6bc",
   "metadata": {},
   "source": [
    "### ------------> OBSERVATION\n",
    "****\n",
    "It is still overfit. I will try to manually tuning the parameters which are `max_depth`, `n_estimators`, `max_features`, `min_samples_split`, `min_samples_leaf`, `bootstrap`."
   ]
  },
  {
   "cell_type": "markdown",
   "id": "eae04081",
   "metadata": {},
   "source": [
    "## Tuning max_depth: \n",
    "****"
   ]
  },
  {
   "cell_type": "code",
   "execution_count": null,
   "id": "07b406a2",
   "metadata": {
    "scrolled": false
   },
   "outputs": [],
   "source": [
    "max_depths = np.linspace(1, 32, 32, endpoint=True) # List of values for tuning\n",
    "train_results = [] # Store train accuracy results\n",
    "test_results = []  # Store test accuracy results\n",
    "for max_depth in max_depths:\n",
    "   decisionTree = RandomForestClassifier(max_depth=max_depth, n_estimators=160, random_state=44, criterion='gini')\n",
    "   decisionTree.fit(X_train, y_train)\n",
    "   train_pred = decisionTree.predict(X_train)\n",
    "   train_acc = accuracy_score (y_train, train_pred)\n",
    "   # Add accuracy score to previous train results\n",
    "   train_results.append(train_acc)\n",
    "    \n",
    "   #test\n",
    "   test_pred = decisionTree.predict(X_test)\n",
    "   test_acc = accuracy_score (y_test, test_pred)\n",
    "   # Add auc score to previous test results\n",
    "   test_results.append(test_acc)\n",
    "\n",
    "   print('The Training Accuracy for max_depth {} is:'.format(max_depth), train_acc)\n",
    "   print('The Test Accuracy for max_depth {} is:'.format(max_depth), test_acc)\n",
    "\n",
    "from matplotlib.legend_handler import HandlerLine2D\n",
    "line1, = plt.plot(max_depths, train_results, \"b\", label='Train Accuracy')\n",
    "line2, = plt.plot(max_depths, test_results, \"r\", label='Test Accuracy')\n",
    "plt.legend(handler_map={line1: HandlerLine2D(numpoints=2)})\n",
    "plt.ylabel('Accuracy score')\n",
    "plt.xlabel('Tree depth')\n",
    "plt.show()"
   ]
  },
  {
   "cell_type": "markdown",
   "id": "e0781cc5",
   "metadata": {},
   "source": [
    "### ------------> OBSERVATION\n",
    "****\n",
    "Best accuracy for the max_depth is 2"
   ]
  },
  {
   "cell_type": "markdown",
   "id": "a7854884",
   "metadata": {},
   "source": [
    "## Tunning n_estimators:"
   ]
  },
  {
   "cell_type": "code",
   "execution_count": null,
   "id": "fae408c0",
   "metadata": {
    "scrolled": false
   },
   "outputs": [],
   "source": [
    "train_results = [] # Store train accuracy results\n",
    "test_results = []  # Store test accuracy results\n",
    "\n",
    "for n_estimator in range(140,172):    \n",
    "   decisionTree = RandomForestClassifier(max_depth=2, n_estimators=n_estimator, random_state=44, criterion='gini')\n",
    "   decisionTree.fit(X_train, y_train)\n",
    "   train_pred = decisionTree.predict(X_train)\n",
    "   train_acc = accuracy_score (y_train, train_pred)\n",
    "   # Add accuracy score to previous train results\n",
    "   train_results.append(train_acc)\n",
    "    \n",
    "   #test\n",
    "   test_pred = decisionTree.predict(X_test)\n",
    "   test_acc = accuracy_score (y_test, test_pred)\n",
    "   # Add auc score to previous test results\n",
    "   test_results.append(test_acc)\n",
    "\n",
    "   print('The Training Accuracy for n_estimator {} is:'.format(n_estimator), train_acc)\n",
    "   print('The Test Accuracy for n_estimator {} is:'.format(n_estimator), test_acc)\n",
    "\n",
    "from matplotlib.legend_handler import HandlerLine2D\n",
    "line1, = plt.plot(max_depths, train_results, \"b\", label='Train Accuracy')\n",
    "line2, = plt.plot(max_depths, test_results, \"r\", label='Test Accuracy')\n",
    "plt.legend(handler_map={line1: HandlerLine2D(numpoints=2)})\n",
    "plt.ylabel('Accuracy score')\n",
    "plt.xlabel('Tree depth')\n",
    "plt.show()"
   ]
  },
  {
   "cell_type": "markdown",
   "id": "6d9520a2",
   "metadata": {},
   "source": [
    "### ------------> OBSERVATION\n",
    "****\n",
    "Best n_estimators is 140\n",
    "max_depth=2"
   ]
  },
  {
   "cell_type": "markdown",
   "id": "d149d903",
   "metadata": {},
   "source": [
    "## Tunning max_feature:\n",
    "***\n",
    "For max_feature I just take from 1 to 7 features that I currently have"
   ]
  },
  {
   "cell_type": "code",
   "execution_count": null,
   "id": "69f07d4f",
   "metadata": {},
   "outputs": [],
   "source": [
    "for max_feature in range(1,8):\n",
    "  model = RandomForestClassifier(max_depth=2, n_estimators=140, random_state=44, criterion='gini',max_features=max_feature)\n",
    "  model.fit(X_train,y_train)\n",
    "  print('The Training Accuracy for max_features {} is:'.format(max_feature), model.score(X_train,y_train))\n",
    "  print('The Test Accuracy for max_features {} is:'.format(max_feature), model.score(X_test,y_test))\n",
    "  print('')"
   ]
  },
  {
   "cell_type": "markdown",
   "id": "c1834a02",
   "metadata": {},
   "source": [
    "### ------------> OBSERVATION\n",
    "****\n",
    "Best n_estimators is 140\n",
    "max_depth = 2\n",
    "max_features=5"
   ]
  },
  {
   "cell_type": "markdown",
   "id": "79f53ee3",
   "metadata": {},
   "source": [
    "## Tunning min_samples_leaf:"
   ]
  },
  {
   "cell_type": "code",
   "execution_count": null,
   "id": "59596e56",
   "metadata": {
    "scrolled": false
   },
   "outputs": [],
   "source": [
    "train_results = [] # Store train accuracy results\n",
    "test_results = []  # Store test accuracy results\n",
    "for min_samples_leaf in range(1,33):\n",
    "   decisionTree = RandomForestClassifier(max_depth=2, n_estimators=140, random_state=44, criterion='gini',\n",
    "                                         max_features=5, min_samples_leaf=min_samples_leaf\n",
    "                                        )\n",
    "   decisionTree.fit(X_train, y_train)\n",
    "   train_pred = decisionTree.predict(X_train)\n",
    "   train_acc = accuracy_score (y_train, train_pred)\n",
    "   # Add accuracy score to previous train results\n",
    "   train_results.append(train_acc)\n",
    "    \n",
    "   #test\n",
    "   test_pred = decisionTree.predict(X_test)\n",
    "   test_acc = accuracy_score (y_test, test_pred)\n",
    "   # Add auc score to previous test results\n",
    "   test_results.append(test_acc)\n",
    "\n",
    "   print('The Training Accuracy for min_samples_leaf {} is:'.format(min_samples_leaf), train_acc)\n",
    "   print('The Test Accuracy for min_samples_leaf {} is:'.format(min_samples_leaf), test_acc)\n",
    "\n",
    "from matplotlib.legend_handler import HandlerLine2D\n",
    "line1, = plt.plot(max_depths, train_results, \"b\", label='Train Accuracy')\n",
    "line2, = plt.plot(max_depths, test_results, \"r\", label='Test Accuracy')\n",
    "plt.legend(handler_map={line1: HandlerLine2D(numpoints=2)})\n",
    "plt.ylabel('Accuracy score')\n",
    "plt.xlabel('Tree depth')\n",
    "plt.show()"
   ]
  },
  {
   "cell_type": "markdown",
   "id": "2289066c",
   "metadata": {},
   "source": [
    "### ------------> OBSERVATION\n",
    "****\n",
    "- Best n_estimators is 2\n",
    "\n",
    "- max_depth=2\n",
    "\n",
    "- max_features = 3\n",
    "\n",
    "- min_samples_leaf = 2"
   ]
  },
  {
   "cell_type": "markdown",
   "id": "6dfe1454",
   "metadata": {},
   "source": [
    "## Retrain"
   ]
  },
  {
   "cell_type": "code",
   "execution_count": null,
   "id": "7b9557ac",
   "metadata": {},
   "outputs": [],
   "source": [
    "# Initialise the model\n",
    "random_forest = RandomForestClassifier(ccp_alpha=0.00899989, max_depth=2, n_estimators=140, random_state=44, criterion='gini',max_features=2,\n",
    "                                      min_samples_leaf=2,  max_leaf_nodes=8\n",
    "                                      )\n",
    "# Fit the model with train set\n",
    "random_forest.fit(X_train,y_train)\n",
    "\n",
    "## Use the \"X_train\" to predict the model outcome -> evaluate the outcome of model in train set.\n",
    "y_train_predicted=random_forest.predict(X_train)\n",
    "\n",
    "## Use the \"X_test\" to predict the model outcome -> evaluate the outcome of model.\n",
    "y_test_predicted=random_forest.predict(X_test)"
   ]
  },
  {
   "cell_type": "code",
   "execution_count": null,
   "id": "0716ec36",
   "metadata": {},
   "outputs": [],
   "source": [
    "## Check if the model is overfitting or not?\n",
    "print(\"Test F1 Score:\" + str(f1_score(y_test, y_pred)))\n",
    "print(\"Test Accuracy Score:\" + str(accuracy_score (y_test, y_test_predicted)))\n",
    "print(\"--------------------------------------------------------\")\n",
    "print(\"Train F1 Score:\" + str(f1_score (y_train, y_pred_train)))\n",
    "print(\"Train Accuracy Score:\" + str(accuracy_score (y_train, y_train_predicted)))"
   ]
  },
  {
   "cell_type": "code",
   "execution_count": null,
   "id": "bf7faf47",
   "metadata": {},
   "outputs": [],
   "source": [
    "print(classification_report(y_test, y_test_predicted))"
   ]
  },
  {
   "cell_type": "code",
   "execution_count": null,
   "id": "263d5ad2",
   "metadata": {},
   "outputs": [],
   "source": [
    "false_positive_rate, true_positive_rate, thresholds = roc_curve(y_test, y_pred)\n",
    "roc_auc = auc(false_positive_rate, true_positive_rate)\n",
    "print(roc_auc)"
   ]
  },
  {
   "cell_type": "markdown",
   "id": "805e80de",
   "metadata": {},
   "source": [
    "<a id=\"5.2.3\"></a>\n",
    "## 5.2.3 Conclusion\n",
    "****\n",
    "- In order to valuate the Random Forest Model, I use some methods including the accuracy, AUC score, precision, recall and f1-score.\n",
    "- Since the accuracy score only concentrates on the true and correct values, nevertheless, this is the medical problem so it also requires the wrong rate to be minimum as much as possible. Since then, the precision, recall and f1-score are good methods. \n",
    "- In this model\n",
    "\n",
    "> - Accuracy: 0.80\n",
    "> - AUC score: 0.76 (The area under the ROC curve (AUC) results were considered excellent for AUC values between 0.9-1, good for AUC values between 0.8-0.9, fair for AUC values between 0.7-0.8, poor for AUC values between 0.6-0.7 and failed for AUC values between 0.5-0.6.) [[6](#Link6)]\n",
    "> - Precision classify the sepsis: 0.76\n",
    "> - Recall classify the sepsis: 0.73\n",
    "> - F1-score classify the sepsis: 0.74"
   ]
  },
  {
   "cell_type": "markdown",
   "id": "69efb173",
   "metadata": {},
   "source": [
    "<a id=\"6\"></a>\n",
    "<h1 style=\"color:#ffc0cb;font-size:40px;font-family:Georgia;text-align:center;\"><strong>6. Compare Models</strong></h1>\n",
    "\n",
    "*****\n",
    "<a id=\"6.1\"></a>\n",
    "## 6.1 Comparision Model\n",
    "****"
   ]
  },
  {
   "cell_type": "code",
   "execution_count": null,
   "id": "508670ca",
   "metadata": {},
   "outputs": [],
   "source": [
    "clf_list = [\n",
    "    (logreg, \"Logistic\"),\n",
    "    (decision_tree, \"Decision tree\"),\n",
    "    (random_forest, \"Random forest\"),\n",
    "]"
   ]
  },
  {
   "cell_type": "code",
   "execution_count": null,
   "id": "c4ff8e93",
   "metadata": {},
   "outputs": [],
   "source": [
    "import matplotlib.pyplot as plt\n",
    "from matplotlib.gridspec import GridSpec\n",
    "from sklearn.calibration import CalibrationDisplay\n",
    "\n",
    "\n",
    "fig = plt.figure(figsize=(10, 10))\n",
    "gs = GridSpec(4, 2)\n",
    "colors = plt.cm.get_cmap(\"Dark2\")\n",
    "\n",
    "ax_calibration_curve = fig.add_subplot(gs[:2, :2])\n",
    "calibration_displays = {}\n",
    "for i, (clf, name) in enumerate(clf_list):\n",
    "    clf.fit(X_train, y_train)\n",
    "    display = CalibrationDisplay.from_estimator(\n",
    "        clf,\n",
    "        X_test,\n",
    "        y_test,\n",
    "        n_bins=10,\n",
    "        name=name,\n",
    "        ax=ax_calibration_curve,\n",
    "        color=colors(i),\n",
    "    )\n",
    "    calibration_displays[name] = display\n",
    "\n",
    "ax_calibration_curve.grid()\n",
    "ax_calibration_curve.set_title(\"Calibration plots\")\n",
    "\n",
    "# Add histogram\n",
    "grid_positions = [(2, 0), (2, 1), (3, 0), (3, 1)]\n",
    "for i, (_, name) in enumerate(clf_list):\n",
    "    row, col = grid_positions[i]\n",
    "    ax = fig.add_subplot(gs[row, col])\n",
    "\n",
    "    ax.hist(\n",
    "        calibration_displays[name].y_prob,\n",
    "        range=(0, 1),\n",
    "        bins=10,\n",
    "        label=name,\n",
    "        color=colors(i),\n",
    "    )\n",
    "    ax.set(title=name, xlabel=\"Mean predicted probability\", ylabel=\"Count\")\n",
    "\n",
    "plt.tight_layout()\n",
    "plt.show()"
   ]
  },
  {
   "cell_type": "markdown",
   "id": "7c3b81d5",
   "metadata": {},
   "source": [
    "<p><img alt=\"Insight logo\" src=\"https://drive.google.com/uc?export=view&id=15uX4fnuDMuki2xAnjK8wv-ifJhAkBtJ2\" align=\"left\" hspace=\"10px\" vspace=\"0px\"></p>\n",
    "\n",
    "<ul style=\"list-style-type:none;\">\n",
    "  <li style=\"font-weight: bold;font-family:'Times New Roman';font-size:30px;font-style: italic;color:  #6468e8\">OBSERVATION:</li>\n",
    "</ul>\n",
    "\n",
    "<div class=\"alert alert-info\" role=\"alert\">\n",
    "<ul style=\"list-style-type:circle;font-family:Yu Mincho Demibold;font-size:20px;color:black\">\n",
    "    <li> According to this plot, my Decision Tree model is the most effective model since it is nearly fit the calibrated line prefectly. So I will submit the result of Decision Tree.</li>\n",
    "    <br>\n",
    "    <li> From my own perspective, this dataset is small, so that it cannot work well with both of Logistic Regression, and Random Forest. Since the Logistic Regression require an amount of data to generate the line clearly. Moreover, the Rndom Forest is the combination of a multiple of Decision Tree, when it is a small data, then the combination is small so the accuracy is not high enough.</li>\n",
    "</ul>\n",
    "</div>"
   ]
  },
  {
   "cell_type": "markdown",
   "id": "04f71570",
   "metadata": {},
   "source": [
    "<a id=\"6.2\"></a>\n",
    "## 6.2 Save the best result\n",
    "****"
   ]
  },
  {
   "cell_type": "code",
   "execution_count": null,
   "id": "597e3650",
   "metadata": {},
   "outputs": [],
   "source": [
    "patient_ID = test['ID']\n",
    "\n",
    "output = pd.DataFrame()\n",
    "output['ID'] = patient_ID\n",
    "output['Sepsis'] = pd.Series(y_pred_decision_tree)\n",
    "output = output.dropna(axis = 0, how ='any')\n",
    "\n",
    "output.to_csv('Sepsis_prediction_result.csv', index=False)\n",
    "print(\"Submission was successfully saved!\")"
   ]
  },
  {
   "cell_type": "markdown",
   "id": "1c1d5c36",
   "metadata": {},
   "source": [
    "<a id=\"7\"></a>\n",
    "<h1 style=\"color:#ffc0cb;font-size:40px;font-family:Georgia;text-align:center;\"><strong>7. Conclusion</strong></h1>\n",
    "\n",
    "*****"
   ]
  },
  {
   "cell_type": "markdown",
   "id": "bc8b1722",
   "metadata": {},
   "source": [
    "In short, Sepsis has been a life-threatening condition for many paitent so that detecting the sepsis as early as possible is a vital mission of the scientist. After analysing and exploring the data set process, some intersting insights, one of those are the higher the statistic medical number is the higher chance the paitent will get sepsis.\n",
    "\n",
    "After the cleaning process, EDA, and t-test, the result is that the higher the statistical medical is, the higher chance for the paitent to have sepsis. Because of that, the outliers were not removed. Moreover, after traning all three models the Decision Tree has the highest score and the recall score is the highest so it is chosen for this project. "
   ]
  },
  {
   "cell_type": "markdown",
   "id": "4386f6d9",
   "metadata": {},
   "source": [
    "<a id=\"8\"></a>\n",
    "<h1 style=\"color:#ffc0cb;font-size:40px;font-family:Georgia;text-align:center;\"><strong>8. References</strong></h1>\n",
    "\n",
    "*****"
   ]
  },
  {
   "cell_type": "markdown",
   "id": "11edb4b9",
   "metadata": {},
   "source": [
    "<a id=\"Link1\"></a>\n",
    "- [1] [What Are Platelets and Why Are They Important?](https://www.hopkinsmedicine.org/health/conditions-and-diseases/what-are-platelets-and-why-are-they-important#:~:text=A%20normal%20platelet%20count%20ranges,complete%20blood%20count%20(CBC).)"
   ]
  },
  {
   "cell_type": "markdown",
   "id": "2b80e2cd",
   "metadata": {},
   "source": [
    "<a id=\"Link2\"></a>\n",
    "- [2] [What's a normal resting heart rate?](https://www.mayoclinic.org/healthy-lifestyle/fitness/expert-answers/heart-rate/faq-20057979#:~:text=A%20normal%20resting%20heart%20rate%20for%20adults%20ranges%20from%2060,to%2040%20beats%20per%20minute.)"
   ]
  },
  {
   "cell_type": "markdown",
   "id": "4942bb4a",
   "metadata": {},
   "source": [
    "<a id=\"Link3\"></a>\n",
    "- [3] [What Is a Potassium Blood Test?](https://www.webmd.com/a-to-z-guides/potassium-blood-test)"
   ]
  },
  {
   "cell_type": "markdown",
   "id": "4ab7dbd8",
   "metadata": {},
   "source": [
    "<a id=\"Link3\"></a>\n",
    "- [3] [What Is a Potassium Blood Test?](https://www.webmd.com/a-to-z-guides/potassium-blood-test)"
   ]
  },
  {
   "cell_type": "markdown",
   "id": "6306b96e",
   "metadata": {},
   "source": [
    "<a id=\"Link3\"></a>\n",
    "- [3] [What Is a Potassium Blood Test?](https://www.webmd.com/a-to-z-guides/potassium-blood-test)"
   ]
  },
  {
   "cell_type": "markdown",
   "id": "6da7ec74",
   "metadata": {},
   "source": [
    "<a id=\"Link3\"></a>\n",
    "- [3] [What Is a Potassium Blood Test?](https://www.webmd.com/a-to-z-guides/potassium-blood-test)"
   ]
  },
  {
   "cell_type": "markdown",
   "id": "14cafca2",
   "metadata": {},
   "source": [
    "<a id=\"Link4\"></a>\n",
    "- [4] [Assessing Your Weight](https://www.cdc.gov/healthyweight/assessing/index.html#:~:text=If%20your%20BMI%20is%20less,falls%20within%20the%20obese%20range.)"
   ]
  },
  {
   "cell_type": "markdown",
   "id": "13746225",
   "metadata": {},
   "source": [
    "<a id=\"Link5\"></a>\n",
    "- [5] [StandardScaler, MinMaxScaler and RobustScaler techniques – ML](https://www.geeksforgeeks.org/standardscaler-minmaxscaler-and-robustscaler-techniques-ml/#:~:text=StandardScaler%20follows%20Standard%20Normal%20Distribution,negative%20values%20in%20the%20dataset.)"
   ]
  },
  {
   "cell_type": "markdown",
   "id": "c133354c",
   "metadata": {},
   "source": [
    "<a id=\"Link6\"></a>\n",
    "- [6] [The Relationship of Temporal Resolution to Diagnostic Performance for Dynamic Contrast Enhanced (DCE) MRI of the Breast](https://www.ncbi.nlm.nih.gov/pmc/articles/PMC2935260/)"
   ]
  }
 ],
 "metadata": {
  "kernelspec": {
   "display_name": "Python 3 (ipykernel)",
   "language": "python",
   "name": "python3"
  },
  "language_info": {
   "codemirror_mode": {
    "name": "ipython",
    "version": 3
   },
   "file_extension": ".py",
   "mimetype": "text/x-python",
   "name": "python",
   "nbconvert_exporter": "python",
   "pygments_lexer": "ipython3",
   "version": "3.9.7"
  }
 },
 "nbformat": 4,
 "nbformat_minor": 5
}
