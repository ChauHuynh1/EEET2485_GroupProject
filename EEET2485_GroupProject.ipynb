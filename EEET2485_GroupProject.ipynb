{
 "cells": [
  {
   "cell_type": "markdown",
   "id": "f045b3e3",
   "metadata": {},
   "source": [
    "<h1 style=\"color:#ffc0cb;font-size:70px;font-family:Georgia;text-align:center;\"><strong>Group Assignment</strong></h1>\n",
    "<h2 style=\"color:#ffc0cb;font-size:70px;font-family:Georgia;text-align:center;\"><strong>Occupancy Estimation</strong></h2>\n",
    "\n",
    "### <b>Group 10</b>\n",
    "### <b>Student Name: Nguyen Dang Huynh Chau (s3777214)</b>\n",
    "### <b>Student Name: Truong Phu Khang ()</b>\n",
    "### <b>Student Name: </b>\n",
    "\n",
    "### <b>Course: EEET2485 - Research Method for Engineers</b>\n",
    "### <b>Lecturer: Dr. Dao Vu Truong Son</b>"
   ]
  },
  {
   "cell_type": "markdown",
   "id": "44cc16d7",
   "metadata": {},
   "source": [
    "<h1 style=\"color:#ffc0cb;font-size:40px;font-family:Georgia;text-align:center;\"><strong> 📜 Table of Content</strong></h1>\n",
    "\n",
    "### 1. [Data Preparation](#1)\n",
    "\n",
    "1.1 [Introduction](#1.1) \n",
    "\n",
    "1.2 [Target question for insights](#1.2)\n",
    "\n",
    "1.3 [Importing Necessary Libraries and datasets](#1.3)\n",
    "\n",
    "1.4 [Data Retrieving](#1.4)\n",
    "\n",
    "1.5 [Data information](#1.5)\n",
    "\n",
    "<br>\n",
    "\n",
    "### 2. [Data Cleaning](#2)\n",
    "\n",
    "2.1 [About This Dataset](#2.1)\n",
    "\n",
    "2.2 [Data preprocessing](#2.2)\n",
    "\n",
    "> - 2.2.1 [Drop column `ID` and `Insurance`](#2.2.1)\n",
    "> - 2.2.2 [Rename column `Sepssis`](#2.2.2)  \n",
    "> - 2.2.3 [Convert `Sepsis` in to binary number](#2.2.3)\n",
    "> - 2.2.4 [Drop Duplicate](#2.2.4)  \n",
    "> - 2.2.5 [Convert Data Type](#2.2.5)  \n",
    "\n",
    "2.3 [Drop column](#2.3)\n",
    "\n",
    "> - 2.3.1 [Check correllation for dropping](#2.3.1)\n",
    "> - 2.3.2 [Check missing values for dropping](#2.3.2)  \n",
    "\n",
    "2.4 [Upper Case the content](#2.4)\n",
    "\n",
    "2.5 [Extra-whitespaces](#2.5)\n",
    "\n",
    "2.6 [Descriptive statistics for Central Tendency](#2.6)\n",
    "\n",
    "> - 2.6.1 [Overview statistics](#2.6.1)\n",
    "> - 2.6.2 [Domain Knowledge](#2.6.2)  \n",
    "> - 2.6.3 [Detect Outliers](#2.6.2)  \n",
    "\n",
    "2.7 [Save The Intermediate Data](#2.8)\n",
    "\n",
    "<br>\n",
    "\n",
    "### 3. [Data exploration (EDA)](#3)\n",
    "\n",
    "3.1 [Overall look on target variable](#3.1)\n",
    "\n",
    "> - 3.1.1 [Distribution of Sepsis](#3.1.1) \n",
    "> - 3.1.2 [Proportion of Sepsis](#3.1.1) \n",
    "\n",
    "3.2 [Frequency of each corresponiding Target variable type](#3.2)\n",
    "\n",
    "> - 3.2.1 [How old are they?](#3.2.1) \n",
    "> - 3.2.2 [How much they weight?](#3.2.2) \n",
    "> - 3.2.3 [How high PL (Blood Work Result-1 (mu U/ml)) that the Sepsis is likely to get?](#3.2.3) \n",
    "> - 3.2.4 [How high PR ((Blood Pressure (mm Hg)) that the Sepsis is likely to get?](#3.2.4) \n",
    "> - 3.2.5 [How high SK (Blood Work Result-2 (mm) that the Sepsis is likely to get?](#3.2.5) \n",
    "> - 3.2.6 [How high TS (Blood Work Result-3 (mu U/ml)) that the Sepsis is likely to get?](#3.2.6) \n",
    "> - 3.2.7 [How high BD2 (Blood Work Result-4 (mu U/ml)) that the Sepsis is likely to get?](#3.2.7) \n",
    "> - 3.2.8 [How high BD2 (Blood Work Result-4 (mu U/ml)) that the Sepsis is likely to get?](#3.2.8) \n",
    "> - 3.2.9 [Scatter matrix](#3.2.8) \n",
    "\n",
    "3.3 [Statistical Test for Correlation](#3.3)\n",
    "\n",
    "3.4 [Summary](#3.3)\n",
    "\n",
    "<br>\n",
    "\n",
    "### 4. [Feature Engineering](#4)\n",
    "\n",
    "4.1 [Class Imbalancing](#4.1)\n",
    "\n",
    "4.2 [Splitting the training data](#4.2)\n",
    "\n",
    "4.3 [Feature Scaling](#4.3)\n",
    "\n",
    "\n",
    "\n",
    "<br>\n",
    "\n",
    "### 5. [Model Building](#5) \n",
    "\n",
    "5.1 [Logistic Regression](#5.1)\n",
    "\n",
    "> - 5.1.1 [Train Model](#5.1.1)\n",
    "> - 5.1.2 [Model Evaluation](#5.1.2)\n",
    "> - 5.1.3 [Hypertuning parameter](#5.1.3)\n",
    "> - 5.1.4 [Retrain](#5.1.4)\n",
    "> - 5.1.5 [Conclusion](#5.1.5)\n",
    "\n",
    "5.2 [Decision Tree](#5.2)\n",
    "\n",
    "> - 5.2.1 [Train Model](#5.2.1)\n",
    "> - 5.2.2 [Hypertuning & Pruning](#5.2.2)\n",
    "\n",
    "> - 5.2.2.a [Post-Pruning](#5.2.2.a)\n",
    "> - 5.2.2.b [Pre-Pruning](#5.2.2.b)\n",
    "> - 5.2.2.c [Hypertuning parameter](#5.2.2.c)\n",
    "\n",
    "> - 5.2.3 [Hypertuning parameter](#5.2.3)\n",
    "> - 5.2.4 [Conclusion](#5.2.3)\n",
    "\n",
    "5.3 [Random Forest](#5.3)\n",
    "\n",
    "> - 5.3.1 [Train Model](#5.3.1)\n",
    "> - 5.3.2 [Model Evaluation](#5.3.2)\n",
    "> - 5.3.3 [Hypertuning parameter](#5.3.3)\n",
    "> - 5.3.4 [Retrain](#5.3.4)\n",
    "> - 5.3.5 [Conclusion](#5.3.5)\n",
    "\n",
    "<br>\n",
    "\n",
    "### 6. [Conculsions](#5)\n",
    "\n",
    "<br>\n",
    "\n",
    "### 7. [References](#7)\n",
    "\n",
    "<br>\n",
    "\n",
    "### 8. [Appendix](#8)\n",
    "\n",
    "<hr>"
   ]
  },
  {
   "cell_type": "markdown",
   "id": "0e54a678",
   "metadata": {},
   "source": [
    "<a id=\"1\"></a>\n",
    "<h1 style=\"color:#ffc0cb;font-size:40px;font-family:Georgia;text-align:center;\"><strong> ✍️ 1. Data Preparation</strong></h1>"
   ]
  },
  {
   "cell_type": "markdown",
   "id": "878efddc",
   "metadata": {},
   "source": [
    "<a id=\"1.1\"></a>\n",
    "# ️🎯 1.1 Introduction\n",
    "****\n",
    "\n",
    "<p style=\"list-style-type:circle;font-family:Yu Mincho Demibold;font-size:20px;color:black\"> In this modern world, technology play an important role in making any objects to be smarter. In this project, our group will analysis a system called Room Occupancy Estimation. This system will create a standard for smart building in near future. This system will assist building managers or hotel managers to acknowledge number of rooms being used at the moment and number of rooms is currently empty. By using multiple sensors like temperature, lights, sound, CO2. With multiple devices being used in this system, IoT will be employed and most importantly, all these devices must be energy efficient and low cost. Therefore, these devices will need to be saving energy for less battery consuming. Moreover, our group is going to analyst data in this project, to see efficintcy of the system .</p>\n",
    "\n",
    "## 📣 What will you get after this notebook?\n",
    "\n",
    "<ul style=\"list-style-type:circle;font-family:Yu Mincho Demibold;font-size:20px;color:black\">\n",
    "    <li>Factors that reflect </li>\n",
    "</ul>"
   ]
  },
  {
   "cell_type": "markdown",
   "id": "02360045",
   "metadata": {},
   "source": [
    "<a id=\"1.2\"></a>\n",
    "# ️🎯 1.2 Target question for insights\n",
    "****\n",
    "<ul style=\"list-style-type:circle;font-family:Yu Mincho Demibold;font-size:20px;color:black\">\n",
    "    <li>Which <span style=\"color:#122ecc;\">Time </span> the <span style=\"color:#122ecc;\">temperature, light, sound, CO2 and digital passive infrared (PIR) </span> reach the highest values?</li>\n",
    "\n",
    "</ul>"
   ]
  },
  {
   "cell_type": "markdown",
   "id": "021f2e47",
   "metadata": {},
   "source": [
    "<a id=\"1.3\"></a>\n",
    "# ✴️ 1.3 Importing Necessary Libraries and datasets\n",
    "****"
   ]
  },
  {
   "cell_type": "code",
   "execution_count": 1,
   "id": "9cb03fa0",
   "metadata": {},
   "outputs": [],
   "source": [
    "import sys\n",
    "!{sys.executable} -m pip -q install missingno\n",
    "!{sys.executable} -m pip -q install graphviz\n",
    "!{sys.executable} -m pip -q install researchpy\n",
    "!{sys.executable} -m pip -q install imbalanced-learn\n",
    "\n",
    "# import libraries which are pandas and numpy\n",
    "import pandas as pd\n",
    "import numpy as np\n",
    "import missingno as msno\n",
    "\n",
    "\n",
    "#for plots\n",
    "import matplotlib.pyplot as plt\n",
    "plt.rcParams[\"figure.figsize\"]= 20,15\n",
    "\n",
    "#Libraries for plotting\n",
    "# Modules for data visualization\n",
    "import seaborn as sns\n",
    "import matplotlib.patches as mpatches\n",
    "sns.set_theme(style=\"ticks\", color_codes=True) #set theme in seaborn\n",
    "# scatter matrix library\n",
    "from pandas.plotting import scatter_matrix"
   ]
  },
  {
   "cell_type": "markdown",
   "id": "2896fc04",
   "metadata": {},
   "source": [
    "## Check numpy and pandas version"
   ]
  },
  {
   "cell_type": "code",
   "execution_count": 2,
   "id": "21ed321f",
   "metadata": {},
   "outputs": [
    {
     "name": "stdout",
     "output_type": "stream",
     "text": [
      "Numpy version:  1.22.3\n",
      "Pandas version:  1.3.4\n",
      "Python 3.9.7\r\n"
     ]
    }
   ],
   "source": [
    "# check the version of the packages\n",
    "print(\"Numpy version: \", np.__version__)\n",
    "print(\"Pandas version: \",pd.__version__)\n",
    "! python --version"
   ]
  },
  {
   "cell_type": "markdown",
   "id": "accfd412",
   "metadata": {},
   "source": [
    "### ------------> OBSERVATION\n",
    "***\n",
    "I want to check the numpy and pandas version since I want to make sure the verson is appropriate for my work load. Currently, it is still appropriate"
   ]
  },
  {
   "cell_type": "markdown",
   "id": "686868a7",
   "metadata": {},
   "source": [
    "<a id=\"1.4\"></a>\n",
    "# 📲 1.4 Data Retrieving\n",
    "***\n"
   ]
  },
  {
   "cell_type": "code",
   "execution_count": 3,
   "id": "532c2ed8",
   "metadata": {},
   "outputs": [
    {
     "name": "stdout",
     "output_type": "stream",
     "text": [
      "The shape of the ORGINAL data is (row, column): (10129, 19)\n"
     ]
    },
    {
     "data": {
      "text/html": [
       "<div>\n",
       "<style scoped>\n",
       "    .dataframe tbody tr th:only-of-type {\n",
       "        vertical-align: middle;\n",
       "    }\n",
       "\n",
       "    .dataframe tbody tr th {\n",
       "        vertical-align: top;\n",
       "    }\n",
       "\n",
       "    .dataframe thead th {\n",
       "        text-align: right;\n",
       "    }\n",
       "</style>\n",
       "<table border=\"1\" class=\"dataframe\">\n",
       "  <thead>\n",
       "    <tr style=\"text-align: right;\">\n",
       "      <th></th>\n",
       "      <th>Date</th>\n",
       "      <th>Time</th>\n",
       "      <th>S1_Temp</th>\n",
       "      <th>S2_Temp</th>\n",
       "      <th>S3_Temp</th>\n",
       "      <th>S4_Temp</th>\n",
       "      <th>S1_Light</th>\n",
       "      <th>S2_Light</th>\n",
       "      <th>S3_Light</th>\n",
       "      <th>S4_Light</th>\n",
       "      <th>S1_Sound</th>\n",
       "      <th>S2_Sound</th>\n",
       "      <th>S3_Sound</th>\n",
       "      <th>S4_Sound</th>\n",
       "      <th>S5_CO2</th>\n",
       "      <th>S5_CO2_Slope</th>\n",
       "      <th>S6_PIR</th>\n",
       "      <th>S7_PIR</th>\n",
       "      <th>Room_Occupancy_Count</th>\n",
       "    </tr>\n",
       "  </thead>\n",
       "  <tbody>\n",
       "    <tr>\n",
       "      <th>0</th>\n",
       "      <td>2017/12/22</td>\n",
       "      <td>10:49:41</td>\n",
       "      <td>24.94</td>\n",
       "      <td>24.75</td>\n",
       "      <td>24.56</td>\n",
       "      <td>25.38</td>\n",
       "      <td>121</td>\n",
       "      <td>34</td>\n",
       "      <td>53</td>\n",
       "      <td>40</td>\n",
       "      <td>0.08</td>\n",
       "      <td>0.19</td>\n",
       "      <td>0.06</td>\n",
       "      <td>0.06</td>\n",
       "      <td>390</td>\n",
       "      <td>0.769231</td>\n",
       "      <td>0</td>\n",
       "      <td>0</td>\n",
       "      <td>1</td>\n",
       "    </tr>\n",
       "    <tr>\n",
       "      <th>1</th>\n",
       "      <td>2017/12/22</td>\n",
       "      <td>10:50:12</td>\n",
       "      <td>24.94</td>\n",
       "      <td>24.75</td>\n",
       "      <td>24.56</td>\n",
       "      <td>25.44</td>\n",
       "      <td>121</td>\n",
       "      <td>33</td>\n",
       "      <td>53</td>\n",
       "      <td>40</td>\n",
       "      <td>0.93</td>\n",
       "      <td>0.05</td>\n",
       "      <td>0.06</td>\n",
       "      <td>0.06</td>\n",
       "      <td>390</td>\n",
       "      <td>0.646154</td>\n",
       "      <td>0</td>\n",
       "      <td>0</td>\n",
       "      <td>1</td>\n",
       "    </tr>\n",
       "    <tr>\n",
       "      <th>2</th>\n",
       "      <td>2017/12/22</td>\n",
       "      <td>10:50:42</td>\n",
       "      <td>25.00</td>\n",
       "      <td>24.75</td>\n",
       "      <td>24.50</td>\n",
       "      <td>25.44</td>\n",
       "      <td>121</td>\n",
       "      <td>34</td>\n",
       "      <td>53</td>\n",
       "      <td>40</td>\n",
       "      <td>0.43</td>\n",
       "      <td>0.11</td>\n",
       "      <td>0.08</td>\n",
       "      <td>0.06</td>\n",
       "      <td>390</td>\n",
       "      <td>0.519231</td>\n",
       "      <td>0</td>\n",
       "      <td>0</td>\n",
       "      <td>1</td>\n",
       "    </tr>\n",
       "  </tbody>\n",
       "</table>\n",
       "</div>"
      ],
      "text/plain": [
       "         Date      Time  S1_Temp  S2_Temp  S3_Temp  S4_Temp  S1_Light  \\\n",
       "0  2017/12/22  10:49:41    24.94    24.75    24.56    25.38       121   \n",
       "1  2017/12/22  10:50:12    24.94    24.75    24.56    25.44       121   \n",
       "2  2017/12/22  10:50:42    25.00    24.75    24.50    25.44       121   \n",
       "\n",
       "   S2_Light  S3_Light  S4_Light  S1_Sound  S2_Sound  S3_Sound  S4_Sound  \\\n",
       "0        34        53        40      0.08      0.19      0.06      0.06   \n",
       "1        33        53        40      0.93      0.05      0.06      0.06   \n",
       "2        34        53        40      0.43      0.11      0.08      0.06   \n",
       "\n",
       "   S5_CO2  S5_CO2_Slope  S6_PIR  S7_PIR  Room_Occupancy_Count  \n",
       "0     390      0.769231       0       0                     1  \n",
       "1     390      0.646154       0       0                     1  \n",
       "2     390      0.519231       0       0                     1  "
      ]
     },
     "execution_count": 3,
     "metadata": {},
     "output_type": "execute_result"
    }
   ],
   "source": [
    "df = pd.read_csv(\"Data/Occupancy_Estimation.csv\", delimiter=',', skipinitialspace = True)\n",
    "\n",
    "df.columns = df.columns.str.replace(' ', '') #strip the extra-whitespaces out\n",
    "\n",
    "print(\"The shape of the ORGINAL data is (row, column):\", str(df.shape))\n",
    "\n",
    "# drop Unnamed, it is just a number given to identify each house\n",
    "df.head(3)"
   ]
  },
  {
   "cell_type": "markdown",
   "id": "a135e3ff",
   "metadata": {},
   "source": [
    "<a id=\"1.5\"></a>\n",
    "# 🔈 1.5 Data Information\n",
    "****\n",
    "I want to have an overall look on both of the train and test dataset, so I use .shape and .info() function in python to do that."
   ]
  },
  {
   "cell_type": "code",
   "execution_count": 4,
   "id": "d31955b7",
   "metadata": {},
   "outputs": [
    {
     "name": "stdout",
     "output_type": "stream",
     "text": [
      "The shape of the train data is (row, column):(10129, 19)\n",
      "<class 'pandas.core.frame.DataFrame'>\n",
      "RangeIndex: 10129 entries, 0 to 10128\n",
      "Data columns (total 19 columns):\n",
      " #   Column                Non-Null Count  Dtype  \n",
      "---  ------                --------------  -----  \n",
      " 0   Date                  10129 non-null  object \n",
      " 1   Time                  10129 non-null  object \n",
      " 2   S1_Temp               10129 non-null  float64\n",
      " 3   S2_Temp               10129 non-null  float64\n",
      " 4   S3_Temp               10129 non-null  float64\n",
      " 5   S4_Temp               10129 non-null  float64\n",
      " 6   S1_Light              10129 non-null  int64  \n",
      " 7   S2_Light              10129 non-null  int64  \n",
      " 8   S3_Light              10129 non-null  int64  \n",
      " 9   S4_Light              10129 non-null  int64  \n",
      " 10  S1_Sound              10129 non-null  float64\n",
      " 11  S2_Sound              10129 non-null  float64\n",
      " 12  S3_Sound              10129 non-null  float64\n",
      " 13  S4_Sound              10129 non-null  float64\n",
      " 14  S5_CO2                10129 non-null  int64  \n",
      " 15  S5_CO2_Slope          10129 non-null  float64\n",
      " 16  S6_PIR                10129 non-null  int64  \n",
      " 17  S7_PIR                10129 non-null  int64  \n",
      " 18  Room_Occupancy_Count  10129 non-null  int64  \n",
      "dtypes: float64(9), int64(8), object(2)\n",
      "memory usage: 1.5+ MB\n",
      "None\n"
     ]
    }
   ],
   "source": [
    "print (\"The shape of the train data is (row, column):\"+ str(df.shape))\n",
    "print (df.info())"
   ]
  },
  {
   "cell_type": "markdown",
   "id": "315b9e8e",
   "metadata": {},
   "source": [
    "### ------------> OBSERVATION\n",
    "***\n",
    "From this, the information that I gained from the train dataset are the total record is 10129 with no missing and it has 19 columns with the target variable `Room_Occupancy_Count."
   ]
  },
  {
   "cell_type": "markdown",
   "id": "512f5b86",
   "metadata": {},
   "source": [
    "<a id=\"2\"></a>\n",
    "<h1 style=\"color:#ffc0cb;font-size:40px;font-family:Georgia;text-align:center;\"><strong> 🧹 2. Data Cleaning</strong></h1>"
   ]
  },
  {
   "cell_type": "markdown",
   "id": "5982289a",
   "metadata": {},
   "source": [
    "<a id=\"2.1\"></a>\n",
    "# 🦄 2.1 About This Dataset\n",
    "***\n",
    "Let's investigate the datatype of the dataset a little bit.\n",
    "***\n",
    "**Categorical:** \n",
    "            \n",
    "- **Ordinal** (just like nominal datatype but can be ordered or ranked)\n",
    "> - **Date** YYYY/MM/DD: the date of the experiment\n",
    "> - **Time**: the time of the experiment\n",
    "> - **Room_Occupancy_Count**: Ground Truth\n",
    "\n",
    "***\n",
    "**Numeric:**\n",
    "- **Discrete**\n",
    ">  - **pctid** : Cooler Fan RPM Speed Percentage ID (20 means 20%, and so on).\n",
    "  \n",
    "- **Continous**\n",
    "    >  - **S1_Temp**: Sensor nodes 1 temperature\n",
    "    >  - **S2_Temp**: Sensor nodes 2 temperature\n",
    "    >  - **S3_Temp**: Sensor nodes 3 temperature\n",
    "    >  - **S4_Temp**: Sensor nodes 4 temperature\n",
    "    >  - **S1_Temp**: Sensor nodes 1 temperature\n",
    "    >  - **S1_Light**: Sensor nodes 1 light\n",
    "    >  - **S2_Light**: Sensor nodes 2 light\n",
    "    >  - **S3_Light**: Sensor nodes 3 light\n",
    "    >  - **S4_Light**: Sensor nodes 4 light\n",
    "    >  - **S1_Sound**: Sensor nodes 1 sound\n",
    "    >  - **S2_Sound**: Sensor nodes 2 sound\n",
    "    >  - **S3_Sound**: Sensor nodes 3 sound\n",
    "    >  - **S4_Sound**: Sensor nodes 4 sound\n",
    "    >  - **S5_CO2**: Sensor nodes 5 CO2\n",
    "    >  - **S5_CO2_Slope**: Sensor nodes 1 temperature\n",
    "    >  - **S6_PIR**: Sensor nodes 1 temperature\n",
    "    >  - **S7_PIR**: Sensor nodes 1 temperature"
   ]
  },
  {
   "cell_type": "markdown",
   "id": "22b07614",
   "metadata": {},
   "source": [
    "<a id=\"2.2\"></a>\n",
    "# 🦄 2.2 Drop duplicate\n",
    "***\n",
    "Firstly, we want to drop duplicate"
   ]
  },
  {
   "cell_type": "code",
   "execution_count": 5,
   "id": "9c2bd764",
   "metadata": {},
   "outputs": [
    {
     "name": "stdout",
     "output_type": "stream",
     "text": [
      "The shape of the data set before dropping duplicated:(10129, 19)\n",
      "The shape of the data set after dropping duplicated:(10129, 19)\n"
     ]
    }
   ],
   "source": [
    "print (\"The shape of the data set before dropping duplicated:\"+ str(df.shape))\n",
    "\n",
    "df = df.drop_duplicates()\n",
    "\n",
    "print (\"The shape of the data set after dropping duplicated:\"+ str(df.shape))"
   ]
  },
  {
   "cell_type": "markdown",
   "id": "69d71180",
   "metadata": {},
   "source": [
    "### ------------> OBSERVATION\n",
    "***\n",
    "In our data there is no duplicated values."
   ]
  },
  {
   "cell_type": "markdown",
   "id": "c65913f6",
   "metadata": {},
   "source": [
    "<a id=\"3\"></a>\n",
    "<h1 style=\"color:#ffc0cb;font-size:40px;font-family:Georgia;text-align:center;\"><strong> 📊 3. Data analyise </strong></h1>\n",
    "\n",
    "****\n",
    "\n",
    "<p style=\"list-style-type:circle;font-family:Yu Mincho Demibold;font-size:20px;color:black\">1. Outliners </p>\n",
    "<p style=\"list-style-type:circle;font-family:Yu Mincho Demibold;font-size:20px;color:black\">2. Correlation </p>\n",
    "<p style=\"list-style-type:circle;font-family:Yu Mincho Demibold;font-size:20px;color:black\">3. Correlation </p>"
   ]
  },
  {
   "cell_type": "markdown",
   "id": "ca400ecf",
   "metadata": {},
   "source": [
    "<a id=\"3.1\"></a>\n",
    "# 3.1 Outliers\n",
    "****\n",
    "## Detect and Dropping regulation: \n",
    "For the outliers, I want to detect them first. There are 2 scenarios which is the percentage of outliers is less than and equal 6 or the outliers is over 6 percent. For the percentage of outliers which is equal or less than 6, I will drop them since it does not effect much to our data, however, if the percentage of outliers is higher than 6 then I will investigate more. In case, all of the outliers have at least 1 person in that room, I do not drop it, since it indicate that in the \"extreme\" condition, that room have at least one people. In the scenario that there is just about less than 20 percent of the outliers have at least 1 people in the room, then I will drop that outliers since those outliers are just the noise data, which cause bias for the later model. Lastly, if there is more than 60 percent of outliers have at least one people in the room, then I will just drop the noise that do not have anyone in room. \n",
    "*****\n",
    "## Outliers Dealing Method: \n",
    "I will deal outliers with box plot and IQR-distance from Median. The Z-Score, Quantile Filter, and IQR-distance from Median are three common methods for dealing with outliers. The Z-Score is used to calculate the mean and standard deviation. As a result, the evaluation of outliers may be skewed. The Quantile Filter is a superior strategy, however it can remove some of the parts that aren't outliers, resulting in a significant quantity of good data being lost while the outliers remain.\n",
    "\n",
    "The minimum is known as Q0, the lower quartile is known as Q1, the median is known as Q2, the upper quartile is known as Q3, and the maximum is known as Q4. Q1, Q2, and Q3 mean:\n",
    "> - Q1: greater than one-quarter of the data\n",
    "> -Q2: greater than two-quarters of the data.\n",
    "> -Q3: more than three-quarters of the data.\n",
    "\n",
    "The InterQuatile Range, or IQR, is what is measured when the spread is measured. The IQR shows how evenly distributed the middle half of the data is. As a result of measuring IQR, values that are far from the center are identified and labeled as outliers.)"
   ]
  },
  {
   "cell_type": "markdown",
   "id": "9f8b32b7",
   "metadata": {},
   "source": [
    "<a id=\"3.1.1\"></a>\n",
    "## 3.1.1 Descriptive statistics for Central Tendency"
   ]
  },
  {
   "cell_type": "code",
   "execution_count": 6,
   "id": "f2d33ca4",
   "metadata": {},
   "outputs": [
    {
     "data": {
      "text/html": [
       "<div>\n",
       "<style scoped>\n",
       "    .dataframe tbody tr th:only-of-type {\n",
       "        vertical-align: middle;\n",
       "    }\n",
       "\n",
       "    .dataframe tbody tr th {\n",
       "        vertical-align: top;\n",
       "    }\n",
       "\n",
       "    .dataframe thead th {\n",
       "        text-align: right;\n",
       "    }\n",
       "</style>\n",
       "<table border=\"1\" class=\"dataframe\">\n",
       "  <thead>\n",
       "    <tr style=\"text-align: right;\">\n",
       "      <th></th>\n",
       "      <th>count</th>\n",
       "      <th>mean</th>\n",
       "      <th>std</th>\n",
       "      <th>min</th>\n",
       "      <th>25%</th>\n",
       "      <th>50%</th>\n",
       "      <th>75%</th>\n",
       "      <th>max</th>\n",
       "    </tr>\n",
       "  </thead>\n",
       "  <tbody>\n",
       "    <tr>\n",
       "      <th>S1_Temp</th>\n",
       "      <td>10129.0</td>\n",
       "      <td>25.454012</td>\n",
       "      <td>0.351351</td>\n",
       "      <td>24.940000</td>\n",
       "      <td>25.190000</td>\n",
       "      <td>25.38</td>\n",
       "      <td>25.63</td>\n",
       "      <td>26.380000</td>\n",
       "    </tr>\n",
       "    <tr>\n",
       "      <th>S2_Temp</th>\n",
       "      <td>10129.0</td>\n",
       "      <td>25.546059</td>\n",
       "      <td>0.586325</td>\n",
       "      <td>24.750000</td>\n",
       "      <td>25.190000</td>\n",
       "      <td>25.38</td>\n",
       "      <td>25.63</td>\n",
       "      <td>29.000000</td>\n",
       "    </tr>\n",
       "    <tr>\n",
       "      <th>S3_Temp</th>\n",
       "      <td>10129.0</td>\n",
       "      <td>25.056621</td>\n",
       "      <td>0.427283</td>\n",
       "      <td>24.440000</td>\n",
       "      <td>24.690000</td>\n",
       "      <td>24.94</td>\n",
       "      <td>25.38</td>\n",
       "      <td>26.190000</td>\n",
       "    </tr>\n",
       "    <tr>\n",
       "      <th>S4_Temp</th>\n",
       "      <td>10129.0</td>\n",
       "      <td>25.754125</td>\n",
       "      <td>0.356434</td>\n",
       "      <td>24.940000</td>\n",
       "      <td>25.440000</td>\n",
       "      <td>25.75</td>\n",
       "      <td>26.00</td>\n",
       "      <td>26.560000</td>\n",
       "    </tr>\n",
       "    <tr>\n",
       "      <th>S1_Light</th>\n",
       "      <td>10129.0</td>\n",
       "      <td>25.445059</td>\n",
       "      <td>51.011264</td>\n",
       "      <td>0.000000</td>\n",
       "      <td>0.000000</td>\n",
       "      <td>0.00</td>\n",
       "      <td>12.00</td>\n",
       "      <td>165.000000</td>\n",
       "    </tr>\n",
       "    <tr>\n",
       "      <th>S2_Light</th>\n",
       "      <td>10129.0</td>\n",
       "      <td>26.016290</td>\n",
       "      <td>67.304170</td>\n",
       "      <td>0.000000</td>\n",
       "      <td>0.000000</td>\n",
       "      <td>0.00</td>\n",
       "      <td>14.00</td>\n",
       "      <td>258.000000</td>\n",
       "    </tr>\n",
       "    <tr>\n",
       "      <th>S3_Light</th>\n",
       "      <td>10129.0</td>\n",
       "      <td>34.248494</td>\n",
       "      <td>58.400744</td>\n",
       "      <td>0.000000</td>\n",
       "      <td>0.000000</td>\n",
       "      <td>0.00</td>\n",
       "      <td>50.00</td>\n",
       "      <td>280.000000</td>\n",
       "    </tr>\n",
       "    <tr>\n",
       "      <th>S4_Light</th>\n",
       "      <td>10129.0</td>\n",
       "      <td>13.220259</td>\n",
       "      <td>19.602219</td>\n",
       "      <td>0.000000</td>\n",
       "      <td>0.000000</td>\n",
       "      <td>0.00</td>\n",
       "      <td>22.00</td>\n",
       "      <td>74.000000</td>\n",
       "    </tr>\n",
       "    <tr>\n",
       "      <th>S1_Sound</th>\n",
       "      <td>10129.0</td>\n",
       "      <td>0.168178</td>\n",
       "      <td>0.316709</td>\n",
       "      <td>0.060000</td>\n",
       "      <td>0.070000</td>\n",
       "      <td>0.08</td>\n",
       "      <td>0.08</td>\n",
       "      <td>3.880000</td>\n",
       "    </tr>\n",
       "    <tr>\n",
       "      <th>S2_Sound</th>\n",
       "      <td>10129.0</td>\n",
       "      <td>0.120066</td>\n",
       "      <td>0.266503</td>\n",
       "      <td>0.040000</td>\n",
       "      <td>0.050000</td>\n",
       "      <td>0.05</td>\n",
       "      <td>0.06</td>\n",
       "      <td>3.440000</td>\n",
       "    </tr>\n",
       "    <tr>\n",
       "      <th>S3_Sound</th>\n",
       "      <td>10129.0</td>\n",
       "      <td>0.158119</td>\n",
       "      <td>0.413637</td>\n",
       "      <td>0.040000</td>\n",
       "      <td>0.060000</td>\n",
       "      <td>0.06</td>\n",
       "      <td>0.07</td>\n",
       "      <td>3.670000</td>\n",
       "    </tr>\n",
       "    <tr>\n",
       "      <th>S4_Sound</th>\n",
       "      <td>10129.0</td>\n",
       "      <td>0.103840</td>\n",
       "      <td>0.120683</td>\n",
       "      <td>0.050000</td>\n",
       "      <td>0.060000</td>\n",
       "      <td>0.08</td>\n",
       "      <td>0.10</td>\n",
       "      <td>3.400000</td>\n",
       "    </tr>\n",
       "    <tr>\n",
       "      <th>S5_CO2</th>\n",
       "      <td>10129.0</td>\n",
       "      <td>460.860401</td>\n",
       "      <td>199.964940</td>\n",
       "      <td>345.000000</td>\n",
       "      <td>355.000000</td>\n",
       "      <td>360.00</td>\n",
       "      <td>465.00</td>\n",
       "      <td>1270.000000</td>\n",
       "    </tr>\n",
       "    <tr>\n",
       "      <th>S5_CO2_Slope</th>\n",
       "      <td>10129.0</td>\n",
       "      <td>-0.004830</td>\n",
       "      <td>1.164990</td>\n",
       "      <td>-6.296154</td>\n",
       "      <td>-0.046154</td>\n",
       "      <td>0.00</td>\n",
       "      <td>0.00</td>\n",
       "      <td>8.980769</td>\n",
       "    </tr>\n",
       "    <tr>\n",
       "      <th>S6_PIR</th>\n",
       "      <td>10129.0</td>\n",
       "      <td>0.090137</td>\n",
       "      <td>0.286392</td>\n",
       "      <td>0.000000</td>\n",
       "      <td>0.000000</td>\n",
       "      <td>0.00</td>\n",
       "      <td>0.00</td>\n",
       "      <td>1.000000</td>\n",
       "    </tr>\n",
       "    <tr>\n",
       "      <th>S7_PIR</th>\n",
       "      <td>10129.0</td>\n",
       "      <td>0.079574</td>\n",
       "      <td>0.270645</td>\n",
       "      <td>0.000000</td>\n",
       "      <td>0.000000</td>\n",
       "      <td>0.00</td>\n",
       "      <td>0.00</td>\n",
       "      <td>1.000000</td>\n",
       "    </tr>\n",
       "    <tr>\n",
       "      <th>Room_Occupancy_Count</th>\n",
       "      <td>10129.0</td>\n",
       "      <td>0.398559</td>\n",
       "      <td>0.893633</td>\n",
       "      <td>0.000000</td>\n",
       "      <td>0.000000</td>\n",
       "      <td>0.00</td>\n",
       "      <td>0.00</td>\n",
       "      <td>3.000000</td>\n",
       "    </tr>\n",
       "  </tbody>\n",
       "</table>\n",
       "</div>"
      ],
      "text/plain": [
       "                        count        mean         std         min         25%  \\\n",
       "S1_Temp               10129.0   25.454012    0.351351   24.940000   25.190000   \n",
       "S2_Temp               10129.0   25.546059    0.586325   24.750000   25.190000   \n",
       "S3_Temp               10129.0   25.056621    0.427283   24.440000   24.690000   \n",
       "S4_Temp               10129.0   25.754125    0.356434   24.940000   25.440000   \n",
       "S1_Light              10129.0   25.445059   51.011264    0.000000    0.000000   \n",
       "S2_Light              10129.0   26.016290   67.304170    0.000000    0.000000   \n",
       "S3_Light              10129.0   34.248494   58.400744    0.000000    0.000000   \n",
       "S4_Light              10129.0   13.220259   19.602219    0.000000    0.000000   \n",
       "S1_Sound              10129.0    0.168178    0.316709    0.060000    0.070000   \n",
       "S2_Sound              10129.0    0.120066    0.266503    0.040000    0.050000   \n",
       "S3_Sound              10129.0    0.158119    0.413637    0.040000    0.060000   \n",
       "S4_Sound              10129.0    0.103840    0.120683    0.050000    0.060000   \n",
       "S5_CO2                10129.0  460.860401  199.964940  345.000000  355.000000   \n",
       "S5_CO2_Slope          10129.0   -0.004830    1.164990   -6.296154   -0.046154   \n",
       "S6_PIR                10129.0    0.090137    0.286392    0.000000    0.000000   \n",
       "S7_PIR                10129.0    0.079574    0.270645    0.000000    0.000000   \n",
       "Room_Occupancy_Count  10129.0    0.398559    0.893633    0.000000    0.000000   \n",
       "\n",
       "                         50%     75%          max  \n",
       "S1_Temp                25.38   25.63    26.380000  \n",
       "S2_Temp                25.38   25.63    29.000000  \n",
       "S3_Temp                24.94   25.38    26.190000  \n",
       "S4_Temp                25.75   26.00    26.560000  \n",
       "S1_Light                0.00   12.00   165.000000  \n",
       "S2_Light                0.00   14.00   258.000000  \n",
       "S3_Light                0.00   50.00   280.000000  \n",
       "S4_Light                0.00   22.00    74.000000  \n",
       "S1_Sound                0.08    0.08     3.880000  \n",
       "S2_Sound                0.05    0.06     3.440000  \n",
       "S3_Sound                0.06    0.07     3.670000  \n",
       "S4_Sound                0.08    0.10     3.400000  \n",
       "S5_CO2                360.00  465.00  1270.000000  \n",
       "S5_CO2_Slope            0.00    0.00     8.980769  \n",
       "S6_PIR                  0.00    0.00     1.000000  \n",
       "S7_PIR                  0.00    0.00     1.000000  \n",
       "Room_Occupancy_Count    0.00    0.00     3.000000  "
      ]
     },
     "execution_count": 6,
     "metadata": {},
     "output_type": "execute_result"
    }
   ],
   "source": [
    "# see the static of all numerical column\n",
    "df.describe().T"
   ]
  },
  {
   "cell_type": "code",
   "execution_count": 7,
   "id": "476e5aae",
   "metadata": {},
   "outputs": [
    {
     "data": {
      "text/plain": [
       "<AxesSubplot:>"
      ]
     },
     "execution_count": 7,
     "metadata": {},
     "output_type": "execute_result"
    },
    {
     "data": {
      "image/png": "[encoded data removed]",
      "text/plain": [
       "<Figure size 1080x720 with 1 Axes>"
      ]
     },
     "metadata": {
      "needs_background": "light"
     },
     "output_type": "display_data"
    }
   ],
   "source": [
    "# plot the boxplot to see the outlier of each numerical column\n",
    "plt.figure(figsize= (15,10))\n",
    "sns.boxplot(data=df,orient=\"h\")"
   ]
  },
  {
   "cell_type": "markdown",
   "id": "1b3b71bd",
   "metadata": {},
   "source": [
    "### ---------> OBSERVATION\n",
    "> There are some extreme values in `S5_CO2`. I want to explore it first."
   ]
  },
  {
   "cell_type": "markdown",
   "id": "055d4608",
   "metadata": {},
   "source": [
    "## Interquartile Range"
   ]
  },
  {
   "cell_type": "code",
   "execution_count": 8,
   "id": "15a5f37b",
   "metadata": {},
   "outputs": [
    {
     "name": "stdout",
     "output_type": "stream",
     "text": [
      "q1_S5_CO2: 355.0 \n",
      "\n",
      "q3_S5_CO2: 465.0 \n",
      "\n",
      "iqr_S5_CO2: 110.0\n"
     ]
    }
   ],
   "source": [
    "# calculate the q1 and q3 and then the iqr\n",
    "q1_S5_CO2 = df['S5_CO2'].quantile(.25)\n",
    "q3_S5_CO2 = df['S5_CO2'].quantile(.75)\n",
    "iqr_S5_CO2 = q3_S5_CO2 - q1_S5_CO2\n",
    "\n",
    "print(\"q1_S5_CO2:\", q1_S5_CO2, \"\\n\")\n",
    "print(\"q3_S5_CO2:\", q3_S5_CO2, \"\\n\")\n",
    "print(\"iqr_S5_CO2:\", iqr_S5_CO2)"
   ]
  },
  {
   "cell_type": "markdown",
   "id": "66ef6f68",
   "metadata": {},
   "source": [
    "## Descriptive statistics for Variability"
   ]
  },
  {
   "cell_type": "code",
   "execution_count": 9,
   "id": "0945d9d6",
   "metadata": {},
   "outputs": [
    {
     "name": "stdout",
     "output_type": "stream",
     "text": [
      "S5_CO2_mean: 460.860400829302\n",
      "S5_CO2_median: 360.0\n",
      "S5_CO2_mode: 355\n"
     ]
    }
   ],
   "source": [
    "# look at the price mean\n",
    "S5_CO2_mean = df['S5_CO2'].mean()\n",
    "print(\"S5_CO2_mean:\", S5_CO2_mean)\n",
    "# look at the price median\n",
    "S5_CO2_median = df['S5_CO2'].median()\n",
    "print(\"S5_CO2_median:\", S5_CO2_median)\n",
    "# look at the price mode\n",
    "S5_CO2_mode = df['S5_CO2'].mode().values[0]\n",
    "print(\"S5_CO2_mode:\", S5_CO2_mode)"
   ]
  },
  {
   "cell_type": "code",
   "execution_count": 10,
   "id": "1f7a8568",
   "metadata": {},
   "outputs": [
    {
     "data": {
      "text/plain": [
       "(0.0, 550.0)"
      ]
     },
     "execution_count": 10,
     "metadata": {},
     "output_type": "execute_result"
    },
    {
     "data": {
      "image/png": "[encoded data removed]",
      "text/plain": [
       "<Figure size 864x576 with 1 Axes>"
      ]
     },
     "metadata": {
      "needs_background": "light"
     },
     "output_type": "display_data"
    }
   ],
   "source": [
    "# plot the histogram with mean, median, and mode included\n",
    "plt.figure(figsize=(12, 8))\n",
    "\n",
    "df['S5_CO2'].hist()\n",
    "\n",
    "plt.axvline(S5_CO2_mean, color='r', label='mean')\n",
    "plt.axvline(S5_CO2_median, color='g', label='median')\n",
    "plt.axvline(S5_CO2_mode, color='y', label='mode')\n",
    "\n",
    "plt.legend()\n",
    "\n",
    "# plt.ylim(0,50000)\n",
    "plt.xlim(0,550)"
   ]
  },
  {
   "cell_type": "markdown",
   "id": "4a5135a5",
   "metadata": {},
   "source": [
    "### ---------> OBSERVATION\n",
    "> The mean larger than the median indicates that the data is skewed to the left."
   ]
  },
  {
   "cell_type": "markdown",
   "id": "6ee25f45",
   "metadata": {},
   "source": [
    "<a id=\"3.1.2\"></a>\n",
    "## 3.1.2 Apply IQR for detecting outliers"
   ]
  },
  {
   "cell_type": "code",
   "execution_count": 11,
   "id": "958f6023",
   "metadata": {},
   "outputs": [],
   "source": [
    "def detect_outliers_IQR(df):\n",
    "   #Calculate the Q1:\n",
    "   Q1 = np.percentile(df, 25, method = 'midpoint')\n",
    "   #Calculate the Q3:\n",
    "   Q3 = np.percentile(df, 75,method = 'midpoint')\n",
    "   #Calculate the IQR:\n",
    "   IQR=Q3-Q1\n",
    "   # Upper bound\n",
    "   upper = np.where(df >= (Q3+1.5*IQR))\n",
    "   # Lower bound\n",
    "   lower = np.where(df <= (Q1-1.5*IQR))\n",
    "   #Outliers\n",
    "   outliers = df[((df<(Q1-1.5*IQR)) | (df>(Q3+1.5*IQR)))]\n",
    "   return outliers, upper, lower"
   ]
  },
  {
   "cell_type": "markdown",
   "id": "54de81bb",
   "metadata": {},
   "source": [
    "> **`S1_Temp` column**"
   ]
  },
  {
   "cell_type": "code",
   "execution_count": 12,
   "id": "e792dbdd",
   "metadata": {},
   "outputs": [
    {
     "data": {
      "text/plain": [
       "<AxesSubplot:>"
      ]
     },
     "execution_count": 12,
     "metadata": {},
     "output_type": "execute_result"
    },
    {
     "data": {
      "image/png": "[encoded data removed]",
      "text/plain": [
       "<Figure size 432x288 with 1 Axes>"
      ]
     },
     "metadata": {
      "needs_background": "light"
     },
     "output_type": "display_data"
    }
   ],
   "source": [
    "df.boxplot(column= \"S1_Temp\")"
   ]
  },
  {
   "cell_type": "code",
   "execution_count": 13,
   "id": "174d3efe",
   "metadata": {},
   "outputs": [
    {
     "name": "stdout",
     "output_type": "stream",
     "text": [
      "number of outliers: 162\n",
      "max outlier value: 26.38\n",
      "min of outliers: 26.31\n",
      "Percentage of outliers: 1.5993681508539834\n"
     ]
    }
   ],
   "source": [
    "outliers, upper, lower = detect_outliers_IQR(df['S1_Temp'])\n",
    "\n",
    "print(\"number of outliers: \"+ str(len(outliers)))\n",
    "\n",
    "print(\"max outlier value: \"+ str(outliers.max()))\n",
    "\n",
    "print(\"min of outliers: \"+ str(outliers.min()))\n",
    "\n",
    "print(\"Percentage of outliers: \"+ str(len(outliers)/len(df) * 100))\n"
   ]
  },
  {
   "cell_type": "markdown",
   "id": "0d6cb13e",
   "metadata": {},
   "source": [
    "### ---------> OBSERVATION\n",
    "****\n",
    "The percentage of outliers in `S1_Temp` is extremely small so that I want to replace them with mean, since it is better to develop a machine predicting the casual cases is better than in the extreme condition."
   ]
  },
  {
   "cell_type": "code",
   "execution_count": 14,
   "id": "dd996d55",
   "metadata": {},
   "outputs": [],
   "source": [
    "df.drop(upper[0], inplace = True)"
   ]
  },
  {
   "cell_type": "markdown",
   "id": "c5263332",
   "metadata": {},
   "source": [
    "> **`S2_Temp` column**"
   ]
  },
  {
   "cell_type": "code",
   "execution_count": 15,
   "id": "7a580bf5",
   "metadata": {},
   "outputs": [
    {
     "data": {
      "text/plain": [
       "<AxesSubplot:>"
      ]
     },
     "execution_count": 15,
     "metadata": {},
     "output_type": "execute_result"
    },
    {
     "data": {
      "image/png": "[encoded data removed]",
      "text/plain": [
       "<Figure size 432x288 with 1 Axes>"
      ]
     },
     "metadata": {
      "needs_background": "light"
     },
     "output_type": "display_data"
    }
   ],
   "source": [
    "df.boxplot(column= \"S2_Temp\")"
   ]
  },
  {
   "cell_type": "code",
   "execution_count": 16,
   "id": "e1209b0a",
   "metadata": {},
   "outputs": [
    {
     "name": "stdout",
     "output_type": "stream",
     "text": [
      "number of outliers: 787\n",
      "max outlier value: 29.0\n",
      "min of outliers: 26.31\n",
      "Percentage of outliers: 7.8960569880606\n"
     ]
    }
   ],
   "source": [
    "outliers, upper, lower = detect_outliers_IQR(df['S2_Temp'])\n",
    "\n",
    "print(\"number of outliers: \"+ str(len(outliers)))\n",
    "\n",
    "print(\"max outlier value: \"+ str(outliers.max()))\n",
    "\n",
    "print(\"min of outliers: \"+ str(outliers.min()))\n",
    "\n",
    "print(\"Percentage of outliers: \"+ str(len(outliers)/len(df) * 100))"
   ]
  },
  {
   "cell_type": "markdown",
   "id": "5baaf4db",
   "metadata": {},
   "source": [
    "### ---------> OBSERVATION\n",
    "****\n",
    "The number is quite considerable, so I want to query them first."
   ]
  },
  {
   "cell_type": "code",
   "execution_count": 17,
   "id": "82a64b2e",
   "metadata": {},
   "outputs": [
    {
     "data": {
      "text/html": [
       "<div>\n",
       "<style scoped>\n",
       "    .dataframe tbody tr th:only-of-type {\n",
       "        vertical-align: middle;\n",
       "    }\n",
       "\n",
       "    .dataframe tbody tr th {\n",
       "        vertical-align: top;\n",
       "    }\n",
       "\n",
       "    .dataframe thead th {\n",
       "        text-align: right;\n",
       "    }\n",
       "</style>\n",
       "<table border=\"1\" class=\"dataframe\">\n",
       "  <thead>\n",
       "    <tr style=\"text-align: right;\">\n",
       "      <th></th>\n",
       "      <th>Date</th>\n",
       "      <th>Time</th>\n",
       "      <th>S1_Temp</th>\n",
       "      <th>S2_Temp</th>\n",
       "      <th>S3_Temp</th>\n",
       "      <th>S4_Temp</th>\n",
       "      <th>S1_Light</th>\n",
       "      <th>S2_Light</th>\n",
       "      <th>S3_Light</th>\n",
       "      <th>S4_Light</th>\n",
       "      <th>S1_Sound</th>\n",
       "      <th>S2_Sound</th>\n",
       "      <th>S3_Sound</th>\n",
       "      <th>S4_Sound</th>\n",
       "      <th>S5_CO2</th>\n",
       "      <th>S5_CO2_Slope</th>\n",
       "      <th>S6_PIR</th>\n",
       "      <th>S7_PIR</th>\n",
       "      <th>Room_Occupancy_Count</th>\n",
       "    </tr>\n",
       "  </thead>\n",
       "  <tbody>\n",
       "    <tr>\n",
       "      <th>129</th>\n",
       "      <td>2017/12/22</td>\n",
       "      <td>11:58:06</td>\n",
       "      <td>25.56</td>\n",
       "      <td>26.38</td>\n",
       "      <td>25.00</td>\n",
       "      <td>25.94</td>\n",
       "      <td>156</td>\n",
       "      <td>243</td>\n",
       "      <td>75</td>\n",
       "      <td>58</td>\n",
       "      <td>0.92</td>\n",
       "      <td>1.27</td>\n",
       "      <td>0.65</td>\n",
       "      <td>0.83</td>\n",
       "      <td>580</td>\n",
       "      <td>2.103846</td>\n",
       "      <td>1</td>\n",
       "      <td>1</td>\n",
       "      <td>2</td>\n",
       "    </tr>\n",
       "    <tr>\n",
       "      <th>130</th>\n",
       "      <td>2017/12/22</td>\n",
       "      <td>11:58:37</td>\n",
       "      <td>25.56</td>\n",
       "      <td>26.81</td>\n",
       "      <td>25.00</td>\n",
       "      <td>25.94</td>\n",
       "      <td>155</td>\n",
       "      <td>242</td>\n",
       "      <td>75</td>\n",
       "      <td>57</td>\n",
       "      <td>0.37</td>\n",
       "      <td>1.96</td>\n",
       "      <td>0.98</td>\n",
       "      <td>0.11</td>\n",
       "      <td>580</td>\n",
       "      <td>2.015385</td>\n",
       "      <td>1</td>\n",
       "      <td>1</td>\n",
       "      <td>2</td>\n",
       "    </tr>\n",
       "    <tr>\n",
       "      <th>131</th>\n",
       "      <td>2017/12/22</td>\n",
       "      <td>11:59:07</td>\n",
       "      <td>25.56</td>\n",
       "      <td>26.81</td>\n",
       "      <td>25.06</td>\n",
       "      <td>25.88</td>\n",
       "      <td>155</td>\n",
       "      <td>242</td>\n",
       "      <td>75</td>\n",
       "      <td>56</td>\n",
       "      <td>0.55</td>\n",
       "      <td>0.90</td>\n",
       "      <td>0.23</td>\n",
       "      <td>0.32</td>\n",
       "      <td>585</td>\n",
       "      <td>1.973077</td>\n",
       "      <td>1</td>\n",
       "      <td>1</td>\n",
       "      <td>2</td>\n",
       "    </tr>\n",
       "    <tr>\n",
       "      <th>132</th>\n",
       "      <td>2017/12/22</td>\n",
       "      <td>11:59:38</td>\n",
       "      <td>25.56</td>\n",
       "      <td>27.00</td>\n",
       "      <td>25.00</td>\n",
       "      <td>25.94</td>\n",
       "      <td>155</td>\n",
       "      <td>238</td>\n",
       "      <td>74</td>\n",
       "      <td>57</td>\n",
       "      <td>0.44</td>\n",
       "      <td>0.60</td>\n",
       "      <td>0.49</td>\n",
       "      <td>0.19</td>\n",
       "      <td>590</td>\n",
       "      <td>1.976923</td>\n",
       "      <td>1</td>\n",
       "      <td>1</td>\n",
       "      <td>2</td>\n",
       "    </tr>\n",
       "    <tr>\n",
       "      <th>133</th>\n",
       "      <td>2017/12/22</td>\n",
       "      <td>12:00:09</td>\n",
       "      <td>25.56</td>\n",
       "      <td>26.94</td>\n",
       "      <td>25.06</td>\n",
       "      <td>26.00</td>\n",
       "      <td>155</td>\n",
       "      <td>243</td>\n",
       "      <td>73</td>\n",
       "      <td>56</td>\n",
       "      <td>0.43</td>\n",
       "      <td>1.03</td>\n",
       "      <td>0.22</td>\n",
       "      <td>0.15</td>\n",
       "      <td>585</td>\n",
       "      <td>1.934615</td>\n",
       "      <td>1</td>\n",
       "      <td>1</td>\n",
       "      <td>2</td>\n",
       "    </tr>\n",
       "  </tbody>\n",
       "</table>\n",
       "</div>"
      ],
      "text/plain": [
       "           Date      Time  S1_Temp  S2_Temp  S3_Temp  S4_Temp  S1_Light  \\\n",
       "129  2017/12/22  11:58:06    25.56    26.38    25.00    25.94       156   \n",
       "130  2017/12/22  11:58:37    25.56    26.81    25.00    25.94       155   \n",
       "131  2017/12/22  11:59:07    25.56    26.81    25.06    25.88       155   \n",
       "132  2017/12/22  11:59:38    25.56    27.00    25.00    25.94       155   \n",
       "133  2017/12/22  12:00:09    25.56    26.94    25.06    26.00       155   \n",
       "\n",
       "     S2_Light  S3_Light  S4_Light  S1_Sound  S2_Sound  S3_Sound  S4_Sound  \\\n",
       "129       243        75        58      0.92      1.27      0.65      0.83   \n",
       "130       242        75        57      0.37      1.96      0.98      0.11   \n",
       "131       242        75        56      0.55      0.90      0.23      0.32   \n",
       "132       238        74        57      0.44      0.60      0.49      0.19   \n",
       "133       243        73        56      0.43      1.03      0.22      0.15   \n",
       "\n",
       "     S5_CO2  S5_CO2_Slope  S6_PIR  S7_PIR  Room_Occupancy_Count  \n",
       "129     580      2.103846       1       1                     2  \n",
       "130     580      2.015385       1       1                     2  \n",
       "131     585      1.973077       1       1                     2  \n",
       "132     590      1.976923       1       1                     2  \n",
       "133     585      1.934615       1       1                     2  "
      ]
     },
     "execution_count": 17,
     "metadata": {},
     "output_type": "execute_result"
    }
   ],
   "source": [
    "extreme_temp = df[(df['S2_Temp'] > outliers.min()) & (df['S2_Temp'] < outliers.max())]\n",
    "extreme_temp.head()"
   ]
  },
  {
   "cell_type": "code",
   "execution_count": 18,
   "id": "6a120791",
   "metadata": {},
   "outputs": [
    {
     "name": "stdout",
     "output_type": "stream",
     "text": [
      "69.35028248587571\n"
     ]
    }
   ],
   "source": [
    "occ_not_0 = extreme_temp[extreme_temp['Room_Occupancy_Count'] > 0]\n",
    "print(len(occ_not_0)/len(extreme_temp) * 100)"
   ]
  },
  {
   "cell_type": "markdown",
   "id": "73c36cef",
   "metadata": {},
   "source": [
    "### ---------> OBSERVATION\n",
    "****\n",
    "Most of the extreme temperature in the `S2_temp` have more than 1 people in the room so I want to drop in some cases that do not have people in room."
   ]
  },
  {
   "cell_type": "code",
   "execution_count": 19,
   "id": "79d37ea3",
   "metadata": {},
   "outputs": [],
   "source": [
    "df.loc[(df['S2_Temp'] > outliers.min()) & (df['S2_Temp'] < outliers.max()) & (df['Room_Occupancy_Count'] < 1), 'S2_Temp'] = df['S2_Temp'].mean() \n"
   ]
  },
  {
   "cell_type": "markdown",
   "id": "992a5941",
   "metadata": {},
   "source": [
    "> **`S3_Temp` column**"
   ]
  },
  {
   "cell_type": "code",
   "execution_count": 20,
   "id": "037fe042",
   "metadata": {},
   "outputs": [
    {
     "data": {
      "text/plain": [
       "<AxesSubplot:>"
      ]
     },
     "execution_count": 20,
     "metadata": {},
     "output_type": "execute_result"
    },
    {
     "data": {
      "image/png": "[encoded data removed]",
      "text/plain": [
       "<Figure size 432x288 with 1 Axes>"
      ]
     },
     "metadata": {
      "needs_background": "light"
     },
     "output_type": "display_data"
    }
   ],
   "source": [
    "df.boxplot(column= \"S3_Temp\")"
   ]
  },
  {
   "cell_type": "code",
   "execution_count": 21,
   "id": "e1e1085d",
   "metadata": {},
   "outputs": [
    {
     "name": "stdout",
     "output_type": "stream",
     "text": [
      "number of outliers: 0\n",
      "max outlier value: nan\n",
      "min of outliers: nan\n",
      "Percentage of outliers: 0.0\n"
     ]
    }
   ],
   "source": [
    "outliers, upper, lower = detect_outliers_IQR(df['S3_Temp'])\n",
    "\n",
    "print(\"number of outliers: \"+ str(len(outliers)))\n",
    "\n",
    "print(\"max outlier value: \"+ str(outliers.max()))\n",
    "\n",
    "print(\"min of outliers: \"+ str(outliers.min()))\n",
    "\n",
    "print(\"Percentage of outliers: \"+ str(len(outliers)/len(df) * 100))"
   ]
  },
  {
   "cell_type": "markdown",
   "id": "112c93bc",
   "metadata": {},
   "source": [
    "### ---------> OBSERVATION\n",
    "****\n",
    "There is no outliers."
   ]
  },
  {
   "cell_type": "markdown",
   "id": "f9b322bd",
   "metadata": {},
   "source": [
    "> **`S4_Temp` column**"
   ]
  },
  {
   "cell_type": "code",
   "execution_count": 22,
   "id": "7d464d28",
   "metadata": {},
   "outputs": [
    {
     "data": {
      "text/plain": [
       "<AxesSubplot:>"
      ]
     },
     "execution_count": 22,
     "metadata": {},
     "output_type": "execute_result"
    },
    {
     "data": {
      "image/png": "[encoded data removed]",
      "text/plain": [
       "<Figure size 432x288 with 1 Axes>"
      ]
     },
     "metadata": {
      "needs_background": "light"
     },
     "output_type": "display_data"
    }
   ],
   "source": [
    "df.boxplot(column= \"S4_Temp\")"
   ]
  },
  {
   "cell_type": "code",
   "execution_count": 23,
   "id": "a947813b",
   "metadata": {},
   "outputs": [
    {
     "name": "stdout",
     "output_type": "stream",
     "text": [
      "number of outliers: 0\n",
      "max outlier value: nan\n",
      "min of outliers: nan\n",
      "Percentage of outliers: 0.0\n"
     ]
    }
   ],
   "source": [
    "outliers, upper, lower = detect_outliers_IQR(df['S4_Temp'])\n",
    "\n",
    "print(\"number of outliers: \"+ str(len(outliers)))\n",
    "\n",
    "print(\"max outlier value: \"+ str(outliers.max()))\n",
    "\n",
    "print(\"min of outliers: \"+ str(outliers.min()))\n",
    "\n",
    "print(\"Percentage of outliers: \"+ str(len(outliers)/len(df) * 100))"
   ]
  },
  {
   "cell_type": "markdown",
   "id": "24d5985a",
   "metadata": {},
   "source": [
    "### ---------> OBSERVATION\n",
    "****\n",
    "There is no outliers."
   ]
  },
  {
   "cell_type": "markdown",
   "id": "d04045b9",
   "metadata": {},
   "source": [
    "> **`S1_Light` column**"
   ]
  },
  {
   "cell_type": "code",
   "execution_count": 24,
   "id": "763bcd04",
   "metadata": {},
   "outputs": [
    {
     "data": {
      "text/plain": [
       "<AxesSubplot:>"
      ]
     },
     "execution_count": 24,
     "metadata": {},
     "output_type": "execute_result"
    },
    {
     "data": {
      "image/png": "[encoded data removed]",
      "text/plain": [
       "<Figure size 432x288 with 1 Axes>"
      ]
     },
     "metadata": {
      "needs_background": "light"
     },
     "output_type": "display_data"
    }
   ],
   "source": [
    "df.boxplot(column= \"S1_Light\")"
   ]
  },
  {
   "cell_type": "code",
   "execution_count": 25,
   "id": "e20338b6",
   "metadata": {},
   "outputs": [
    {
     "name": "stdout",
     "output_type": "stream",
     "text": [
      "number of outliers: 1565\n",
      "max outlier value: 165\n",
      "min of outliers: 91\n",
      "Percentage of outliers: 15.701815992776162\n"
     ]
    }
   ],
   "source": [
    "outliers, upper, lower = detect_outliers_IQR(df['S1_Light'])\n",
    "\n",
    "print(\"number of outliers: \"+ str(len(outliers)))\n",
    "\n",
    "print(\"max outlier value: \"+ str(outliers.max()))\n",
    "\n",
    "print(\"min of outliers: \"+ str(outliers.min()))\n",
    "\n",
    "print(\"Percentage of outliers: \"+ str(len(outliers)/len(df) * 100))"
   ]
  },
  {
   "cell_type": "markdown",
   "id": "b359ea0e",
   "metadata": {},
   "source": [
    "### ---------> OBSERVATION\n",
    "****\n",
    "The number is quite considerable, so I want to query them first."
   ]
  },
  {
   "cell_type": "code",
   "execution_count": 26,
   "id": "7b00b129",
   "metadata": {},
   "outputs": [
    {
     "data": {
      "text/html": [
       "<div>\n",
       "<style scoped>\n",
       "    .dataframe tbody tr th:only-of-type {\n",
       "        vertical-align: middle;\n",
       "    }\n",
       "\n",
       "    .dataframe tbody tr th {\n",
       "        vertical-align: top;\n",
       "    }\n",
       "\n",
       "    .dataframe thead th {\n",
       "        text-align: right;\n",
       "    }\n",
       "</style>\n",
       "<table border=\"1\" class=\"dataframe\">\n",
       "  <thead>\n",
       "    <tr style=\"text-align: right;\">\n",
       "      <th></th>\n",
       "      <th>Date</th>\n",
       "      <th>Time</th>\n",
       "      <th>S1_Temp</th>\n",
       "      <th>S2_Temp</th>\n",
       "      <th>S3_Temp</th>\n",
       "      <th>S4_Temp</th>\n",
       "      <th>S1_Light</th>\n",
       "      <th>S2_Light</th>\n",
       "      <th>S3_Light</th>\n",
       "      <th>S4_Light</th>\n",
       "      <th>S1_Sound</th>\n",
       "      <th>S2_Sound</th>\n",
       "      <th>S3_Sound</th>\n",
       "      <th>S4_Sound</th>\n",
       "      <th>S5_CO2</th>\n",
       "      <th>S5_CO2_Slope</th>\n",
       "      <th>S6_PIR</th>\n",
       "      <th>S7_PIR</th>\n",
       "      <th>Room_Occupancy_Count</th>\n",
       "    </tr>\n",
       "  </thead>\n",
       "  <tbody>\n",
       "    <tr>\n",
       "      <th>0</th>\n",
       "      <td>2017/12/22</td>\n",
       "      <td>10:49:41</td>\n",
       "      <td>24.94</td>\n",
       "      <td>24.75</td>\n",
       "      <td>24.56</td>\n",
       "      <td>25.38</td>\n",
       "      <td>121</td>\n",
       "      <td>34</td>\n",
       "      <td>53</td>\n",
       "      <td>40</td>\n",
       "      <td>0.08</td>\n",
       "      <td>0.19</td>\n",
       "      <td>0.06</td>\n",
       "      <td>0.06</td>\n",
       "      <td>390</td>\n",
       "      <td>0.769231</td>\n",
       "      <td>0</td>\n",
       "      <td>0</td>\n",
       "      <td>1</td>\n",
       "    </tr>\n",
       "    <tr>\n",
       "      <th>1</th>\n",
       "      <td>2017/12/22</td>\n",
       "      <td>10:50:12</td>\n",
       "      <td>24.94</td>\n",
       "      <td>24.75</td>\n",
       "      <td>24.56</td>\n",
       "      <td>25.44</td>\n",
       "      <td>121</td>\n",
       "      <td>33</td>\n",
       "      <td>53</td>\n",
       "      <td>40</td>\n",
       "      <td>0.93</td>\n",
       "      <td>0.05</td>\n",
       "      <td>0.06</td>\n",
       "      <td>0.06</td>\n",
       "      <td>390</td>\n",
       "      <td>0.646154</td>\n",
       "      <td>0</td>\n",
       "      <td>0</td>\n",
       "      <td>1</td>\n",
       "    </tr>\n",
       "    <tr>\n",
       "      <th>2</th>\n",
       "      <td>2017/12/22</td>\n",
       "      <td>10:50:42</td>\n",
       "      <td>25.00</td>\n",
       "      <td>24.75</td>\n",
       "      <td>24.50</td>\n",
       "      <td>25.44</td>\n",
       "      <td>121</td>\n",
       "      <td>34</td>\n",
       "      <td>53</td>\n",
       "      <td>40</td>\n",
       "      <td>0.43</td>\n",
       "      <td>0.11</td>\n",
       "      <td>0.08</td>\n",
       "      <td>0.06</td>\n",
       "      <td>390</td>\n",
       "      <td>0.519231</td>\n",
       "      <td>0</td>\n",
       "      <td>0</td>\n",
       "      <td>1</td>\n",
       "    </tr>\n",
       "    <tr>\n",
       "      <th>3</th>\n",
       "      <td>2017/12/22</td>\n",
       "      <td>10:51:13</td>\n",
       "      <td>25.00</td>\n",
       "      <td>24.75</td>\n",
       "      <td>24.56</td>\n",
       "      <td>25.44</td>\n",
       "      <td>121</td>\n",
       "      <td>34</td>\n",
       "      <td>53</td>\n",
       "      <td>40</td>\n",
       "      <td>0.41</td>\n",
       "      <td>0.10</td>\n",
       "      <td>0.10</td>\n",
       "      <td>0.09</td>\n",
       "      <td>390</td>\n",
       "      <td>0.388462</td>\n",
       "      <td>0</td>\n",
       "      <td>0</td>\n",
       "      <td>1</td>\n",
       "    </tr>\n",
       "    <tr>\n",
       "      <th>4</th>\n",
       "      <td>2017/12/22</td>\n",
       "      <td>10:51:44</td>\n",
       "      <td>25.00</td>\n",
       "      <td>24.75</td>\n",
       "      <td>24.56</td>\n",
       "      <td>25.44</td>\n",
       "      <td>121</td>\n",
       "      <td>34</td>\n",
       "      <td>54</td>\n",
       "      <td>40</td>\n",
       "      <td>0.18</td>\n",
       "      <td>0.06</td>\n",
       "      <td>0.06</td>\n",
       "      <td>0.06</td>\n",
       "      <td>390</td>\n",
       "      <td>0.253846</td>\n",
       "      <td>0</td>\n",
       "      <td>0</td>\n",
       "      <td>1</td>\n",
       "    </tr>\n",
       "  </tbody>\n",
       "</table>\n",
       "</div>"
      ],
      "text/plain": [
       "         Date      Time  S1_Temp  S2_Temp  S3_Temp  S4_Temp  S1_Light  \\\n",
       "0  2017/12/22  10:49:41    24.94    24.75    24.56    25.38       121   \n",
       "1  2017/12/22  10:50:12    24.94    24.75    24.56    25.44       121   \n",
       "2  2017/12/22  10:50:42    25.00    24.75    24.50    25.44       121   \n",
       "3  2017/12/22  10:51:13    25.00    24.75    24.56    25.44       121   \n",
       "4  2017/12/22  10:51:44    25.00    24.75    24.56    25.44       121   \n",
       "\n",
       "   S2_Light  S3_Light  S4_Light  S1_Sound  S2_Sound  S3_Sound  S4_Sound  \\\n",
       "0        34        53        40      0.08      0.19      0.06      0.06   \n",
       "1        33        53        40      0.93      0.05      0.06      0.06   \n",
       "2        34        53        40      0.43      0.11      0.08      0.06   \n",
       "3        34        53        40      0.41      0.10      0.10      0.09   \n",
       "4        34        54        40      0.18      0.06      0.06      0.06   \n",
       "\n",
       "   S5_CO2  S5_CO2_Slope  S6_PIR  S7_PIR  Room_Occupancy_Count  \n",
       "0     390      0.769231       0       0                     1  \n",
       "1     390      0.646154       0       0                     1  \n",
       "2     390      0.519231       0       0                     1  \n",
       "3     390      0.388462       0       0                     1  \n",
       "4     390      0.253846       0       0                     1  "
      ]
     },
     "execution_count": 26,
     "metadata": {},
     "output_type": "execute_result"
    }
   ],
   "source": [
    "extreme_light = df[(df['S1_Light'] > outliers.min()) & (df['S1_Light'] < outliers.max())]\n",
    "extreme_light.head()"
   ]
  },
  {
   "cell_type": "code",
   "execution_count": 27,
   "id": "aba210ef",
   "metadata": {},
   "outputs": [
    {
     "name": "stdout",
     "output_type": "stream",
     "text": [
      "100.0\n"
     ]
    }
   ],
   "source": [
    "occ_not_0 = extreme_light[extreme_light['Room_Occupancy_Count'] > 0]\n",
    "print(len(occ_not_0)/len(extreme_light) * 100)"
   ]
  },
  {
   "cell_type": "markdown",
   "id": "e04f140a",
   "metadata": {},
   "source": [
    "### ---------> OBSERVATION\n",
    "****\n",
    "All of the outliers in the `S1_Light` have at least 1 people in that room, so I do not want to drop them."
   ]
  },
  {
   "cell_type": "markdown",
   "id": "126d4288",
   "metadata": {},
   "source": [
    "> **`S2_Light` column**"
   ]
  },
  {
   "cell_type": "code",
   "execution_count": 28,
   "id": "07b49fbd",
   "metadata": {},
   "outputs": [
    {
     "data": {
      "text/plain": [
       "<AxesSubplot:>"
      ]
     },
     "execution_count": 28,
     "metadata": {},
     "output_type": "execute_result"
    },
    {
     "data": {
      "image/png": "[encoded data removed]",
      "text/plain": [
       "<Figure size 432x288 with 1 Axes>"
      ]
     },
     "metadata": {
      "needs_background": "light"
     },
     "output_type": "display_data"
    }
   ],
   "source": [
    "df.boxplot(column= \"S2_Light\")"
   ]
  },
  {
   "cell_type": "code",
   "execution_count": 29,
   "id": "47b1e80d",
   "metadata": {},
   "outputs": [
    {
     "name": "stdout",
     "output_type": "stream",
     "text": [
      "number of outliers: 997\n",
      "max outlier value: 258\n",
      "min of outliers: 31\n",
      "Percentage of outliers: 10.003009932778168\n"
     ]
    }
   ],
   "source": [
    "outliers, upper, lower = detect_outliers_IQR(df['S2_Light'])\n",
    "\n",
    "print(\"number of outliers: \"+ str(len(outliers)))\n",
    "\n",
    "print(\"max outlier value: \"+ str(outliers.max()))\n",
    "\n",
    "print(\"min of outliers: \"+ str(outliers.min()))\n",
    "\n",
    "print(\"Percentage of outliers: \"+ str(len(outliers)/len(df) * 100))"
   ]
  },
  {
   "cell_type": "markdown",
   "id": "8f383c2a",
   "metadata": {},
   "source": [
    "### ---------> OBSERVATION\n",
    "****\n",
    "The number is quite considerable, so I want to query them first."
   ]
  },
  {
   "cell_type": "code",
   "execution_count": 30,
   "id": "8c92436b",
   "metadata": {},
   "outputs": [
    {
     "data": {
      "text/html": [
       "<div>\n",
       "<style scoped>\n",
       "    .dataframe tbody tr th:only-of-type {\n",
       "        vertical-align: middle;\n",
       "    }\n",
       "\n",
       "    .dataframe tbody tr th {\n",
       "        vertical-align: top;\n",
       "    }\n",
       "\n",
       "    .dataframe thead th {\n",
       "        text-align: right;\n",
       "    }\n",
       "</style>\n",
       "<table border=\"1\" class=\"dataframe\">\n",
       "  <thead>\n",
       "    <tr style=\"text-align: right;\">\n",
       "      <th></th>\n",
       "      <th>Date</th>\n",
       "      <th>Time</th>\n",
       "      <th>S1_Temp</th>\n",
       "      <th>S2_Temp</th>\n",
       "      <th>S3_Temp</th>\n",
       "      <th>S4_Temp</th>\n",
       "      <th>S1_Light</th>\n",
       "      <th>S2_Light</th>\n",
       "      <th>S3_Light</th>\n",
       "      <th>S4_Light</th>\n",
       "      <th>S1_Sound</th>\n",
       "      <th>S2_Sound</th>\n",
       "      <th>S3_Sound</th>\n",
       "      <th>S4_Sound</th>\n",
       "      <th>S5_CO2</th>\n",
       "      <th>S5_CO2_Slope</th>\n",
       "      <th>S6_PIR</th>\n",
       "      <th>S7_PIR</th>\n",
       "      <th>Room_Occupancy_Count</th>\n",
       "    </tr>\n",
       "  </thead>\n",
       "  <tbody>\n",
       "    <tr>\n",
       "      <th>0</th>\n",
       "      <td>2017/12/22</td>\n",
       "      <td>10:49:41</td>\n",
       "      <td>24.94</td>\n",
       "      <td>24.75</td>\n",
       "      <td>24.56</td>\n",
       "      <td>25.38</td>\n",
       "      <td>121</td>\n",
       "      <td>34</td>\n",
       "      <td>53</td>\n",
       "      <td>40</td>\n",
       "      <td>0.08</td>\n",
       "      <td>0.19</td>\n",
       "      <td>0.06</td>\n",
       "      <td>0.06</td>\n",
       "      <td>390</td>\n",
       "      <td>0.769231</td>\n",
       "      <td>0</td>\n",
       "      <td>0</td>\n",
       "      <td>1</td>\n",
       "    </tr>\n",
       "    <tr>\n",
       "      <th>1</th>\n",
       "      <td>2017/12/22</td>\n",
       "      <td>10:50:12</td>\n",
       "      <td>24.94</td>\n",
       "      <td>24.75</td>\n",
       "      <td>24.56</td>\n",
       "      <td>25.44</td>\n",
       "      <td>121</td>\n",
       "      <td>33</td>\n",
       "      <td>53</td>\n",
       "      <td>40</td>\n",
       "      <td>0.93</td>\n",
       "      <td>0.05</td>\n",
       "      <td>0.06</td>\n",
       "      <td>0.06</td>\n",
       "      <td>390</td>\n",
       "      <td>0.646154</td>\n",
       "      <td>0</td>\n",
       "      <td>0</td>\n",
       "      <td>1</td>\n",
       "    </tr>\n",
       "    <tr>\n",
       "      <th>2</th>\n",
       "      <td>2017/12/22</td>\n",
       "      <td>10:50:42</td>\n",
       "      <td>25.00</td>\n",
       "      <td>24.75</td>\n",
       "      <td>24.50</td>\n",
       "      <td>25.44</td>\n",
       "      <td>121</td>\n",
       "      <td>34</td>\n",
       "      <td>53</td>\n",
       "      <td>40</td>\n",
       "      <td>0.43</td>\n",
       "      <td>0.11</td>\n",
       "      <td>0.08</td>\n",
       "      <td>0.06</td>\n",
       "      <td>390</td>\n",
       "      <td>0.519231</td>\n",
       "      <td>0</td>\n",
       "      <td>0</td>\n",
       "      <td>1</td>\n",
       "    </tr>\n",
       "    <tr>\n",
       "      <th>3</th>\n",
       "      <td>2017/12/22</td>\n",
       "      <td>10:51:13</td>\n",
       "      <td>25.00</td>\n",
       "      <td>24.75</td>\n",
       "      <td>24.56</td>\n",
       "      <td>25.44</td>\n",
       "      <td>121</td>\n",
       "      <td>34</td>\n",
       "      <td>53</td>\n",
       "      <td>40</td>\n",
       "      <td>0.41</td>\n",
       "      <td>0.10</td>\n",
       "      <td>0.10</td>\n",
       "      <td>0.09</td>\n",
       "      <td>390</td>\n",
       "      <td>0.388462</td>\n",
       "      <td>0</td>\n",
       "      <td>0</td>\n",
       "      <td>1</td>\n",
       "    </tr>\n",
       "    <tr>\n",
       "      <th>4</th>\n",
       "      <td>2017/12/22</td>\n",
       "      <td>10:51:44</td>\n",
       "      <td>25.00</td>\n",
       "      <td>24.75</td>\n",
       "      <td>24.56</td>\n",
       "      <td>25.44</td>\n",
       "      <td>121</td>\n",
       "      <td>34</td>\n",
       "      <td>54</td>\n",
       "      <td>40</td>\n",
       "      <td>0.18</td>\n",
       "      <td>0.06</td>\n",
       "      <td>0.06</td>\n",
       "      <td>0.06</td>\n",
       "      <td>390</td>\n",
       "      <td>0.253846</td>\n",
       "      <td>0</td>\n",
       "      <td>0</td>\n",
       "      <td>1</td>\n",
       "    </tr>\n",
       "  </tbody>\n",
       "</table>\n",
       "</div>"
      ],
      "text/plain": [
       "         Date      Time  S1_Temp  S2_Temp  S3_Temp  S4_Temp  S1_Light  \\\n",
       "0  2017/12/22  10:49:41    24.94    24.75    24.56    25.38       121   \n",
       "1  2017/12/22  10:50:12    24.94    24.75    24.56    25.44       121   \n",
       "2  2017/12/22  10:50:42    25.00    24.75    24.50    25.44       121   \n",
       "3  2017/12/22  10:51:13    25.00    24.75    24.56    25.44       121   \n",
       "4  2017/12/22  10:51:44    25.00    24.75    24.56    25.44       121   \n",
       "\n",
       "   S2_Light  S3_Light  S4_Light  S1_Sound  S2_Sound  S3_Sound  S4_Sound  \\\n",
       "0        34        53        40      0.08      0.19      0.06      0.06   \n",
       "1        33        53        40      0.93      0.05      0.06      0.06   \n",
       "2        34        53        40      0.43      0.11      0.08      0.06   \n",
       "3        34        53        40      0.41      0.10      0.10      0.09   \n",
       "4        34        54        40      0.18      0.06      0.06      0.06   \n",
       "\n",
       "   S5_CO2  S5_CO2_Slope  S6_PIR  S7_PIR  Room_Occupancy_Count  \n",
       "0     390      0.769231       0       0                     1  \n",
       "1     390      0.646154       0       0                     1  \n",
       "2     390      0.519231       0       0                     1  \n",
       "3     390      0.388462       0       0                     1  \n",
       "4     390      0.253846       0       0                     1  "
      ]
     },
     "execution_count": 30,
     "metadata": {},
     "output_type": "execute_result"
    }
   ],
   "source": [
    "extreme_light = df[(df['S2_Light'] > outliers.min()) & (df['S2_Light'] < outliers.max())]\n",
    "extreme_light.head()"
   ]
  },
  {
   "cell_type": "code",
   "execution_count": 31,
   "id": "979d2ae3",
   "metadata": {},
   "outputs": [
    {
     "name": "stdout",
     "output_type": "stream",
     "text": [
      "100.0\n"
     ]
    }
   ],
   "source": [
    "occ_not_0 = extreme_light[extreme_light['Room_Occupancy_Count'] > 0]\n",
    "print(len(occ_not_0)/len(extreme_light) * 100)"
   ]
  },
  {
   "cell_type": "markdown",
   "id": "b688b1b7",
   "metadata": {},
   "source": [
    "### ---------> OBSERVATION\n",
    "****\n",
    "All of the outliers in the `S2_Light` have at least 1 people in that room, so I do not want to drop them."
   ]
  },
  {
   "cell_type": "markdown",
   "id": "f9ce4a03",
   "metadata": {},
   "source": [
    "> **`S3_Light` column**"
   ]
  },
  {
   "cell_type": "code",
   "execution_count": 32,
   "id": "1cf4412c",
   "metadata": {},
   "outputs": [
    {
     "data": {
      "text/plain": [
       "<AxesSubplot:>"
      ]
     },
     "execution_count": 32,
     "metadata": {},
     "output_type": "execute_result"
    },
    {
     "data": {
      "image/png": "[encoded data removed]",
      "text/plain": [
       "<Figure size 432x288 with 1 Axes>"
      ]
     },
     "metadata": {
      "needs_background": "light"
     },
     "output_type": "display_data"
    }
   ],
   "source": [
    "df.boxplot(column= \"S3_Light\")"
   ]
  },
  {
   "cell_type": "code",
   "execution_count": 33,
   "id": "da3cdb48",
   "metadata": {},
   "outputs": [
    {
     "name": "stdout",
     "output_type": "stream",
     "text": [
      "number of outliers: 798\n",
      "max outlier value: 280\n",
      "min of outliers: 151\n",
      "Percentage of outliers: 8.006421189926758\n"
     ]
    }
   ],
   "source": [
    "outliers, upper, lower = detect_outliers_IQR(df['S3_Light'])\n",
    "\n",
    "print(\"number of outliers: \"+ str(len(outliers)))\n",
    "\n",
    "print(\"max outlier value: \"+ str(outliers.max()))\n",
    "\n",
    "print(\"min of outliers: \"+ str(outliers.min()))\n",
    "\n",
    "print(\"Percentage of outliers: \"+ str(len(outliers)/len(df) * 100))"
   ]
  },
  {
   "cell_type": "markdown",
   "id": "9d3e4ac1",
   "metadata": {},
   "source": [
    "### ---------> OBSERVATION\n",
    "****\n",
    "The number is quite considerable, so I want to query them first."
   ]
  },
  {
   "cell_type": "code",
   "execution_count": 34,
   "id": "3c9a4f7f",
   "metadata": {},
   "outputs": [
    {
     "data": {
      "text/html": [
       "<div>\n",
       "<style scoped>\n",
       "    .dataframe tbody tr th:only-of-type {\n",
       "        vertical-align: middle;\n",
       "    }\n",
       "\n",
       "    .dataframe tbody tr th {\n",
       "        vertical-align: top;\n",
       "    }\n",
       "\n",
       "    .dataframe thead th {\n",
       "        text-align: right;\n",
       "    }\n",
       "</style>\n",
       "<table border=\"1\" class=\"dataframe\">\n",
       "  <thead>\n",
       "    <tr style=\"text-align: right;\">\n",
       "      <th></th>\n",
       "      <th>Date</th>\n",
       "      <th>Time</th>\n",
       "      <th>S1_Temp</th>\n",
       "      <th>S2_Temp</th>\n",
       "      <th>S3_Temp</th>\n",
       "      <th>S4_Temp</th>\n",
       "      <th>S1_Light</th>\n",
       "      <th>S2_Light</th>\n",
       "      <th>S3_Light</th>\n",
       "      <th>S4_Light</th>\n",
       "      <th>S1_Sound</th>\n",
       "      <th>S2_Sound</th>\n",
       "      <th>S3_Sound</th>\n",
       "      <th>S4_Sound</th>\n",
       "      <th>S5_CO2</th>\n",
       "      <th>S5_CO2_Slope</th>\n",
       "      <th>S6_PIR</th>\n",
       "      <th>S7_PIR</th>\n",
       "      <th>Room_Occupancy_Count</th>\n",
       "    </tr>\n",
       "  </thead>\n",
       "  <tbody>\n",
       "    <tr>\n",
       "      <th>190</th>\n",
       "      <td>2017/12/22</td>\n",
       "      <td>12:29:46</td>\n",
       "      <td>25.69</td>\n",
       "      <td>28.38</td>\n",
       "      <td>25.19</td>\n",
       "      <td>26.00</td>\n",
       "      <td>155</td>\n",
       "      <td>242</td>\n",
       "      <td>190</td>\n",
       "      <td>60</td>\n",
       "      <td>0.57</td>\n",
       "      <td>0.15</td>\n",
       "      <td>0.77</td>\n",
       "      <td>0.19</td>\n",
       "      <td>645</td>\n",
       "      <td>0.426923</td>\n",
       "      <td>1</td>\n",
       "      <td>0</td>\n",
       "      <td>2</td>\n",
       "    </tr>\n",
       "    <tr>\n",
       "      <th>191</th>\n",
       "      <td>2017/12/22</td>\n",
       "      <td>12:30:16</td>\n",
       "      <td>25.69</td>\n",
       "      <td>28.44</td>\n",
       "      <td>25.19</td>\n",
       "      <td>26.00</td>\n",
       "      <td>156</td>\n",
       "      <td>244</td>\n",
       "      <td>190</td>\n",
       "      <td>64</td>\n",
       "      <td>1.12</td>\n",
       "      <td>0.49</td>\n",
       "      <td>0.77</td>\n",
       "      <td>0.25</td>\n",
       "      <td>645</td>\n",
       "      <td>0.411538</td>\n",
       "      <td>1</td>\n",
       "      <td>1</td>\n",
       "      <td>3</td>\n",
       "    </tr>\n",
       "    <tr>\n",
       "      <th>192</th>\n",
       "      <td>2017/12/22</td>\n",
       "      <td>12:30:47</td>\n",
       "      <td>25.75</td>\n",
       "      <td>28.56</td>\n",
       "      <td>25.19</td>\n",
       "      <td>26.06</td>\n",
       "      <td>158</td>\n",
       "      <td>245</td>\n",
       "      <td>205</td>\n",
       "      <td>65</td>\n",
       "      <td>0.91</td>\n",
       "      <td>0.29</td>\n",
       "      <td>2.83</td>\n",
       "      <td>0.29</td>\n",
       "      <td>650</td>\n",
       "      <td>0.434615</td>\n",
       "      <td>1</td>\n",
       "      <td>1</td>\n",
       "      <td>3</td>\n",
       "    </tr>\n",
       "    <tr>\n",
       "      <th>193</th>\n",
       "      <td>2017/12/22</td>\n",
       "      <td>12:31:17</td>\n",
       "      <td>25.75</td>\n",
       "      <td>28.56</td>\n",
       "      <td>25.25</td>\n",
       "      <td>26.06</td>\n",
       "      <td>159</td>\n",
       "      <td>246</td>\n",
       "      <td>214</td>\n",
       "      <td>66</td>\n",
       "      <td>0.55</td>\n",
       "      <td>0.23</td>\n",
       "      <td>1.01</td>\n",
       "      <td>0.48</td>\n",
       "      <td>645</td>\n",
       "      <td>0.400000</td>\n",
       "      <td>1</td>\n",
       "      <td>1</td>\n",
       "      <td>3</td>\n",
       "    </tr>\n",
       "    <tr>\n",
       "      <th>194</th>\n",
       "      <td>2017/12/22</td>\n",
       "      <td>12:31:48</td>\n",
       "      <td>25.75</td>\n",
       "      <td>28.63</td>\n",
       "      <td>25.25</td>\n",
       "      <td>26.06</td>\n",
       "      <td>159</td>\n",
       "      <td>246</td>\n",
       "      <td>220</td>\n",
       "      <td>63</td>\n",
       "      <td>0.58</td>\n",
       "      <td>0.50</td>\n",
       "      <td>3.64</td>\n",
       "      <td>0.62</td>\n",
       "      <td>655</td>\n",
       "      <td>0.400000</td>\n",
       "      <td>1</td>\n",
       "      <td>1</td>\n",
       "      <td>3</td>\n",
       "    </tr>\n",
       "  </tbody>\n",
       "</table>\n",
       "</div>"
      ],
      "text/plain": [
       "           Date      Time  S1_Temp  S2_Temp  S3_Temp  S4_Temp  S1_Light  \\\n",
       "190  2017/12/22  12:29:46    25.69    28.38    25.19    26.00       155   \n",
       "191  2017/12/22  12:30:16    25.69    28.44    25.19    26.00       156   \n",
       "192  2017/12/22  12:30:47    25.75    28.56    25.19    26.06       158   \n",
       "193  2017/12/22  12:31:17    25.75    28.56    25.25    26.06       159   \n",
       "194  2017/12/22  12:31:48    25.75    28.63    25.25    26.06       159   \n",
       "\n",
       "     S2_Light  S3_Light  S4_Light  S1_Sound  S2_Sound  S3_Sound  S4_Sound  \\\n",
       "190       242       190        60      0.57      0.15      0.77      0.19   \n",
       "191       244       190        64      1.12      0.49      0.77      0.25   \n",
       "192       245       205        65      0.91      0.29      2.83      0.29   \n",
       "193       246       214        66      0.55      0.23      1.01      0.48   \n",
       "194       246       220        63      0.58      0.50      3.64      0.62   \n",
       "\n",
       "     S5_CO2  S5_CO2_Slope  S6_PIR  S7_PIR  Room_Occupancy_Count  \n",
       "190     645      0.426923       1       0                     2  \n",
       "191     645      0.411538       1       1                     3  \n",
       "192     650      0.434615       1       1                     3  \n",
       "193     645      0.400000       1       1                     3  \n",
       "194     655      0.400000       1       1                     3  "
      ]
     },
     "execution_count": 34,
     "metadata": {},
     "output_type": "execute_result"
    }
   ],
   "source": [
    "extreme_light = df[(df['S3_Light'] > outliers.min()) & (df['S3_Light'] < outliers.max())]\n",
    "extreme_light.head()"
   ]
  },
  {
   "cell_type": "code",
   "execution_count": 35,
   "id": "5febfe45",
   "metadata": {},
   "outputs": [
    {
     "name": "stdout",
     "output_type": "stream",
     "text": [
      "100.0\n"
     ]
    }
   ],
   "source": [
    "occ_not_0 = extreme_light[extreme_light['Room_Occupancy_Count'] > 0]\n",
    "print(len(occ_not_0)/len(extreme_light) * 100)"
   ]
  },
  {
   "cell_type": "markdown",
   "id": "0aedad27",
   "metadata": {},
   "source": [
    "### ---------> OBSERVATION\n",
    "****\n",
    "All of the outliers in the `S3_Light` have at least 1 people in that room, so I do not want to drop them."
   ]
  },
  {
   "cell_type": "markdown",
   "id": "3e8d08a2",
   "metadata": {},
   "source": [
    "> **`S4_Light` column**"
   ]
  },
  {
   "cell_type": "code",
   "execution_count": 36,
   "id": "2abc8786",
   "metadata": {},
   "outputs": [
    {
     "data": {
      "text/plain": [
       "<AxesSubplot:>"
      ]
     },
     "execution_count": 36,
     "metadata": {},
     "output_type": "execute_result"
    },
    {
     "data": {
      "image/png": "[encoded data removed]",
      "text/plain": [
       "<Figure size 432x288 with 1 Axes>"
      ]
     },
     "metadata": {
      "needs_background": "light"
     },
     "output_type": "display_data"
    }
   ],
   "source": [
    "df.boxplot(column= \"S4_Light\")"
   ]
  },
  {
   "cell_type": "code",
   "execution_count": 37,
   "id": "eda27882",
   "metadata": {},
   "outputs": [
    {
     "name": "stdout",
     "output_type": "stream",
     "text": [
      "number of outliers: 543\n",
      "max outlier value: 74\n",
      "min of outliers: 56\n",
      "Percentage of outliers: 5.447978328483997\n"
     ]
    }
   ],
   "source": [
    "outliers, upper, lower = detect_outliers_IQR(df['S4_Light'])\n",
    "\n",
    "print(\"number of outliers: \"+ str(len(outliers)))\n",
    "\n",
    "print(\"max outlier value: \"+ str(outliers.max()))\n",
    "\n",
    "print(\"min of outliers: \"+ str(outliers.min()))\n",
    "\n",
    "print(\"Percentage of outliers: \"+ str(len(outliers)/len(df) * 100))"
   ]
  },
  {
   "cell_type": "markdown",
   "id": "d7a902a5",
   "metadata": {},
   "source": [
    "### ---------> OBSERVATION\n",
    "****\n",
    "The number is small, so I want to drop them"
   ]
  },
  {
   "cell_type": "code",
   "execution_count": 38,
   "id": "ea96b207",
   "metadata": {},
   "outputs": [],
   "source": [
    "df.drop(upper[0], inplace = True)\n",
    "\n",
    "df.loc[df['S4_Light'] > 50, 'S4_Light'] = np.nan #replace with null\n",
    "df = df.dropna()\n"
   ]
  },
  {
   "cell_type": "markdown",
   "id": "67c4d5cf",
   "metadata": {},
   "source": [
    "> **`S1_Sound` column**"
   ]
  },
  {
   "cell_type": "code",
   "execution_count": 39,
   "id": "281106dd",
   "metadata": {},
   "outputs": [
    {
     "data": {
      "text/plain": [
       "<AxesSubplot:>"
      ]
     },
     "execution_count": 39,
     "metadata": {},
     "output_type": "execute_result"
    },
    {
     "data": {
      "image/png": "[encoded data removed]",
      "text/plain": [
       "<Figure size 432x288 with 1 Axes>"
      ]
     },
     "metadata": {
      "needs_background": "light"
     },
     "output_type": "display_data"
    }
   ],
   "source": [
    "df.boxplot(column= \"S1_Sound\")"
   ]
  },
  {
   "cell_type": "code",
   "execution_count": 40,
   "id": "3962b11c",
   "metadata": {},
   "outputs": [
    {
     "name": "stdout",
     "output_type": "stream",
     "text": [
      "number of outliers: 1096\n",
      "max outlier value: 3.88\n",
      "min of outliers: 0.1\n",
      "Percentage of outliers: 12.266368214885283\n"
     ]
    }
   ],
   "source": [
    "outliers, upper, lower = detect_outliers_IQR(df['S1_Sound'])\n",
    "\n",
    "print(\"number of outliers: \"+ str(len(outliers)))\n",
    "\n",
    "print(\"max outlier value: \"+ str(outliers.max()))\n",
    "\n",
    "print(\"min of outliers: \"+ str(outliers.min()))\n",
    "\n",
    "print(\"Percentage of outliers: \"+ str(len(outliers)/len(df) * 100))"
   ]
  },
  {
   "cell_type": "markdown",
   "id": "8e49e179",
   "metadata": {},
   "source": [
    "### ---------> OBSERVATION\n",
    "****\n",
    "The number is quite considerable, so I want to query them first."
   ]
  },
  {
   "cell_type": "code",
   "execution_count": 41,
   "id": "d4a3bd0a",
   "metadata": {},
   "outputs": [
    {
     "data": {
      "text/html": [
       "<div>\n",
       "<style scoped>\n",
       "    .dataframe tbody tr th:only-of-type {\n",
       "        vertical-align: middle;\n",
       "    }\n",
       "\n",
       "    .dataframe tbody tr th {\n",
       "        vertical-align: top;\n",
       "    }\n",
       "\n",
       "    .dataframe thead th {\n",
       "        text-align: right;\n",
       "    }\n",
       "</style>\n",
       "<table border=\"1\" class=\"dataframe\">\n",
       "  <thead>\n",
       "    <tr style=\"text-align: right;\">\n",
       "      <th></th>\n",
       "      <th>Date</th>\n",
       "      <th>Time</th>\n",
       "      <th>S1_Temp</th>\n",
       "      <th>S2_Temp</th>\n",
       "      <th>S3_Temp</th>\n",
       "      <th>S4_Temp</th>\n",
       "      <th>S1_Light</th>\n",
       "      <th>S2_Light</th>\n",
       "      <th>S3_Light</th>\n",
       "      <th>S4_Light</th>\n",
       "      <th>S1_Sound</th>\n",
       "      <th>S2_Sound</th>\n",
       "      <th>S3_Sound</th>\n",
       "      <th>S4_Sound</th>\n",
       "      <th>S5_CO2</th>\n",
       "      <th>S5_CO2_Slope</th>\n",
       "      <th>S6_PIR</th>\n",
       "      <th>S7_PIR</th>\n",
       "      <th>Room_Occupancy_Count</th>\n",
       "    </tr>\n",
       "  </thead>\n",
       "  <tbody>\n",
       "    <tr>\n",
       "      <th>1</th>\n",
       "      <td>2017/12/22</td>\n",
       "      <td>10:50:12</td>\n",
       "      <td>24.94</td>\n",
       "      <td>24.75</td>\n",
       "      <td>24.56</td>\n",
       "      <td>25.44</td>\n",
       "      <td>121</td>\n",
       "      <td>33</td>\n",
       "      <td>53</td>\n",
       "      <td>40.0</td>\n",
       "      <td>0.93</td>\n",
       "      <td>0.05</td>\n",
       "      <td>0.06</td>\n",
       "      <td>0.06</td>\n",
       "      <td>390</td>\n",
       "      <td>0.646154</td>\n",
       "      <td>0</td>\n",
       "      <td>0</td>\n",
       "      <td>1</td>\n",
       "    </tr>\n",
       "    <tr>\n",
       "      <th>2</th>\n",
       "      <td>2017/12/22</td>\n",
       "      <td>10:50:42</td>\n",
       "      <td>25.00</td>\n",
       "      <td>24.75</td>\n",
       "      <td>24.50</td>\n",
       "      <td>25.44</td>\n",
       "      <td>121</td>\n",
       "      <td>34</td>\n",
       "      <td>53</td>\n",
       "      <td>40.0</td>\n",
       "      <td>0.43</td>\n",
       "      <td>0.11</td>\n",
       "      <td>0.08</td>\n",
       "      <td>0.06</td>\n",
       "      <td>390</td>\n",
       "      <td>0.519231</td>\n",
       "      <td>0</td>\n",
       "      <td>0</td>\n",
       "      <td>1</td>\n",
       "    </tr>\n",
       "    <tr>\n",
       "      <th>3</th>\n",
       "      <td>2017/12/22</td>\n",
       "      <td>10:51:13</td>\n",
       "      <td>25.00</td>\n",
       "      <td>24.75</td>\n",
       "      <td>24.56</td>\n",
       "      <td>25.44</td>\n",
       "      <td>121</td>\n",
       "      <td>34</td>\n",
       "      <td>53</td>\n",
       "      <td>40.0</td>\n",
       "      <td>0.41</td>\n",
       "      <td>0.10</td>\n",
       "      <td>0.10</td>\n",
       "      <td>0.09</td>\n",
       "      <td>390</td>\n",
       "      <td>0.388462</td>\n",
       "      <td>0</td>\n",
       "      <td>0</td>\n",
       "      <td>1</td>\n",
       "    </tr>\n",
       "    <tr>\n",
       "      <th>4</th>\n",
       "      <td>2017/12/22</td>\n",
       "      <td>10:51:44</td>\n",
       "      <td>25.00</td>\n",
       "      <td>24.75</td>\n",
       "      <td>24.56</td>\n",
       "      <td>25.44</td>\n",
       "      <td>121</td>\n",
       "      <td>34</td>\n",
       "      <td>54</td>\n",
       "      <td>40.0</td>\n",
       "      <td>0.18</td>\n",
       "      <td>0.06</td>\n",
       "      <td>0.06</td>\n",
       "      <td>0.06</td>\n",
       "      <td>390</td>\n",
       "      <td>0.253846</td>\n",
       "      <td>0</td>\n",
       "      <td>0</td>\n",
       "      <td>1</td>\n",
       "    </tr>\n",
       "    <tr>\n",
       "      <th>5</th>\n",
       "      <td>2017/12/22</td>\n",
       "      <td>10:52:14</td>\n",
       "      <td>25.00</td>\n",
       "      <td>24.81</td>\n",
       "      <td>24.56</td>\n",
       "      <td>25.44</td>\n",
       "      <td>121</td>\n",
       "      <td>34</td>\n",
       "      <td>54</td>\n",
       "      <td>40.0</td>\n",
       "      <td>0.13</td>\n",
       "      <td>0.06</td>\n",
       "      <td>0.06</td>\n",
       "      <td>0.07</td>\n",
       "      <td>390</td>\n",
       "      <td>0.165385</td>\n",
       "      <td>0</td>\n",
       "      <td>0</td>\n",
       "      <td>1</td>\n",
       "    </tr>\n",
       "  </tbody>\n",
       "</table>\n",
       "</div>"
      ],
      "text/plain": [
       "         Date      Time  S1_Temp  S2_Temp  S3_Temp  S4_Temp  S1_Light  \\\n",
       "1  2017/12/22  10:50:12    24.94    24.75    24.56    25.44       121   \n",
       "2  2017/12/22  10:50:42    25.00    24.75    24.50    25.44       121   \n",
       "3  2017/12/22  10:51:13    25.00    24.75    24.56    25.44       121   \n",
       "4  2017/12/22  10:51:44    25.00    24.75    24.56    25.44       121   \n",
       "5  2017/12/22  10:52:14    25.00    24.81    24.56    25.44       121   \n",
       "\n",
       "   S2_Light  S3_Light  S4_Light  S1_Sound  S2_Sound  S3_Sound  S4_Sound  \\\n",
       "1        33        53      40.0      0.93      0.05      0.06      0.06   \n",
       "2        34        53      40.0      0.43      0.11      0.08      0.06   \n",
       "3        34        53      40.0      0.41      0.10      0.10      0.09   \n",
       "4        34        54      40.0      0.18      0.06      0.06      0.06   \n",
       "5        34        54      40.0      0.13      0.06      0.06      0.07   \n",
       "\n",
       "   S5_CO2  S5_CO2_Slope  S6_PIR  S7_PIR  Room_Occupancy_Count  \n",
       "1     390      0.646154       0       0                     1  \n",
       "2     390      0.519231       0       0                     1  \n",
       "3     390      0.388462       0       0                     1  \n",
       "4     390      0.253846       0       0                     1  \n",
       "5     390      0.165385       0       0                     1  "
      ]
     },
     "execution_count": 41,
     "metadata": {},
     "output_type": "execute_result"
    }
   ],
   "source": [
    "extreme_sound = df[(df['S1_Sound'] > outliers.min()) & (df['S1_Sound'] < outliers.max())]\n",
    "extreme_sound.head()"
   ]
  },
  {
   "cell_type": "code",
   "execution_count": 42,
   "id": "f3be43d3",
   "metadata": {},
   "outputs": [
    {
     "name": "stdout",
     "output_type": "stream",
     "text": [
      "91.22807017543859\n"
     ]
    }
   ],
   "source": [
    "occ_not_0 = extreme_sound[extreme_sound['Room_Occupancy_Count'] > 0]\n",
    "print(len(occ_not_0)/len(extreme_sound) * 100)"
   ]
  },
  {
   "cell_type": "markdown",
   "id": "19b7963a",
   "metadata": {},
   "source": [
    "### ---------> OBSERVATION\n",
    "****\n",
    "Most of the extreme sound cases have the number of people at least 1 so I want to drop only some cases having no people in that room"
   ]
  },
  {
   "cell_type": "code",
   "execution_count": 43,
   "id": "9f9d82c6",
   "metadata": {},
   "outputs": [],
   "source": [
    "df.loc[(df['S1_Sound'] > outliers.min()) & (df['S1_Sound'] < outliers.max()) & df['Room_Occupancy_Count'] < 1, 'S1_Sound'] = df['S1_Sound'].mean() "
   ]
  },
  {
   "cell_type": "markdown",
   "id": "280126e4",
   "metadata": {},
   "source": [
    "> **`S2_Sound` column**"
   ]
  },
  {
   "cell_type": "code",
   "execution_count": 44,
   "id": "0e076b61",
   "metadata": {},
   "outputs": [
    {
     "data": {
      "text/plain": [
       "<AxesSubplot:>"
      ]
     },
     "execution_count": 44,
     "metadata": {},
     "output_type": "execute_result"
    },
    {
     "data": {
      "image/png": "[encoded data removed]",
      "text/plain": [
       "<Figure size 432x288 with 1 Axes>"
      ]
     },
     "metadata": {
      "needs_background": "light"
     },
     "output_type": "display_data"
    }
   ],
   "source": [
    "df.boxplot(column= \"S2_Sound\")"
   ]
  },
  {
   "cell_type": "code",
   "execution_count": 45,
   "id": "06f738a5",
   "metadata": {},
   "outputs": [
    {
     "name": "stdout",
     "output_type": "stream",
     "text": [
      "number of outliers: 3447\n",
      "max outlier value: 3.44\n",
      "min of outliers: 0.04\n",
      "Percentage of outliers: 38.57862339115837\n"
     ]
    }
   ],
   "source": [
    "outliers, upper, lower = detect_outliers_IQR(df['S2_Sound'])\n",
    "\n",
    "print(\"number of outliers: \"+ str(len(outliers)))\n",
    "\n",
    "print(\"max outlier value: \"+ str(outliers.max()))\n",
    "\n",
    "print(\"min of outliers: \"+ str(outliers.min()))\n",
    "\n",
    "print(\"Percentage of outliers: \"+ str(len(outliers)/len(df) * 100))"
   ]
  },
  {
   "cell_type": "markdown",
   "id": "f83d3bc9",
   "metadata": {},
   "source": [
    "### ---------> OBSERVATION\n",
    "****\n",
    "The number is quite considerable, so I want to query them first."
   ]
  },
  {
   "cell_type": "code",
   "execution_count": 46,
   "id": "18ac43a1",
   "metadata": {},
   "outputs": [
    {
     "data": {
      "text/html": [
       "<div>\n",
       "<style scoped>\n",
       "    .dataframe tbody tr th:only-of-type {\n",
       "        vertical-align: middle;\n",
       "    }\n",
       "\n",
       "    .dataframe tbody tr th {\n",
       "        vertical-align: top;\n",
       "    }\n",
       "\n",
       "    .dataframe thead th {\n",
       "        text-align: right;\n",
       "    }\n",
       "</style>\n",
       "<table border=\"1\" class=\"dataframe\">\n",
       "  <thead>\n",
       "    <tr style=\"text-align: right;\">\n",
       "      <th></th>\n",
       "      <th>Date</th>\n",
       "      <th>Time</th>\n",
       "      <th>S1_Temp</th>\n",
       "      <th>S2_Temp</th>\n",
       "      <th>S3_Temp</th>\n",
       "      <th>S4_Temp</th>\n",
       "      <th>S1_Light</th>\n",
       "      <th>S2_Light</th>\n",
       "      <th>S3_Light</th>\n",
       "      <th>S4_Light</th>\n",
       "      <th>S1_Sound</th>\n",
       "      <th>S2_Sound</th>\n",
       "      <th>S3_Sound</th>\n",
       "      <th>S4_Sound</th>\n",
       "      <th>S5_CO2</th>\n",
       "      <th>S5_CO2_Slope</th>\n",
       "      <th>S6_PIR</th>\n",
       "      <th>S7_PIR</th>\n",
       "      <th>Room_Occupancy_Count</th>\n",
       "    </tr>\n",
       "  </thead>\n",
       "  <tbody>\n",
       "    <tr>\n",
       "      <th>0</th>\n",
       "      <td>2017/12/22</td>\n",
       "      <td>10:49:41</td>\n",
       "      <td>24.94</td>\n",
       "      <td>24.75</td>\n",
       "      <td>24.56</td>\n",
       "      <td>25.38</td>\n",
       "      <td>121</td>\n",
       "      <td>34</td>\n",
       "      <td>53</td>\n",
       "      <td>40.0</td>\n",
       "      <td>0.129655</td>\n",
       "      <td>0.19</td>\n",
       "      <td>0.06</td>\n",
       "      <td>0.06</td>\n",
       "      <td>390</td>\n",
       "      <td>0.769231</td>\n",
       "      <td>0</td>\n",
       "      <td>0</td>\n",
       "      <td>1</td>\n",
       "    </tr>\n",
       "    <tr>\n",
       "      <th>1</th>\n",
       "      <td>2017/12/22</td>\n",
       "      <td>10:50:12</td>\n",
       "      <td>24.94</td>\n",
       "      <td>24.75</td>\n",
       "      <td>24.56</td>\n",
       "      <td>25.44</td>\n",
       "      <td>121</td>\n",
       "      <td>33</td>\n",
       "      <td>53</td>\n",
       "      <td>40.0</td>\n",
       "      <td>0.930000</td>\n",
       "      <td>0.05</td>\n",
       "      <td>0.06</td>\n",
       "      <td>0.06</td>\n",
       "      <td>390</td>\n",
       "      <td>0.646154</td>\n",
       "      <td>0</td>\n",
       "      <td>0</td>\n",
       "      <td>1</td>\n",
       "    </tr>\n",
       "    <tr>\n",
       "      <th>2</th>\n",
       "      <td>2017/12/22</td>\n",
       "      <td>10:50:42</td>\n",
       "      <td>25.00</td>\n",
       "      <td>24.75</td>\n",
       "      <td>24.50</td>\n",
       "      <td>25.44</td>\n",
       "      <td>121</td>\n",
       "      <td>34</td>\n",
       "      <td>53</td>\n",
       "      <td>40.0</td>\n",
       "      <td>0.430000</td>\n",
       "      <td>0.11</td>\n",
       "      <td>0.08</td>\n",
       "      <td>0.06</td>\n",
       "      <td>390</td>\n",
       "      <td>0.519231</td>\n",
       "      <td>0</td>\n",
       "      <td>0</td>\n",
       "      <td>1</td>\n",
       "    </tr>\n",
       "    <tr>\n",
       "      <th>3</th>\n",
       "      <td>2017/12/22</td>\n",
       "      <td>10:51:13</td>\n",
       "      <td>25.00</td>\n",
       "      <td>24.75</td>\n",
       "      <td>24.56</td>\n",
       "      <td>25.44</td>\n",
       "      <td>121</td>\n",
       "      <td>34</td>\n",
       "      <td>53</td>\n",
       "      <td>40.0</td>\n",
       "      <td>0.410000</td>\n",
       "      <td>0.10</td>\n",
       "      <td>0.10</td>\n",
       "      <td>0.09</td>\n",
       "      <td>390</td>\n",
       "      <td>0.388462</td>\n",
       "      <td>0</td>\n",
       "      <td>0</td>\n",
       "      <td>1</td>\n",
       "    </tr>\n",
       "    <tr>\n",
       "      <th>4</th>\n",
       "      <td>2017/12/22</td>\n",
       "      <td>10:51:44</td>\n",
       "      <td>25.00</td>\n",
       "      <td>24.75</td>\n",
       "      <td>24.56</td>\n",
       "      <td>25.44</td>\n",
       "      <td>121</td>\n",
       "      <td>34</td>\n",
       "      <td>54</td>\n",
       "      <td>40.0</td>\n",
       "      <td>0.180000</td>\n",
       "      <td>0.06</td>\n",
       "      <td>0.06</td>\n",
       "      <td>0.06</td>\n",
       "      <td>390</td>\n",
       "      <td>0.253846</td>\n",
       "      <td>0</td>\n",
       "      <td>0</td>\n",
       "      <td>1</td>\n",
       "    </tr>\n",
       "  </tbody>\n",
       "</table>\n",
       "</div>"
      ],
      "text/plain": [
       "         Date      Time  S1_Temp  S2_Temp  S3_Temp  S4_Temp  S1_Light  \\\n",
       "0  2017/12/22  10:49:41    24.94    24.75    24.56    25.38       121   \n",
       "1  2017/12/22  10:50:12    24.94    24.75    24.56    25.44       121   \n",
       "2  2017/12/22  10:50:42    25.00    24.75    24.50    25.44       121   \n",
       "3  2017/12/22  10:51:13    25.00    24.75    24.56    25.44       121   \n",
       "4  2017/12/22  10:51:44    25.00    24.75    24.56    25.44       121   \n",
       "\n",
       "   S2_Light  S3_Light  S4_Light  S1_Sound  S2_Sound  S3_Sound  S4_Sound  \\\n",
       "0        34        53      40.0  0.129655      0.19      0.06      0.06   \n",
       "1        33        53      40.0  0.930000      0.05      0.06      0.06   \n",
       "2        34        53      40.0  0.430000      0.11      0.08      0.06   \n",
       "3        34        53      40.0  0.410000      0.10      0.10      0.09   \n",
       "4        34        54      40.0  0.180000      0.06      0.06      0.06   \n",
       "\n",
       "   S5_CO2  S5_CO2_Slope  S6_PIR  S7_PIR  Room_Occupancy_Count  \n",
       "0     390      0.769231       0       0                     1  \n",
       "1     390      0.646154       0       0                     1  \n",
       "2     390      0.519231       0       0                     1  \n",
       "3     390      0.388462       0       0                     1  \n",
       "4     390      0.253846       0       0                     1  "
      ]
     },
     "execution_count": 46,
     "metadata": {},
     "output_type": "execute_result"
    }
   ],
   "source": [
    "extreme_sound = df[(df['S2_Sound'] > outliers.min()) & (df['S2_Sound'] < outliers.max())]\n",
    "extreme_sound.head()"
   ]
  },
  {
   "cell_type": "code",
   "execution_count": 47,
   "id": "33474cd4",
   "metadata": {},
   "outputs": [
    {
     "name": "stdout",
     "output_type": "stream",
     "text": [
      "15.961818904944982\n"
     ]
    }
   ],
   "source": [
    "occ_not_0 = extreme_sound[extreme_sound['Room_Occupancy_Count'] > 0]\n",
    "print(len(occ_not_0)/len(extreme_sound) * 100)"
   ]
  },
  {
   "cell_type": "markdown",
   "id": "0d8ecfda",
   "metadata": {},
   "source": [
    "### ---------> OBSERVATION\n",
    "****\n",
    "Most of the extreme sound cases have the number of people at least 1 so I want to drop only some cases having no people in that room"
   ]
  },
  {
   "cell_type": "code",
   "execution_count": 48,
   "id": "464d3615",
   "metadata": {},
   "outputs": [],
   "source": [
    "df.loc[(df['S2_Sound'] > outliers.min()) & (df['S2_Sound'] < outliers.max()) & df['Room_Occupancy_Count'] < 1, 'S2_Sound'] = df['S2_Sound'].mean() "
   ]
  },
  {
   "cell_type": "markdown",
   "id": "4b130dfb",
   "metadata": {},
   "source": [
    "> **`S3_Sound` column**"
   ]
  },
  {
   "cell_type": "code",
   "execution_count": 49,
   "id": "3f6d891e",
   "metadata": {},
   "outputs": [
    {
     "data": {
      "text/plain": [
       "<AxesSubplot:>"
      ]
     },
     "execution_count": 49,
     "metadata": {},
     "output_type": "execute_result"
    },
    {
     "data": {
      "image/png": "[encoded data removed]",
      "text/plain": [
       "<Figure size 432x288 with 1 Axes>"
      ]
     },
     "metadata": {
      "needs_background": "light"
     },
     "output_type": "display_data"
    }
   ],
   "source": [
    "df.boxplot(column= \"S3_Sound\")"
   ]
  },
  {
   "cell_type": "code",
   "execution_count": 50,
   "id": "ee9eee23",
   "metadata": {},
   "outputs": [
    {
     "name": "stdout",
     "output_type": "stream",
     "text": [
      "number of outliers: 1021\n",
      "max outlier value: 3.66\n",
      "min of outliers: 0.04\n",
      "Percentage of outliers: 11.426972579742586\n"
     ]
    }
   ],
   "source": [
    "outliers, upper, lower = detect_outliers_IQR(df['S3_Sound'])\n",
    "\n",
    "print(\"number of outliers: \"+ str(len(outliers)))\n",
    "\n",
    "print(\"max outlier value: \"+ str(outliers.max()))\n",
    "\n",
    "print(\"min of outliers: \"+ str(outliers.min()))\n",
    "\n",
    "print(\"Percentage of outliers: \"+ str(len(outliers)/len(df) * 100))"
   ]
  },
  {
   "cell_type": "markdown",
   "id": "6bc81ab1",
   "metadata": {},
   "source": [
    "### ---------> OBSERVATION\n",
    "****\n",
    "The number is quite considerable, so I want to query them first."
   ]
  },
  {
   "cell_type": "code",
   "execution_count": 51,
   "id": "7ba52060",
   "metadata": {},
   "outputs": [
    {
     "data": {
      "text/html": [
       "<div>\n",
       "<style scoped>\n",
       "    .dataframe tbody tr th:only-of-type {\n",
       "        vertical-align: middle;\n",
       "    }\n",
       "\n",
       "    .dataframe tbody tr th {\n",
       "        vertical-align: top;\n",
       "    }\n",
       "\n",
       "    .dataframe thead th {\n",
       "        text-align: right;\n",
       "    }\n",
       "</style>\n",
       "<table border=\"1\" class=\"dataframe\">\n",
       "  <thead>\n",
       "    <tr style=\"text-align: right;\">\n",
       "      <th></th>\n",
       "      <th>Date</th>\n",
       "      <th>Time</th>\n",
       "      <th>S1_Temp</th>\n",
       "      <th>S2_Temp</th>\n",
       "      <th>S3_Temp</th>\n",
       "      <th>S4_Temp</th>\n",
       "      <th>S1_Light</th>\n",
       "      <th>S2_Light</th>\n",
       "      <th>S3_Light</th>\n",
       "      <th>S4_Light</th>\n",
       "      <th>S1_Sound</th>\n",
       "      <th>S2_Sound</th>\n",
       "      <th>S3_Sound</th>\n",
       "      <th>S4_Sound</th>\n",
       "      <th>S5_CO2</th>\n",
       "      <th>S5_CO2_Slope</th>\n",
       "      <th>S6_PIR</th>\n",
       "      <th>S7_PIR</th>\n",
       "      <th>Room_Occupancy_Count</th>\n",
       "    </tr>\n",
       "  </thead>\n",
       "  <tbody>\n",
       "    <tr>\n",
       "      <th>0</th>\n",
       "      <td>2017/12/22</td>\n",
       "      <td>10:49:41</td>\n",
       "      <td>24.94</td>\n",
       "      <td>24.75</td>\n",
       "      <td>24.56</td>\n",
       "      <td>25.38</td>\n",
       "      <td>121</td>\n",
       "      <td>34</td>\n",
       "      <td>53</td>\n",
       "      <td>40.0</td>\n",
       "      <td>0.129655</td>\n",
       "      <td>0.19</td>\n",
       "      <td>0.06</td>\n",
       "      <td>0.06</td>\n",
       "      <td>390</td>\n",
       "      <td>0.769231</td>\n",
       "      <td>0</td>\n",
       "      <td>0</td>\n",
       "      <td>1</td>\n",
       "    </tr>\n",
       "    <tr>\n",
       "      <th>1</th>\n",
       "      <td>2017/12/22</td>\n",
       "      <td>10:50:12</td>\n",
       "      <td>24.94</td>\n",
       "      <td>24.75</td>\n",
       "      <td>24.56</td>\n",
       "      <td>25.44</td>\n",
       "      <td>121</td>\n",
       "      <td>33</td>\n",
       "      <td>53</td>\n",
       "      <td>40.0</td>\n",
       "      <td>0.930000</td>\n",
       "      <td>0.05</td>\n",
       "      <td>0.06</td>\n",
       "      <td>0.06</td>\n",
       "      <td>390</td>\n",
       "      <td>0.646154</td>\n",
       "      <td>0</td>\n",
       "      <td>0</td>\n",
       "      <td>1</td>\n",
       "    </tr>\n",
       "    <tr>\n",
       "      <th>2</th>\n",
       "      <td>2017/12/22</td>\n",
       "      <td>10:50:42</td>\n",
       "      <td>25.00</td>\n",
       "      <td>24.75</td>\n",
       "      <td>24.50</td>\n",
       "      <td>25.44</td>\n",
       "      <td>121</td>\n",
       "      <td>34</td>\n",
       "      <td>53</td>\n",
       "      <td>40.0</td>\n",
       "      <td>0.430000</td>\n",
       "      <td>0.11</td>\n",
       "      <td>0.08</td>\n",
       "      <td>0.06</td>\n",
       "      <td>390</td>\n",
       "      <td>0.519231</td>\n",
       "      <td>0</td>\n",
       "      <td>0</td>\n",
       "      <td>1</td>\n",
       "    </tr>\n",
       "    <tr>\n",
       "      <th>3</th>\n",
       "      <td>2017/12/22</td>\n",
       "      <td>10:51:13</td>\n",
       "      <td>25.00</td>\n",
       "      <td>24.75</td>\n",
       "      <td>24.56</td>\n",
       "      <td>25.44</td>\n",
       "      <td>121</td>\n",
       "      <td>34</td>\n",
       "      <td>53</td>\n",
       "      <td>40.0</td>\n",
       "      <td>0.410000</td>\n",
       "      <td>0.10</td>\n",
       "      <td>0.10</td>\n",
       "      <td>0.09</td>\n",
       "      <td>390</td>\n",
       "      <td>0.388462</td>\n",
       "      <td>0</td>\n",
       "      <td>0</td>\n",
       "      <td>1</td>\n",
       "    </tr>\n",
       "    <tr>\n",
       "      <th>4</th>\n",
       "      <td>2017/12/22</td>\n",
       "      <td>10:51:44</td>\n",
       "      <td>25.00</td>\n",
       "      <td>24.75</td>\n",
       "      <td>24.56</td>\n",
       "      <td>25.44</td>\n",
       "      <td>121</td>\n",
       "      <td>34</td>\n",
       "      <td>54</td>\n",
       "      <td>40.0</td>\n",
       "      <td>0.180000</td>\n",
       "      <td>0.06</td>\n",
       "      <td>0.06</td>\n",
       "      <td>0.06</td>\n",
       "      <td>390</td>\n",
       "      <td>0.253846</td>\n",
       "      <td>0</td>\n",
       "      <td>0</td>\n",
       "      <td>1</td>\n",
       "    </tr>\n",
       "  </tbody>\n",
       "</table>\n",
       "</div>"
      ],
      "text/plain": [
       "         Date      Time  S1_Temp  S2_Temp  S3_Temp  S4_Temp  S1_Light  \\\n",
       "0  2017/12/22  10:49:41    24.94    24.75    24.56    25.38       121   \n",
       "1  2017/12/22  10:50:12    24.94    24.75    24.56    25.44       121   \n",
       "2  2017/12/22  10:50:42    25.00    24.75    24.50    25.44       121   \n",
       "3  2017/12/22  10:51:13    25.00    24.75    24.56    25.44       121   \n",
       "4  2017/12/22  10:51:44    25.00    24.75    24.56    25.44       121   \n",
       "\n",
       "   S2_Light  S3_Light  S4_Light  S1_Sound  S2_Sound  S3_Sound  S4_Sound  \\\n",
       "0        34        53      40.0  0.129655      0.19      0.06      0.06   \n",
       "1        33        53      40.0  0.930000      0.05      0.06      0.06   \n",
       "2        34        53      40.0  0.430000      0.11      0.08      0.06   \n",
       "3        34        53      40.0  0.410000      0.10      0.10      0.09   \n",
       "4        34        54      40.0  0.180000      0.06      0.06      0.06   \n",
       "\n",
       "   S5_CO2  S5_CO2_Slope  S6_PIR  S7_PIR  Room_Occupancy_Count  \n",
       "0     390      0.769231       0       0                     1  \n",
       "1     390      0.646154       0       0                     1  \n",
       "2     390      0.519231       0       0                     1  \n",
       "3     390      0.388462       0       0                     1  \n",
       "4     390      0.253846       0       0                     1  "
      ]
     },
     "execution_count": 51,
     "metadata": {},
     "output_type": "execute_result"
    }
   ],
   "source": [
    "extreme_sound = df[(df['S3_Sound'] > outliers.min()) & (df['S3_Sound'] < outliers.max())]\n",
    "extreme_sound.head()"
   ]
  },
  {
   "cell_type": "code",
   "execution_count": 52,
   "id": "89912172",
   "metadata": {},
   "outputs": [
    {
     "name": "stdout",
     "output_type": "stream",
     "text": [
      "13.540150072796505\n"
     ]
    }
   ],
   "source": [
    "occ_not_0 = extreme_sound[extreme_sound['Room_Occupancy_Count'] > 0]\n",
    "print(len(occ_not_0)/len(extreme_sound) * 100)"
   ]
  },
  {
   "cell_type": "markdown",
   "id": "f63c3950",
   "metadata": {},
   "source": [
    "### ---------> OBSERVATION\n",
    "****\n",
    "Most of the extreme sound cases have the number of people less than 1 so I want to drop them since the more people in the room the more extreme sound in that rooms have so it is quite not right if I keep those extreme sound and they become noise for the model in the trainnig process."
   ]
  },
  {
   "cell_type": "code",
   "execution_count": 53,
   "id": "7bded7fc",
   "metadata": {},
   "outputs": [],
   "source": [
    "df.loc[(df['S3_Sound'] > outliers.min()) & (df['S3_Sound'] < outliers.max()), 'S3_Sound'] = df['S3_Sound'].mean() "
   ]
  },
  {
   "cell_type": "markdown",
   "id": "5b5bb166",
   "metadata": {},
   "source": [
    "> **`S4_Sound` column**"
   ]
  },
  {
   "cell_type": "code",
   "execution_count": 54,
   "id": "3349b1a4",
   "metadata": {},
   "outputs": [
    {
     "data": {
      "text/plain": [
       "<AxesSubplot:>"
      ]
     },
     "execution_count": 54,
     "metadata": {},
     "output_type": "execute_result"
    },
    {
     "data": {
      "image/png": "[encoded data removed]",
      "text/plain": [
       "<Figure size 432x288 with 1 Axes>"
      ]
     },
     "metadata": {
      "needs_background": "light"
     },
     "output_type": "display_data"
    }
   ],
   "source": [
    "df.boxplot(column= \"S4_Sound\")"
   ]
  },
  {
   "cell_type": "code",
   "execution_count": 55,
   "id": "347fcaa4",
   "metadata": {},
   "outputs": [
    {
     "name": "stdout",
     "output_type": "stream",
     "text": [
      "number of outliers: 363\n",
      "max outlier value: 1.8\n",
      "min of outliers: 0.17\n",
      "Percentage of outliers: 4.062674874090655\n"
     ]
    }
   ],
   "source": [
    "outliers, upper, lower = detect_outliers_IQR(df['S4_Sound'])\n",
    "\n",
    "print(\"number of outliers: \"+ str(len(outliers)))\n",
    "\n",
    "print(\"max outlier value: \"+ str(outliers.max()))\n",
    "\n",
    "print(\"min of outliers: \"+ str(outliers.min()))\n",
    "\n",
    "print(\"Percentage of outliers: \"+ str(len(outliers)/len(df) * 100))"
   ]
  },
  {
   "cell_type": "markdown",
   "id": "f6449091",
   "metadata": {},
   "source": [
    "### ---------> OBSERVATION\n",
    "****\n",
    "The number is quite considerable, so I want to query them first."
   ]
  },
  {
   "cell_type": "code",
   "execution_count": 56,
   "id": "108f864c",
   "metadata": {},
   "outputs": [
    {
     "data": {
      "text/html": [
       "<div>\n",
       "<style scoped>\n",
       "    .dataframe tbody tr th:only-of-type {\n",
       "        vertical-align: middle;\n",
       "    }\n",
       "\n",
       "    .dataframe tbody tr th {\n",
       "        vertical-align: top;\n",
       "    }\n",
       "\n",
       "    .dataframe thead th {\n",
       "        text-align: right;\n",
       "    }\n",
       "</style>\n",
       "<table border=\"1\" class=\"dataframe\">\n",
       "  <thead>\n",
       "    <tr style=\"text-align: right;\">\n",
       "      <th></th>\n",
       "      <th>Date</th>\n",
       "      <th>Time</th>\n",
       "      <th>S1_Temp</th>\n",
       "      <th>S2_Temp</th>\n",
       "      <th>S3_Temp</th>\n",
       "      <th>S4_Temp</th>\n",
       "      <th>S1_Light</th>\n",
       "      <th>S2_Light</th>\n",
       "      <th>S3_Light</th>\n",
       "      <th>S4_Light</th>\n",
       "      <th>S1_Sound</th>\n",
       "      <th>S2_Sound</th>\n",
       "      <th>S3_Sound</th>\n",
       "      <th>S4_Sound</th>\n",
       "      <th>S5_CO2</th>\n",
       "      <th>S5_CO2_Slope</th>\n",
       "      <th>S6_PIR</th>\n",
       "      <th>S7_PIR</th>\n",
       "      <th>Room_Occupancy_Count</th>\n",
       "    </tr>\n",
       "  </thead>\n",
       "  <tbody>\n",
       "    <tr>\n",
       "      <th>9</th>\n",
       "      <td>2017/12/22</td>\n",
       "      <td>10:54:17</td>\n",
       "      <td>25.00</td>\n",
       "      <td>24.81</td>\n",
       "      <td>24.56</td>\n",
       "      <td>25.50</td>\n",
       "      <td>101</td>\n",
       "      <td>34</td>\n",
       "      <td>57</td>\n",
       "      <td>43.0</td>\n",
       "      <td>3.840000</td>\n",
       "      <td>0.64</td>\n",
       "      <td>0.123802</td>\n",
       "      <td>0.39</td>\n",
       "      <td>390</td>\n",
       "      <td>-0.188462</td>\n",
       "      <td>1</td>\n",
       "      <td>1</td>\n",
       "      <td>1</td>\n",
       "    </tr>\n",
       "    <tr>\n",
       "      <th>10</th>\n",
       "      <td>2017/12/22</td>\n",
       "      <td>10:54:47</td>\n",
       "      <td>25.06</td>\n",
       "      <td>24.81</td>\n",
       "      <td>24.56</td>\n",
       "      <td>25.44</td>\n",
       "      <td>122</td>\n",
       "      <td>35</td>\n",
       "      <td>57</td>\n",
       "      <td>43.0</td>\n",
       "      <td>2.200000</td>\n",
       "      <td>0.31</td>\n",
       "      <td>0.123802</td>\n",
       "      <td>0.21</td>\n",
       "      <td>390</td>\n",
       "      <td>-0.276923</td>\n",
       "      <td>1</td>\n",
       "      <td>1</td>\n",
       "      <td>1</td>\n",
       "    </tr>\n",
       "    <tr>\n",
       "      <th>480</th>\n",
       "      <td>2017/12/22</td>\n",
       "      <td>15:25:55</td>\n",
       "      <td>25.81</td>\n",
       "      <td>25.88</td>\n",
       "      <td>25.69</td>\n",
       "      <td>26.31</td>\n",
       "      <td>112</td>\n",
       "      <td>34</td>\n",
       "      <td>76</td>\n",
       "      <td>49.0</td>\n",
       "      <td>0.900000</td>\n",
       "      <td>0.36</td>\n",
       "      <td>0.123802</td>\n",
       "      <td>0.20</td>\n",
       "      <td>595</td>\n",
       "      <td>-3.526923</td>\n",
       "      <td>0</td>\n",
       "      <td>0</td>\n",
       "      <td>1</td>\n",
       "    </tr>\n",
       "    <tr>\n",
       "      <th>489</th>\n",
       "      <td>2017/12/22</td>\n",
       "      <td>15:30:30</td>\n",
       "      <td>25.88</td>\n",
       "      <td>25.88</td>\n",
       "      <td>25.63</td>\n",
       "      <td>26.31</td>\n",
       "      <td>120</td>\n",
       "      <td>34</td>\n",
       "      <td>71</td>\n",
       "      <td>45.0</td>\n",
       "      <td>0.129655</td>\n",
       "      <td>0.05</td>\n",
       "      <td>0.123802</td>\n",
       "      <td>0.21</td>\n",
       "      <td>590</td>\n",
       "      <td>-1.907692</td>\n",
       "      <td>0</td>\n",
       "      <td>0</td>\n",
       "      <td>1</td>\n",
       "    </tr>\n",
       "    <tr>\n",
       "      <th>494</th>\n",
       "      <td>2017/12/22</td>\n",
       "      <td>15:33:03</td>\n",
       "      <td>25.94</td>\n",
       "      <td>25.88</td>\n",
       "      <td>25.63</td>\n",
       "      <td>26.31</td>\n",
       "      <td>120</td>\n",
       "      <td>34</td>\n",
       "      <td>70</td>\n",
       "      <td>44.0</td>\n",
       "      <td>1.710000</td>\n",
       "      <td>0.63</td>\n",
       "      <td>0.123802</td>\n",
       "      <td>0.30</td>\n",
       "      <td>580</td>\n",
       "      <td>-1.284615</td>\n",
       "      <td>0</td>\n",
       "      <td>0</td>\n",
       "      <td>1</td>\n",
       "    </tr>\n",
       "  </tbody>\n",
       "</table>\n",
       "</div>"
      ],
      "text/plain": [
       "           Date      Time  S1_Temp  S2_Temp  S3_Temp  S4_Temp  S1_Light  \\\n",
       "9    2017/12/22  10:54:17    25.00    24.81    24.56    25.50       101   \n",
       "10   2017/12/22  10:54:47    25.06    24.81    24.56    25.44       122   \n",
       "480  2017/12/22  15:25:55    25.81    25.88    25.69    26.31       112   \n",
       "489  2017/12/22  15:30:30    25.88    25.88    25.63    26.31       120   \n",
       "494  2017/12/22  15:33:03    25.94    25.88    25.63    26.31       120   \n",
       "\n",
       "     S2_Light  S3_Light  S4_Light  S1_Sound  S2_Sound  S3_Sound  S4_Sound  \\\n",
       "9          34        57      43.0  3.840000      0.64  0.123802      0.39   \n",
       "10         35        57      43.0  2.200000      0.31  0.123802      0.21   \n",
       "480        34        76      49.0  0.900000      0.36  0.123802      0.20   \n",
       "489        34        71      45.0  0.129655      0.05  0.123802      0.21   \n",
       "494        34        70      44.0  1.710000      0.63  0.123802      0.30   \n",
       "\n",
       "     S5_CO2  S5_CO2_Slope  S6_PIR  S7_PIR  Room_Occupancy_Count  \n",
       "9       390     -0.188462       1       1                     1  \n",
       "10      390     -0.276923       1       1                     1  \n",
       "480     595     -3.526923       0       0                     1  \n",
       "489     590     -1.907692       0       0                     1  \n",
       "494     580     -1.284615       0       0                     1  "
      ]
     },
     "execution_count": 56,
     "metadata": {},
     "output_type": "execute_result"
    }
   ],
   "source": [
    "extreme_sound = df[(df['S4_Sound'] > outliers.min()) & (df['S4_Sound'] < outliers.max())]\n",
    "extreme_sound.head()"
   ]
  },
  {
   "cell_type": "code",
   "execution_count": 57,
   "id": "38b68b4f",
   "metadata": {},
   "outputs": [
    {
     "name": "stdout",
     "output_type": "stream",
     "text": [
      "97.68115942028986\n"
     ]
    }
   ],
   "source": [
    "occ_not_0 = extreme_sound[extreme_sound['Room_Occupancy_Count'] > 0]\n",
    "print(len(occ_not_0)/len(extreme_sound) * 100)"
   ]
  },
  {
   "cell_type": "markdown",
   "id": "fa0d4b04",
   "metadata": {},
   "source": [
    "### ---------> OBSERVATION\n",
    "****\n",
    "Most of the extreme sound cases have the number of people at least 1 so I want to drop only some cases having no people in that room"
   ]
  },
  {
   "cell_type": "code",
   "execution_count": 58,
   "id": "c39ab98f",
   "metadata": {},
   "outputs": [],
   "source": [
    "df.loc[(df['S4_Sound'] > outliers.min()) & (df['S4_Sound'] < outliers.max()) & df['Room_Occupancy_Count'] < 1, 'S4_Sound'] = df['S4_Sound'].mean() "
   ]
  },
  {
   "cell_type": "markdown",
   "id": "12c370df",
   "metadata": {},
   "source": [
    "> **`S5_CO2` column**"
   ]
  },
  {
   "cell_type": "code",
   "execution_count": 59,
   "id": "ba82f5ec",
   "metadata": {},
   "outputs": [
    {
     "data": {
      "text/plain": [
       "<AxesSubplot:>"
      ]
     },
     "execution_count": 59,
     "metadata": {},
     "output_type": "execute_result"
    },
    {
     "data": {
      "image/png": "[encoded data removed]",
      "text/plain": [
       "<Figure size 432x288 with 1 Axes>"
      ]
     },
     "metadata": {
      "needs_background": "light"
     },
     "output_type": "display_data"
    }
   ],
   "source": [
    "df.boxplot(column= \"S5_CO2\")"
   ]
  },
  {
   "cell_type": "code",
   "execution_count": 60,
   "id": "5c63143f",
   "metadata": {},
   "outputs": [
    {
     "name": "stdout",
     "output_type": "stream",
     "text": [
      "number of outliers: 1984\n",
      "max outlier value: 1205\n",
      "min of outliers: 445\n",
      "Percentage of outliers: 22.20481253497482\n"
     ]
    }
   ],
   "source": [
    "outliers, upper, lower = detect_outliers_IQR(df['S5_CO2'])\n",
    "\n",
    "print(\"number of outliers: \"+ str(len(outliers)))\n",
    "\n",
    "print(\"max outlier value: \"+ str(outliers.max()))\n",
    "\n",
    "print(\"min of outliers: \"+ str(outliers.min()))\n",
    "\n",
    "print(\"Percentage of outliers: \"+ str(len(outliers)/len(df) * 100))"
   ]
  },
  {
   "cell_type": "markdown",
   "id": "9a851aa0",
   "metadata": {},
   "source": [
    "### ---------> OBSERVATION\n",
    "****\n",
    "The number is quite considerable, so I want to query them first."
   ]
  },
  {
   "cell_type": "code",
   "execution_count": 61,
   "id": "d33edbda",
   "metadata": {},
   "outputs": [
    {
     "data": {
      "text/html": [
       "<div>\n",
       "<style scoped>\n",
       "    .dataframe tbody tr th:only-of-type {\n",
       "        vertical-align: middle;\n",
       "    }\n",
       "\n",
       "    .dataframe tbody tr th {\n",
       "        vertical-align: top;\n",
       "    }\n",
       "\n",
       "    .dataframe thead th {\n",
       "        text-align: right;\n",
       "    }\n",
       "</style>\n",
       "<table border=\"1\" class=\"dataframe\">\n",
       "  <thead>\n",
       "    <tr style=\"text-align: right;\">\n",
       "      <th></th>\n",
       "      <th>Date</th>\n",
       "      <th>Time</th>\n",
       "      <th>S1_Temp</th>\n",
       "      <th>S2_Temp</th>\n",
       "      <th>S3_Temp</th>\n",
       "      <th>S4_Temp</th>\n",
       "      <th>S1_Light</th>\n",
       "      <th>S2_Light</th>\n",
       "      <th>S3_Light</th>\n",
       "      <th>S4_Light</th>\n",
       "      <th>S1_Sound</th>\n",
       "      <th>S2_Sound</th>\n",
       "      <th>S3_Sound</th>\n",
       "      <th>S4_Sound</th>\n",
       "      <th>S5_CO2</th>\n",
       "      <th>S5_CO2_Slope</th>\n",
       "      <th>S6_PIR</th>\n",
       "      <th>S7_PIR</th>\n",
       "      <th>Room_Occupancy_Count</th>\n",
       "    </tr>\n",
       "  </thead>\n",
       "  <tbody>\n",
       "    <tr>\n",
       "      <th>72</th>\n",
       "      <td>2017/12/22</td>\n",
       "      <td>11:26:27</td>\n",
       "      <td>25.31</td>\n",
       "      <td>25.00</td>\n",
       "      <td>24.81</td>\n",
       "      <td>25.75</td>\n",
       "      <td>123</td>\n",
       "      <td>37</td>\n",
       "      <td>64</td>\n",
       "      <td>49.0</td>\n",
       "      <td>0.360000</td>\n",
       "      <td>0.090000</td>\n",
       "      <td>0.123802</td>\n",
       "      <td>0.092685</td>\n",
       "      <td>450</td>\n",
       "      <td>0.984615</td>\n",
       "      <td>1</td>\n",
       "      <td>0</td>\n",
       "      <td>1</td>\n",
       "    </tr>\n",
       "    <tr>\n",
       "      <th>73</th>\n",
       "      <td>2017/12/22</td>\n",
       "      <td>11:27:28</td>\n",
       "      <td>25.31</td>\n",
       "      <td>25.25</td>\n",
       "      <td>24.88</td>\n",
       "      <td>25.75</td>\n",
       "      <td>123</td>\n",
       "      <td>31</td>\n",
       "      <td>61</td>\n",
       "      <td>46.0</td>\n",
       "      <td>0.480000</td>\n",
       "      <td>0.310000</td>\n",
       "      <td>0.123802</td>\n",
       "      <td>0.092685</td>\n",
       "      <td>450</td>\n",
       "      <td>1.100000</td>\n",
       "      <td>1</td>\n",
       "      <td>1</td>\n",
       "      <td>1</td>\n",
       "    </tr>\n",
       "    <tr>\n",
       "      <th>74</th>\n",
       "      <td>2017/12/22</td>\n",
       "      <td>11:27:59</td>\n",
       "      <td>25.31</td>\n",
       "      <td>25.63</td>\n",
       "      <td>24.81</td>\n",
       "      <td>25.75</td>\n",
       "      <td>124</td>\n",
       "      <td>29</td>\n",
       "      <td>62</td>\n",
       "      <td>46.0</td>\n",
       "      <td>0.510000</td>\n",
       "      <td>0.550000</td>\n",
       "      <td>0.123802</td>\n",
       "      <td>0.092685</td>\n",
       "      <td>450</td>\n",
       "      <td>1.103846</td>\n",
       "      <td>1</td>\n",
       "      <td>1</td>\n",
       "      <td>1</td>\n",
       "    </tr>\n",
       "    <tr>\n",
       "      <th>75</th>\n",
       "      <td>2017/12/22</td>\n",
       "      <td>11:28:29</td>\n",
       "      <td>25.38</td>\n",
       "      <td>25.44</td>\n",
       "      <td>24.81</td>\n",
       "      <td>25.69</td>\n",
       "      <td>150</td>\n",
       "      <td>187</td>\n",
       "      <td>63</td>\n",
       "      <td>49.0</td>\n",
       "      <td>0.129655</td>\n",
       "      <td>0.087095</td>\n",
       "      <td>0.123802</td>\n",
       "      <td>0.092685</td>\n",
       "      <td>450</td>\n",
       "      <td>1.088462</td>\n",
       "      <td>1</td>\n",
       "      <td>1</td>\n",
       "      <td>2</td>\n",
       "    </tr>\n",
       "    <tr>\n",
       "      <th>76</th>\n",
       "      <td>2017/12/22</td>\n",
       "      <td>11:29:00</td>\n",
       "      <td>25.38</td>\n",
       "      <td>25.44</td>\n",
       "      <td>24.81</td>\n",
       "      <td>25.75</td>\n",
       "      <td>153</td>\n",
       "      <td>216</td>\n",
       "      <td>63</td>\n",
       "      <td>49.0</td>\n",
       "      <td>0.129655</td>\n",
       "      <td>0.087095</td>\n",
       "      <td>0.123802</td>\n",
       "      <td>0.092685</td>\n",
       "      <td>450</td>\n",
       "      <td>1.003846</td>\n",
       "      <td>1</td>\n",
       "      <td>1</td>\n",
       "      <td>2</td>\n",
       "    </tr>\n",
       "  </tbody>\n",
       "</table>\n",
       "</div>"
      ],
      "text/plain": [
       "          Date      Time  S1_Temp  S2_Temp  S3_Temp  S4_Temp  S1_Light  \\\n",
       "72  2017/12/22  11:26:27    25.31    25.00    24.81    25.75       123   \n",
       "73  2017/12/22  11:27:28    25.31    25.25    24.88    25.75       123   \n",
       "74  2017/12/22  11:27:59    25.31    25.63    24.81    25.75       124   \n",
       "75  2017/12/22  11:28:29    25.38    25.44    24.81    25.69       150   \n",
       "76  2017/12/22  11:29:00    25.38    25.44    24.81    25.75       153   \n",
       "\n",
       "    S2_Light  S3_Light  S4_Light  S1_Sound  S2_Sound  S3_Sound  S4_Sound  \\\n",
       "72        37        64      49.0  0.360000  0.090000  0.123802  0.092685   \n",
       "73        31        61      46.0  0.480000  0.310000  0.123802  0.092685   \n",
       "74        29        62      46.0  0.510000  0.550000  0.123802  0.092685   \n",
       "75       187        63      49.0  0.129655  0.087095  0.123802  0.092685   \n",
       "76       216        63      49.0  0.129655  0.087095  0.123802  0.092685   \n",
       "\n",
       "    S5_CO2  S5_CO2_Slope  S6_PIR  S7_PIR  Room_Occupancy_Count  \n",
       "72     450      0.984615       1       0                     1  \n",
       "73     450      1.100000       1       1                     1  \n",
       "74     450      1.103846       1       1                     1  \n",
       "75     450      1.088462       1       1                     2  \n",
       "76     450      1.003846       1       1                     2  "
      ]
     },
     "execution_count": 61,
     "metadata": {},
     "output_type": "execute_result"
    }
   ],
   "source": [
    "extreme_CO2 = df[(df['S5_CO2'] > outliers.min()) & (df['S5_CO2'] < outliers.max())]\n",
    "extreme_CO2.head()"
   ]
  },
  {
   "cell_type": "code",
   "execution_count": 62,
   "id": "b7544f52",
   "metadata": {},
   "outputs": [
    {
     "name": "stdout",
     "output_type": "stream",
     "text": [
      "51.99386503067485\n"
     ]
    }
   ],
   "source": [
    "occ_not_0 = extreme_CO2[extreme_CO2['Room_Occupancy_Count'] > 0]\n",
    "print(len(occ_not_0)/len(extreme_CO2) * 100)"
   ]
  },
  {
   "cell_type": "markdown",
   "id": "87a843e3",
   "metadata": {},
   "source": [
    "### ---------> OBSERVATION\n",
    "****\n",
    "Most of the extreme CO2 cases have the number of people at least 1 so I want to drop only some cases having no people in that room"
   ]
  },
  {
   "cell_type": "code",
   "execution_count": 63,
   "id": "511885c4",
   "metadata": {},
   "outputs": [],
   "source": [
    "df.loc[(df['S5_CO2'] > outliers.min()) & (df['S5_CO2'] < outliers.max()) & df['Room_Occupancy_Count'] < 1, 'S5_CO2'] = df['S5_CO2'].mean() "
   ]
  },
  {
   "cell_type": "markdown",
   "id": "b104431d",
   "metadata": {},
   "source": [
    "> **`S5_CO2_Slope` column**"
   ]
  },
  {
   "cell_type": "code",
   "execution_count": 64,
   "id": "0ff1b906",
   "metadata": {},
   "outputs": [
    {
     "data": {
      "text/plain": [
       "<AxesSubplot:>"
      ]
     },
     "execution_count": 64,
     "metadata": {},
     "output_type": "execute_result"
    },
    {
     "data": {
      "image/png": "[encoded data removed]",
      "text/plain": [
       "<Figure size 432x288 with 1 Axes>"
      ]
     },
     "metadata": {
      "needs_background": "light"
     },
     "output_type": "display_data"
    }
   ],
   "source": [
    "df.boxplot(column= \"S5_CO2_Slope\")"
   ]
  },
  {
   "cell_type": "code",
   "execution_count": 65,
   "id": "b43c484c",
   "metadata": {},
   "outputs": [
    {
     "name": "stdout",
     "output_type": "stream",
     "text": [
      "number of outliers: 2886\n",
      "max outlier value: 4.63846153846\n",
      "min of outliers: -5.53461538462\n",
      "Percentage of outliers: 32.29994404029099\n"
     ]
    }
   ],
   "source": [
    "outliers, upper, lower = detect_outliers_IQR(df['S5_CO2_Slope'])\n",
    "\n",
    "print(\"number of outliers: \"+ str(len(outliers)))\n",
    "\n",
    "print(\"max outlier value: \"+ str(outliers.max()))\n",
    "\n",
    "print(\"min of outliers: \"+ str(outliers.min()))\n",
    "\n",
    "print(\"Percentage of outliers: \"+ str(len(outliers)/len(df) * 100))"
   ]
  },
  {
   "cell_type": "markdown",
   "id": "79eb1208",
   "metadata": {},
   "source": [
    "### ---------> OBSERVATION\n",
    "****\n",
    "The number is quite considerable, so I want to query them first."
   ]
  },
  {
   "cell_type": "code",
   "execution_count": 66,
   "id": "8fcfe9a5",
   "metadata": {},
   "outputs": [
    {
     "data": {
      "text/html": [
       "<div>\n",
       "<style scoped>\n",
       "    .dataframe tbody tr th:only-of-type {\n",
       "        vertical-align: middle;\n",
       "    }\n",
       "\n",
       "    .dataframe tbody tr th {\n",
       "        vertical-align: top;\n",
       "    }\n",
       "\n",
       "    .dataframe thead th {\n",
       "        text-align: right;\n",
       "    }\n",
       "</style>\n",
       "<table border=\"1\" class=\"dataframe\">\n",
       "  <thead>\n",
       "    <tr style=\"text-align: right;\">\n",
       "      <th></th>\n",
       "      <th>Date</th>\n",
       "      <th>Time</th>\n",
       "      <th>S1_Temp</th>\n",
       "      <th>S2_Temp</th>\n",
       "      <th>S3_Temp</th>\n",
       "      <th>S4_Temp</th>\n",
       "      <th>S1_Light</th>\n",
       "      <th>S2_Light</th>\n",
       "      <th>S3_Light</th>\n",
       "      <th>S4_Light</th>\n",
       "      <th>S1_Sound</th>\n",
       "      <th>S2_Sound</th>\n",
       "      <th>S3_Sound</th>\n",
       "      <th>S4_Sound</th>\n",
       "      <th>S5_CO2</th>\n",
       "      <th>S5_CO2_Slope</th>\n",
       "      <th>S6_PIR</th>\n",
       "      <th>S7_PIR</th>\n",
       "      <th>Room_Occupancy_Count</th>\n",
       "    </tr>\n",
       "  </thead>\n",
       "  <tbody>\n",
       "    <tr>\n",
       "      <th>0</th>\n",
       "      <td>2017/12/22</td>\n",
       "      <td>10:49:41</td>\n",
       "      <td>24.94</td>\n",
       "      <td>24.75</td>\n",
       "      <td>24.56</td>\n",
       "      <td>25.38</td>\n",
       "      <td>121</td>\n",
       "      <td>34</td>\n",
       "      <td>53</td>\n",
       "      <td>40.0</td>\n",
       "      <td>0.129655</td>\n",
       "      <td>0.19</td>\n",
       "      <td>0.123802</td>\n",
       "      <td>0.092685</td>\n",
       "      <td>439.693341</td>\n",
       "      <td>0.769231</td>\n",
       "      <td>0</td>\n",
       "      <td>0</td>\n",
       "      <td>1</td>\n",
       "    </tr>\n",
       "    <tr>\n",
       "      <th>1</th>\n",
       "      <td>2017/12/22</td>\n",
       "      <td>10:50:12</td>\n",
       "      <td>24.94</td>\n",
       "      <td>24.75</td>\n",
       "      <td>24.56</td>\n",
       "      <td>25.44</td>\n",
       "      <td>121</td>\n",
       "      <td>33</td>\n",
       "      <td>53</td>\n",
       "      <td>40.0</td>\n",
       "      <td>0.930000</td>\n",
       "      <td>0.05</td>\n",
       "      <td>0.123802</td>\n",
       "      <td>0.092685</td>\n",
       "      <td>439.693341</td>\n",
       "      <td>0.646154</td>\n",
       "      <td>0</td>\n",
       "      <td>0</td>\n",
       "      <td>1</td>\n",
       "    </tr>\n",
       "    <tr>\n",
       "      <th>2</th>\n",
       "      <td>2017/12/22</td>\n",
       "      <td>10:50:42</td>\n",
       "      <td>25.00</td>\n",
       "      <td>24.75</td>\n",
       "      <td>24.50</td>\n",
       "      <td>25.44</td>\n",
       "      <td>121</td>\n",
       "      <td>34</td>\n",
       "      <td>53</td>\n",
       "      <td>40.0</td>\n",
       "      <td>0.430000</td>\n",
       "      <td>0.11</td>\n",
       "      <td>0.123802</td>\n",
       "      <td>0.092685</td>\n",
       "      <td>439.693341</td>\n",
       "      <td>0.519231</td>\n",
       "      <td>0</td>\n",
       "      <td>0</td>\n",
       "      <td>1</td>\n",
       "    </tr>\n",
       "    <tr>\n",
       "      <th>3</th>\n",
       "      <td>2017/12/22</td>\n",
       "      <td>10:51:13</td>\n",
       "      <td>25.00</td>\n",
       "      <td>24.75</td>\n",
       "      <td>24.56</td>\n",
       "      <td>25.44</td>\n",
       "      <td>121</td>\n",
       "      <td>34</td>\n",
       "      <td>53</td>\n",
       "      <td>40.0</td>\n",
       "      <td>0.410000</td>\n",
       "      <td>0.10</td>\n",
       "      <td>0.123802</td>\n",
       "      <td>0.092685</td>\n",
       "      <td>439.693341</td>\n",
       "      <td>0.388462</td>\n",
       "      <td>0</td>\n",
       "      <td>0</td>\n",
       "      <td>1</td>\n",
       "    </tr>\n",
       "    <tr>\n",
       "      <th>4</th>\n",
       "      <td>2017/12/22</td>\n",
       "      <td>10:51:44</td>\n",
       "      <td>25.00</td>\n",
       "      <td>24.75</td>\n",
       "      <td>24.56</td>\n",
       "      <td>25.44</td>\n",
       "      <td>121</td>\n",
       "      <td>34</td>\n",
       "      <td>54</td>\n",
       "      <td>40.0</td>\n",
       "      <td>0.180000</td>\n",
       "      <td>0.06</td>\n",
       "      <td>0.123802</td>\n",
       "      <td>0.092685</td>\n",
       "      <td>439.693341</td>\n",
       "      <td>0.253846</td>\n",
       "      <td>0</td>\n",
       "      <td>0</td>\n",
       "      <td>1</td>\n",
       "    </tr>\n",
       "  </tbody>\n",
       "</table>\n",
       "</div>"
      ],
      "text/plain": [
       "         Date      Time  S1_Temp  S2_Temp  S3_Temp  S4_Temp  S1_Light  \\\n",
       "0  2017/12/22  10:49:41    24.94    24.75    24.56    25.38       121   \n",
       "1  2017/12/22  10:50:12    24.94    24.75    24.56    25.44       121   \n",
       "2  2017/12/22  10:50:42    25.00    24.75    24.50    25.44       121   \n",
       "3  2017/12/22  10:51:13    25.00    24.75    24.56    25.44       121   \n",
       "4  2017/12/22  10:51:44    25.00    24.75    24.56    25.44       121   \n",
       "\n",
       "   S2_Light  S3_Light  S4_Light  S1_Sound  S2_Sound  S3_Sound  S4_Sound  \\\n",
       "0        34        53      40.0  0.129655      0.19  0.123802  0.092685   \n",
       "1        33        53      40.0  0.930000      0.05  0.123802  0.092685   \n",
       "2        34        53      40.0  0.430000      0.11  0.123802  0.092685   \n",
       "3        34        53      40.0  0.410000      0.10  0.123802  0.092685   \n",
       "4        34        54      40.0  0.180000      0.06  0.123802  0.092685   \n",
       "\n",
       "       S5_CO2  S5_CO2_Slope  S6_PIR  S7_PIR  Room_Occupancy_Count  \n",
       "0  439.693341      0.769231       0       0                     1  \n",
       "1  439.693341      0.646154       0       0                     1  \n",
       "2  439.693341      0.519231       0       0                     1  \n",
       "3  439.693341      0.388462       0       0                     1  \n",
       "4  439.693341      0.253846       0       0                     1  "
      ]
     },
     "execution_count": 66,
     "metadata": {},
     "output_type": "execute_result"
    }
   ],
   "source": [
    "extreme_CO2 = df[(df['S5_CO2_Slope'] > outliers.min()) & (df['S5_CO2_Slope'] < outliers.max())]\n",
    "extreme_CO2.head()"
   ]
  },
  {
   "cell_type": "code",
   "execution_count": 67,
   "id": "21f308f8",
   "metadata": {},
   "outputs": [
    {
     "name": "stdout",
     "output_type": "stream",
     "text": [
      "13.567670435464011\n"
     ]
    }
   ],
   "source": [
    "occ_not_0 = extreme_CO2[extreme_CO2['Room_Occupancy_Count'] > 0]\n",
    "print(len(occ_not_0)/len(extreme_CO2) * 100)"
   ]
  },
  {
   "cell_type": "markdown",
   "id": "6e8e4b8f",
   "metadata": {},
   "source": [
    "### ---------> OBSERVATION\n",
    "****\n",
    "Most of the extreme CO2 cases do not have the number of people at least 1 so I want to drop only some cases having no people in that room"
   ]
  },
  {
   "cell_type": "code",
   "execution_count": 68,
   "id": "5812b42b",
   "metadata": {},
   "outputs": [],
   "source": [
    "df = df[df['S5_CO2_Slope'] < 5]"
   ]
  },
  {
   "cell_type": "markdown",
   "id": "2129acfb",
   "metadata": {},
   "source": [
    "<a id=\"3.2\"></a>\n",
    "# 3.2 Correlation between columns"
   ]
  },
  {
   "cell_type": "code",
   "execution_count": 69,
   "id": "4e98d2c3",
   "metadata": {},
   "outputs": [
    {
     "name": "stderr",
     "output_type": "stream",
     "text": [
      "/var/folders/l5/0ygc5m0x66xc7d4v2qzjjv0h0000gn/T/ipykernel_99054/2733726890.py:3: DeprecationWarning: `np.bool` is a deprecated alias for the builtin `bool`. To silence this warning, use `bool` by itself. Doing this will not modify any behavior and is safe. If you specifically wanted the numpy scalar type, use `np.bool_` here.\n",
      "Deprecated in NumPy 1.20; for more details and guidance: https://numpy.org/devdocs/release/1.20.0-notes.html#deprecations\n",
      "  mask = np.zeros_like(df.corr(), dtype=np.bool)\n"
     ]
    },
    {
     "data": {
      "text/plain": [
       "Text(0.5, 1.03, 'Correlations Among Features')"
      ]
     },
     "execution_count": 69,
     "metadata": {},
     "output_type": "execute_result"
    },
    {
     "data": {
      "image/png": "[encoded data removed]",
      "text/plain": [
       "<Figure size 1080x864 with 2 Axes>"
      ]
     },
     "metadata": {},
     "output_type": "display_data"
    }
   ],
   "source": [
    "## heatmeap to see the correlation between features. \n",
    "# Generate a mask for the upper triangle (taken from seaborn example gallery)\n",
    "mask = np.zeros_like(df.corr(), dtype=np.bool)\n",
    "mask[np.triu_indices_from(mask)] = True\n",
    "sns.set_style('whitegrid')\n",
    "plt.subplots(figsize = (15,12))\n",
    "sns.heatmap(df.corr(), annot=True, mask = mask,\n",
    "            cmap = 'RdBu', ## in order to reverse the bar replace \"RdBu\" with \"RdBu_r\"\n",
    "            linewidths=.9, linecolor='white', fmt='.2g', center = 0, square=True)\n",
    "plt.title(\"Correlations Among Features\", y = 1.03,fontsize = 20, pad = 40)"
   ]
  },
  {
   "cell_type": "markdown",
   "id": "0f83424c",
   "metadata": {},
   "source": [
    "### ------------> OBSERVATION\n",
    "***\n",
    "This heat map demonstrates the correlation between columns in the dataset and there is all proportional correlation and no inverse proportional correlation. From this heatmap, there are some insight are gained:\n",
    "> ***Correlation between columns***: \n",
    ">> - ***Correlation between Light***:\n",
    ">> - ***Correlation between Light***:\n",
    ">> - ***Correlation between Light***:\n",
    ">> - ***Correlation between Light***:\n",
    ">> - ***Correlation between Light***:\n",
    "\n",
    "\n",
    "> ***Relationship between the Room Occupation and other factors***: "
   ]
  },
  {
   "cell_type": "markdown",
   "id": "79946a65",
   "metadata": {},
   "source": [
    "<a id=\"3.2.1\"></a>\n",
    "## 3.2.1 Correlation of the temperature sensors"
   ]
  },
  {
   "cell_type": "markdown",
   "id": "438a8320",
   "metadata": {},
   "source": [
    "> **`S1_Temp` and `S2_Temp`**"
   ]
  },
  {
   "cell_type": "code",
   "execution_count": 70,
   "id": "d9747527",
   "metadata": {},
   "outputs": [
    {
     "data": {
      "image/png": "[encoded data removed]",
      "text/plain": [
       "<Figure size 432x288 with 1 Axes>"
      ]
     },
     "metadata": {},
     "output_type": "display_data"
    }
   ],
   "source": [
    "import matplotlib.pyplot as plt\n",
    "from scipy import stats\n",
    "\n",
    "slope, intercept, r, p, std_err = stats.linregress(df['S1_Temp'], df['S2_Temp'])\n",
    "\n",
    "def myfunc(x):\n",
    "  return slope * x + intercept\n",
    "\n",
    "mymodel = list(map(myfunc, df['S1_Temp']))\n",
    "\n",
    "plt.scatter(df['S1_Temp'], df['S2_Temp'])\n",
    "plt.plot(df['S1_Temp'], mymodel)\n",
    "plt.show()"
   ]
  },
  {
   "cell_type": "code",
   "execution_count": 71,
   "id": "dbcc84ec",
   "metadata": {},
   "outputs": [
    {
     "data": {
      "text/plain": [
       "0.8933510879516449"
      ]
     },
     "execution_count": 71,
     "metadata": {},
     "output_type": "execute_result"
    }
   ],
   "source": [
    "r"
   ]
  },
  {
   "cell_type": "code",
   "execution_count": 72,
   "id": "c84fa545",
   "metadata": {},
   "outputs": [
    {
     "data": {
      "text/plain": [
       "0.2657411501789291"
      ]
     },
     "execution_count": 72,
     "metadata": {},
     "output_type": "execute_result"
    }
   ],
   "source": [
    "intercept"
   ]
  },
  {
   "cell_type": "code",
   "execution_count": 73,
   "id": "543e5aa3",
   "metadata": {},
   "outputs": [
    {
     "data": {
      "text/plain": [
       "0.9900451867539118"
      ]
     },
     "execution_count": 73,
     "metadata": {},
     "output_type": "execute_result"
    }
   ],
   "source": [
    "slope"
   ]
  },
  {
   "cell_type": "code",
   "execution_count": 74,
   "id": "11c89410",
   "metadata": {},
   "outputs": [
    {
     "data": {
      "text/plain": [
       "0.0"
      ]
     },
     "execution_count": 74,
     "metadata": {},
     "output_type": "execute_result"
    }
   ],
   "source": [
    "p"
   ]
  },
  {
   "cell_type": "code",
   "execution_count": null,
   "id": "7838b2f6",
   "metadata": {},
   "outputs": [],
   "source": []
  },
  {
   "cell_type": "code",
   "execution_count": null,
   "id": "d1199c90",
   "metadata": {},
   "outputs": [],
   "source": []
  },
  {
   "cell_type": "code",
   "execution_count": null,
   "id": "8e5d7e36",
   "metadata": {},
   "outputs": [],
   "source": []
  },
  {
   "cell_type": "code",
   "execution_count": null,
   "id": "591e6cc3",
   "metadata": {},
   "outputs": [],
   "source": []
  },
  {
   "cell_type": "code",
   "execution_count": null,
   "id": "2932ad13",
   "metadata": {},
   "outputs": [],
   "source": []
  },
  {
   "cell_type": "code",
   "execution_count": null,
   "id": "6a1e9992",
   "metadata": {},
   "outputs": [],
   "source": []
  },
  {
   "cell_type": "code",
   "execution_count": null,
   "id": "974d4ca1",
   "metadata": {},
   "outputs": [],
   "source": []
  },
  {
   "cell_type": "code",
   "execution_count": null,
   "id": "ba03f705",
   "metadata": {},
   "outputs": [],
   "source": []
  },
  {
   "cell_type": "code",
   "execution_count": null,
   "id": "3c8c7303",
   "metadata": {},
   "outputs": [],
   "source": []
  },
  {
   "cell_type": "code",
   "execution_count": null,
   "id": "088944b6",
   "metadata": {},
   "outputs": [],
   "source": []
  },
  {
   "cell_type": "code",
   "execution_count": null,
   "id": "97a89334",
   "metadata": {},
   "outputs": [],
   "source": []
  },
  {
   "cell_type": "code",
   "execution_count": null,
   "id": "7a022017",
   "metadata": {},
   "outputs": [],
   "source": []
  },
  {
   "cell_type": "code",
   "execution_count": null,
   "id": "a9e96dbc",
   "metadata": {},
   "outputs": [],
   "source": []
  },
  {
   "cell_type": "code",
   "execution_count": null,
   "id": "6e9237ba",
   "metadata": {},
   "outputs": [],
   "source": []
  },
  {
   "cell_type": "code",
   "execution_count": null,
   "id": "1d4e94e2",
   "metadata": {},
   "outputs": [],
   "source": []
  },
  {
   "cell_type": "code",
   "execution_count": null,
   "id": "55fc751d",
   "metadata": {},
   "outputs": [],
   "source": []
  },
  {
   "cell_type": "code",
   "execution_count": null,
   "id": "1fc301af",
   "metadata": {},
   "outputs": [],
   "source": []
  }
 ],
 "metadata": {
  "kernelspec": {
   "display_name": "Python 3 (ipykernel)",
   "language": "python",
   "name": "python3"
  },
  "language_info": {
   "codemirror_mode": {
    "name": "ipython",
    "version": 3
   },
   "file_extension": ".py",
   "mimetype": "text/x-python",
   "name": "python",
   "nbconvert_exporter": "python",
   "pygments_lexer": "ipython3",
   "version": "3.9.7"
  }
 },
 "nbformat": 4,
 "nbformat_minor": 5
}
